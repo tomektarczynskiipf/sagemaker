{
 "cells": [
  {
   "cell_type": "code",
   "execution_count": 2,
   "id": "0d77207a-962f-4fb8-9d03-793532fc0e82",
   "metadata": {},
   "outputs": [
    {
     "name": "stdout",
     "output_type": "stream",
     "text": [
      "sagemaker.config INFO - Not applying SDK defaults from location: /etc/xdg/sagemaker/config.yaml\n",
      "sagemaker.config INFO - Not applying SDK defaults from location: /home/sagemaker-user/.config/sagemaker/config.yaml\n"
     ]
    }
   ],
   "source": [
    "from sklearn.model_selection import train_test_split\n",
    "from sagemaker.experiments import Run, load_run\n",
    "import pandas as pd\n",
    "import boto3\n",
    "from sklearn.linear_model import LinearRegression\n",
    "from sklearn.metrics import mean_squared_error"
   ]
  },
  {
   "cell_type": "markdown",
   "id": "1743b2bb-cad6-48d3-bc8e-7cbdba8b3c94",
   "metadata": {},
   "source": [
    "### read data"
   ]
  },
  {
   "cell_type": "code",
   "execution_count": 3,
   "id": "83dbf019-6a4f-40c1-89b0-f44379c2b28f",
   "metadata": {},
   "outputs": [],
   "source": [
    "df = pd.read_csv('data.csv')"
   ]
  },
  {
   "cell_type": "markdown",
   "id": "ff974249-1af9-42a7-a4ce-8239aae0b5fc",
   "metadata": {},
   "source": [
    "### perform a single experiment"
   ]
  },
  {
   "cell_type": "code",
   "execution_count": 6,
   "id": "1c2d31ad-67bf-48dc-b43e-d449a8e3ca8b",
   "metadata": {},
   "outputs": [
    {
     "name": "stderr",
     "output_type": "stream",
     "text": [
      "WARNING:sagemaker.experiments.run:run_name is explicitly supplied in load_run, which will be prioritized to load the Run object. In other words, the run name in the experiment config, fetched from the job environment or the current run context, will be ignored.\n",
      "WARNING:sagemaker.experiments.run:run_name is explicitly supplied in load_run, which will be prioritized to load the Run object. In other words, the run name in the experiment config, fetched from the job environment or the current run context, will be ignored.\n"
     ]
    },
    {
     "name": "stdout",
     "output_type": "stream",
     "text": [
      "Mean Squared Error Test: 44527.37283007483\n",
      "Mean Squared Error Train: 44720.84487486644\n"
     ]
    },
    {
     "name": "stderr",
     "output_type": "stream",
     "text": [
      "INFO:sagemaker.experiments.run:The run (linear-regression-trial-multiple3) under experiment (00-sagemaker-test) already exists. Loading it.\n",
      "WARNING:sagemaker.experiments.run:run_name is explicitly supplied in load_run, which will be prioritized to load the Run object. In other words, the run name in the experiment config, fetched from the job environment or the current run context, will be ignored.\n"
     ]
    },
    {
     "name": "stdout",
     "output_type": "stream",
     "text": [
      "Mean Squared Error Test: 43810.69762578341\n",
      "Mean Squared Error Train: 44887.105589734274\n"
     ]
    },
    {
     "name": "stderr",
     "output_type": "stream",
     "text": [
      "INFO:sagemaker.experiments.run:The run (linear-regression-trial-multiple3) under experiment (00-sagemaker-test) already exists. Loading it.\n",
      "WARNING:sagemaker.experiments.run:run_name is explicitly supplied in load_run, which will be prioritized to load the Run object. In other words, the run name in the experiment config, fetched from the job environment or the current run context, will be ignored.\n"
     ]
    },
    {
     "name": "stdout",
     "output_type": "stream",
     "text": [
      "Mean Squared Error Test: 42563.710839391075\n",
      "Mean Squared Error Train: 45198.54662596113\n"
     ]
    },
    {
     "name": "stderr",
     "output_type": "stream",
     "text": [
      "INFO:sagemaker.experiments.run:The run (linear-regression-trial-multiple3) under experiment (00-sagemaker-test) already exists. Loading it.\n",
      "WARNING:sagemaker.experiments.run:run_name is explicitly supplied in load_run, which will be prioritized to load the Run object. In other words, the run name in the experiment config, fetched from the job environment or the current run context, will be ignored.\n"
     ]
    },
    {
     "name": "stdout",
     "output_type": "stream",
     "text": [
      "Mean Squared Error Test: 43388.68720468627\n",
      "Mean Squared Error Train: 44991.808250246344\n"
     ]
    },
    {
     "name": "stderr",
     "output_type": "stream",
     "text": [
      "INFO:sagemaker.experiments.run:The run (linear-regression-trial-multiple3) under experiment (00-sagemaker-test) already exists. Loading it.\n",
      "WARNING:sagemaker.experiments.run:run_name is explicitly supplied in load_run, which will be prioritized to load the Run object. In other words, the run name in the experiment config, fetched from the job environment or the current run context, will be ignored.\n"
     ]
    },
    {
     "name": "stdout",
     "output_type": "stream",
     "text": [
      "Mean Squared Error Test: 45006.217982282375\n",
      "Mean Squared Error Train: 44594.16779098184\n"
     ]
    },
    {
     "name": "stderr",
     "output_type": "stream",
     "text": [
      "INFO:sagemaker.experiments.run:The run (linear-regression-trial-multiple3) under experiment (00-sagemaker-test) already exists. Loading it.\n",
      "WARNING:sagemaker.experiments.run:run_name is explicitly supplied in load_run, which will be prioritized to load the Run object. In other words, the run name in the experiment config, fetched from the job environment or the current run context, will be ignored.\n"
     ]
    },
    {
     "name": "stdout",
     "output_type": "stream",
     "text": [
      "Mean Squared Error Test: 47795.90236052197\n",
      "Mean Squared Error Train: 43901.014464108994\n"
     ]
    },
    {
     "name": "stderr",
     "output_type": "stream",
     "text": [
      "INFO:sagemaker.experiments.run:The run (linear-regression-trial-multiple3) under experiment (00-sagemaker-test) already exists. Loading it.\n",
      "WARNING:sagemaker.experiments.run:run_name is explicitly supplied in load_run, which will be prioritized to load the Run object. In other words, the run name in the experiment config, fetched from the job environment or the current run context, will be ignored.\n"
     ]
    },
    {
     "name": "stdout",
     "output_type": "stream",
     "text": [
      "Mean Squared Error Test: 48034.36007810326\n",
      "Mean Squared Error Train: 43860.46455795622\n"
     ]
    },
    {
     "name": "stderr",
     "output_type": "stream",
     "text": [
      "INFO:sagemaker.experiments.run:The run (linear-regression-trial-multiple3) under experiment (00-sagemaker-test) already exists. Loading it.\n",
      "WARNING:sagemaker.experiments.run:run_name is explicitly supplied in load_run, which will be prioritized to load the Run object. In other words, the run name in the experiment config, fetched from the job environment or the current run context, will be ignored.\n"
     ]
    },
    {
     "name": "stdout",
     "output_type": "stream",
     "text": [
      "Mean Squared Error Test: 45247.04794151583\n",
      "Mean Squared Error Train: 44526.9465653736\n"
     ]
    },
    {
     "name": "stderr",
     "output_type": "stream",
     "text": [
      "INFO:sagemaker.experiments.run:The run (linear-regression-trial-multiple3) under experiment (00-sagemaker-test) already exists. Loading it.\n",
      "WARNING:sagemaker.experiments.run:run_name is explicitly supplied in load_run, which will be prioritized to load the Run object. In other words, the run name in the experiment config, fetched from the job environment or the current run context, will be ignored.\n"
     ]
    },
    {
     "name": "stdout",
     "output_type": "stream",
     "text": [
      "Mean Squared Error Test: 43624.40704029288\n",
      "Mean Squared Error Train: 44941.59784450036\n"
     ]
    },
    {
     "name": "stderr",
     "output_type": "stream",
     "text": [
      "INFO:sagemaker.experiments.run:The run (linear-regression-trial-multiple3) under experiment (00-sagemaker-test) already exists. Loading it.\n"
     ]
    },
    {
     "name": "stdout",
     "output_type": "stream",
     "text": [
      "Mean Squared Error Test: 45716.935263820276\n",
      "Mean Squared Error Train: 44415.79168665442\n"
     ]
    },
    {
     "name": "stderr",
     "output_type": "stream",
     "text": [
      "WARNING:sagemaker.experiments.run:run_name is explicitly supplied in load_run, which will be prioritized to load the Run object. In other words, the run name in the experiment config, fetched from the job environment or the current run context, will be ignored.\n",
      "INFO:sagemaker.experiments.run:The run (linear-regression-trial-multiple3) under experiment (00-sagemaker-test) already exists. Loading it.\n",
      "WARNING:sagemaker.experiments.run:run_name is explicitly supplied in load_run, which will be prioritized to load the Run object. In other words, the run name in the experiment config, fetched from the job environment or the current run context, will be ignored.\n"
     ]
    },
    {
     "name": "stdout",
     "output_type": "stream",
     "text": [
      "Mean Squared Error Test: 44389.858955676376\n",
      "Mean Squared Error Train: 44742.00242028987\n"
     ]
    },
    {
     "name": "stderr",
     "output_type": "stream",
     "text": [
      "INFO:sagemaker.experiments.run:The run (linear-regression-trial-multiple3) under experiment (00-sagemaker-test) already exists. Loading it.\n",
      "WARNING:sagemaker.experiments.run:run_name is explicitly supplied in load_run, which will be prioritized to load the Run object. In other words, the run name in the experiment config, fetched from the job environment or the current run context, will be ignored.\n"
     ]
    },
    {
     "name": "stdout",
     "output_type": "stream",
     "text": [
      "Mean Squared Error Test: 42419.76040823187\n",
      "Mean Squared Error Train: 45246.94302189208\n"
     ]
    },
    {
     "name": "stderr",
     "output_type": "stream",
     "text": [
      "INFO:sagemaker.experiments.run:The run (linear-regression-trial-multiple3) under experiment (00-sagemaker-test) already exists. Loading it.\n"
     ]
    },
    {
     "name": "stdout",
     "output_type": "stream",
     "text": [
      "Mean Squared Error Test: 46122.354693741094\n",
      "Mean Squared Error Train: 44322.64473096693\n"
     ]
    },
    {
     "name": "stderr",
     "output_type": "stream",
     "text": [
      "WARNING:sagemaker.experiments.run:run_name is explicitly supplied in load_run, which will be prioritized to load the Run object. In other words, the run name in the experiment config, fetched from the job environment or the current run context, will be ignored.\n",
      "INFO:sagemaker.experiments.run:The run (linear-regression-trial-multiple3) under experiment (00-sagemaker-test) already exists. Loading it.\n",
      "WARNING:sagemaker.experiments.run:run_name is explicitly supplied in load_run, which will be prioritized to load the Run object. In other words, the run name in the experiment config, fetched from the job environment or the current run context, will be ignored.\n"
     ]
    },
    {
     "name": "stdout",
     "output_type": "stream",
     "text": [
      "Mean Squared Error Test: 44839.542172507376\n",
      "Mean Squared Error Train: 44629.37663586471\n"
     ]
    },
    {
     "name": "stderr",
     "output_type": "stream",
     "text": [
      "INFO:sagemaker.experiments.run:The run (linear-regression-trial-multiple3) under experiment (00-sagemaker-test) already exists. Loading it.\n",
      "WARNING:sagemaker.experiments.run:run_name is explicitly supplied in load_run, which will be prioritized to load the Run object. In other words, the run name in the experiment config, fetched from the job environment or the current run context, will be ignored.\n"
     ]
    },
    {
     "name": "stdout",
     "output_type": "stream",
     "text": [
      "Mean Squared Error Test: 43657.07229760968\n",
      "Mean Squared Error Train: 44928.69917243514\n"
     ]
    },
    {
     "name": "stderr",
     "output_type": "stream",
     "text": [
      "INFO:sagemaker.experiments.run:The run (linear-regression-trial-multiple3) under experiment (00-sagemaker-test) already exists. Loading it.\n"
     ]
    },
    {
     "name": "stdout",
     "output_type": "stream",
     "text": [
      "Mean Squared Error Test: 46398.65362217196\n",
      "Mean Squared Error Train: 44236.7199022112\n"
     ]
    },
    {
     "name": "stderr",
     "output_type": "stream",
     "text": [
      "WARNING:sagemaker.experiments.run:run_name is explicitly supplied in load_run, which will be prioritized to load the Run object. In other words, the run name in the experiment config, fetched from the job environment or the current run context, will be ignored.\n",
      "INFO:sagemaker.experiments.run:The run (linear-regression-trial-multiple3) under experiment (00-sagemaker-test) already exists. Loading it.\n",
      "WARNING:sagemaker.experiments.run:run_name is explicitly supplied in load_run, which will be prioritized to load the Run object. In other words, the run name in the experiment config, fetched from the job environment or the current run context, will be ignored.\n"
     ]
    },
    {
     "name": "stdout",
     "output_type": "stream",
     "text": [
      "Mean Squared Error Test: 47065.69354313803\n",
      "Mean Squared Error Train: 44093.57758971171\n"
     ]
    },
    {
     "name": "stderr",
     "output_type": "stream",
     "text": [
      "INFO:sagemaker.experiments.run:The run (linear-regression-trial-multiple3) under experiment (00-sagemaker-test) already exists. Loading it.\n",
      "WARNING:sagemaker.experiments.run:run_name is explicitly supplied in load_run, which will be prioritized to load the Run object. In other words, the run name in the experiment config, fetched from the job environment or the current run context, will be ignored.\n"
     ]
    },
    {
     "name": "stdout",
     "output_type": "stream",
     "text": [
      "Mean Squared Error Test: 43279.007649954336\n",
      "Mean Squared Error Train: 45039.37640569854\n"
     ]
    },
    {
     "name": "stderr",
     "output_type": "stream",
     "text": [
      "INFO:sagemaker.experiments.run:The run (linear-regression-trial-multiple3) under experiment (00-sagemaker-test) already exists. Loading it.\n",
      "WARNING:sagemaker.experiments.run:run_name is explicitly supplied in load_run, which will be prioritized to load the Run object. In other words, the run name in the experiment config, fetched from the job environment or the current run context, will be ignored.\n"
     ]
    },
    {
     "name": "stdout",
     "output_type": "stream",
     "text": [
      "Mean Squared Error Test: 41144.38374124655\n",
      "Mean Squared Error Train: 45553.3819142741\n"
     ]
    },
    {
     "name": "stderr",
     "output_type": "stream",
     "text": [
      "INFO:sagemaker.experiments.run:The run (linear-regression-trial-multiple3) under experiment (00-sagemaker-test) already exists. Loading it.\n"
     ]
    },
    {
     "name": "stdout",
     "output_type": "stream",
     "text": [
      "Mean Squared Error Test: 46291.02463293657\n",
      "Mean Squared Error Train: 44279.6554017647\n"
     ]
    }
   ],
   "source": [
    "# Settings\n",
    "experiment_name = \"00-sagemaker-test\"\n",
    "variables_x = ['aapl.us_zamkniecie', 'mcd.us_zamkniecie', 'msft.us_zamkniecie']\n",
    "variable_y = '^spx_zamkniecie'\n",
    "run_name = f\"linear-regression-trial-multiple3\"\n",
    "mse_train_list = []\n",
    "mse_test_list = []\n",
    "\n",
    "for i in range(20):\n",
    "    # Prepare the dataset\n",
    "    X = df[variables_x]\n",
    "    y = df[variable_y]\n",
    "    X_train, X_test, y_train, y_test = train_test_split(X, y, test_size=0.2, random_state=i)\n",
    "    \n",
    "    #with Run(experiment_name = experiment_name) as run:\n",
    "    with load_run(experiment_name = experiment_name, run_name = run_name) as run:\n",
    "        # Log parameters\n",
    "        run.log_parameter(\"variables\", ','.join(variables_x))\n",
    "        run.log_parameter(\"power\", 1)\n",
    "        \n",
    "        # Log files\n",
    "        # Files can be logged either as input files or output files (default)\n",
    "        run.log_file('/home/sagemaker-user/STOCKS/CHARTS/line_chart.png', is_output = False)\n",
    "    \n",
    "        # Build the model\n",
    "        model = LinearRegression()\n",
    "        model.fit(X_train, y_train)\n",
    "        \n",
    "        # Evaluate the model\n",
    "        y_pred_test = model.predict(X_test)\n",
    "        mse_test = mean_squared_error(y_test, y_pred_test)\n",
    "        mse_test_list += [mse_test]\n",
    "        print(f\"Mean Squared Error Test: {mse_test}\")\n",
    "    \n",
    "        y_pred_train = model.predict(X_train)\n",
    "        mse_train = mean_squared_error(y_train, y_pred_train)\n",
    "        mse_train_list += [mse_train]\n",
    "        print(f\"Mean Squared Error Train: {mse_train}\")    \n",
    "        \n",
    "        # Define metrics to log\n",
    "        run.log_metric(name = \"MSE test\", value = mse_test)\n",
    "        run.log_metric(name = \"MSE train\", value = mse_train)"
   ]
  },
  {
   "cell_type": "code",
   "execution_count": 7,
   "id": "6d9c2e77-fb5b-42f6-b085-93844c0a223b",
   "metadata": {},
   "outputs": [
    {
     "data": {
      "text/plain": [
       "[44720.84487486644,\n",
       " 44887.105589734274,\n",
       " 45198.54662596113,\n",
       " 44991.808250246344,\n",
       " 44594.16779098184,\n",
       " 43901.014464108994,\n",
       " 43860.46455795622,\n",
       " 44526.9465653736,\n",
       " 44941.59784450036,\n",
       " 44415.79168665442,\n",
       " 44742.00242028987,\n",
       " 45246.94302189208,\n",
       " 44322.64473096693,\n",
       " 44629.37663586471,\n",
       " 44928.69917243514,\n",
       " 44236.7199022112,\n",
       " 44093.57758971171,\n",
       " 45039.37640569854,\n",
       " 45553.3819142741,\n",
       " 44279.6554017647]"
      ]
     },
     "execution_count": 7,
     "metadata": {},
     "output_type": "execute_result"
    }
   ],
   "source": [
    "mse_train_list"
   ]
  }
 ],
 "metadata": {
  "kernelspec": {
   "display_name": "Python 3 (ipykernel)",
   "language": "python",
   "name": "python3"
  },
  "language_info": {
   "codemirror_mode": {
    "name": "ipython",
    "version": 3
   },
   "file_extension": ".py",
   "mimetype": "text/x-python",
   "name": "python",
   "nbconvert_exporter": "python",
   "pygments_lexer": "ipython3",
   "version": "3.10.14"
  }
 },
 "nbformat": 4,
 "nbformat_minor": 5
}
