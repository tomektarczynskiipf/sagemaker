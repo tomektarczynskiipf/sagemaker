{
 "cells": [
  {
   "cell_type": "code",
   "execution_count": 6,
   "id": "a9073d17-9688-4210-9eda-4fdcb530df6d",
   "metadata": {},
   "outputs": [
    {
     "name": "stdout",
     "output_type": "stream",
     "text": [
      "{\n",
      "    \"stateMachineArn\": \"arn:aws:states:eu-west-1:211125740051:stateMachine:01-simple-processing-3\",\n",
      "    \"creationDate\": \"2024-07-11T08:55:46.857000+00:00\"\n",
      "}\n"
     ]
    }
   ],
   "source": [
    "!aws stepfunctions create-state-machine \\\n",
    "  --name \"01-simple-processing-3\" \\\n",
    "  --definition file://01_simple_processing.json \\\n",
    "  --role-arn arn:aws:iam::211125740051:role/service-role/StepFunctions-01-simple-processing2-role-u1svwvvby"
   ]
  }
 ],
 "metadata": {
  "kernelspec": {
   "display_name": "Python 3 (ipykernel)",
   "language": "python",
   "name": "python3"
  },
  "language_info": {
   "codemirror_mode": {
    "name": "ipython",
    "version": 3
   },
   "file_extension": ".py",
   "mimetype": "text/x-python",
   "name": "python",
   "nbconvert_exporter": "python",
   "pygments_lexer": "ipython3",
   "version": "3.10.14"
  }
 },
 "nbformat": 4,
 "nbformat_minor": 5
}
