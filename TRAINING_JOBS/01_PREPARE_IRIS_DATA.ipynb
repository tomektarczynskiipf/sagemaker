{
 "cells": [
  {
   "cell_type": "code",
   "execution_count": 46,
   "id": "11c8b0f7-342c-417d-b1db-fcd3a8ea8d0b",
   "metadata": {},
   "outputs": [],
   "source": [
    "import os\n",
    "import pandas as pd\n",
    "import numpy as np\n",
    "\n",
    "from sklearn import datasets\n",
    "from sklearn.model_selection import train_test_split"
   ]
  },
  {
   "cell_type": "markdown",
   "id": "44916c59-56d7-4460-ba08-730eb077c7fe",
   "metadata": {},
   "source": [
    "SETTINGS"
   ]
  },
  {
   "cell_type": "code",
   "execution_count": 47,
   "id": "bc2fcc56-990b-4f02-ad8c-627885bc669e",
   "metadata": {},
   "outputs": [],
   "source": [
    "bucket_name = 'sagemaker-bucket-ds'\n",
    "project_path_s3 = 'training-jobs'"
   ]
  },
  {
   "cell_type": "markdown",
   "id": "52dc0b15-a31d-4a41-b645-17b667f29c5f",
   "metadata": {},
   "source": [
    "All data used in training jobs must be in a specific format:\n",
    "- Data in csv format (',' as separator)\n",
    "- No headers\n",
    "- Target as the first column"
   ]
  },
  {
   "cell_type": "markdown",
   "id": "cd203438-d018-4fde-b6cd-92f0b784e834",
   "metadata": {},
   "source": [
    "LOAD IRIS DATA"
   ]
  },
  {
   "cell_type": "code",
   "execution_count": 48,
   "id": "0c0eced3-6b9c-4536-ab24-78e625e1de61",
   "metadata": {},
   "outputs": [
    {
     "data": {
      "text/html": [
       "<div>\n",
       "<style scoped>\n",
       "    .dataframe tbody tr th:only-of-type {\n",
       "        vertical-align: middle;\n",
       "    }\n",
       "\n",
       "    .dataframe tbody tr th {\n",
       "        vertical-align: top;\n",
       "    }\n",
       "\n",
       "    .dataframe thead th {\n",
       "        text-align: right;\n",
       "    }\n",
       "</style>\n",
       "<table border=\"1\" class=\"dataframe\">\n",
       "  <thead>\n",
       "    <tr style=\"text-align: right;\">\n",
       "      <th></th>\n",
       "      <th>class</th>\n",
       "      <th>sepal_length_cm</th>\n",
       "      <th>sepal_width_cm</th>\n",
       "      <th>petal_length_cm</th>\n",
       "      <th>petal_width_cm</th>\n",
       "    </tr>\n",
       "  </thead>\n",
       "  <tbody>\n",
       "    <tr>\n",
       "      <th>0</th>\n",
       "      <td>0</td>\n",
       "      <td>5.1</td>\n",
       "      <td>3.5</td>\n",
       "      <td>1.4</td>\n",
       "      <td>0.2</td>\n",
       "    </tr>\n",
       "    <tr>\n",
       "      <th>1</th>\n",
       "      <td>0</td>\n",
       "      <td>4.9</td>\n",
       "      <td>3.0</td>\n",
       "      <td>1.4</td>\n",
       "      <td>0.2</td>\n",
       "    </tr>\n",
       "    <tr>\n",
       "      <th>2</th>\n",
       "      <td>0</td>\n",
       "      <td>4.7</td>\n",
       "      <td>3.2</td>\n",
       "      <td>1.3</td>\n",
       "      <td>0.2</td>\n",
       "    </tr>\n",
       "    <tr>\n",
       "      <th>3</th>\n",
       "      <td>0</td>\n",
       "      <td>4.6</td>\n",
       "      <td>3.1</td>\n",
       "      <td>1.5</td>\n",
       "      <td>0.2</td>\n",
       "    </tr>\n",
       "    <tr>\n",
       "      <th>4</th>\n",
       "      <td>0</td>\n",
       "      <td>5.0</td>\n",
       "      <td>3.6</td>\n",
       "      <td>1.4</td>\n",
       "      <td>0.2</td>\n",
       "    </tr>\n",
       "  </tbody>\n",
       "</table>\n",
       "</div>"
      ],
      "text/plain": [
       "   class  sepal_length_cm  sepal_width_cm  petal_length_cm  petal_width_cm\n",
       "0      0              5.1             3.5              1.4             0.2\n",
       "1      0              4.9             3.0              1.4             0.2\n",
       "2      0              4.7             3.2              1.3             0.2\n",
       "3      0              4.6             3.1              1.5             0.2\n",
       "4      0              5.0             3.6              1.4             0.2"
      ]
     },
     "execution_count": 48,
     "metadata": {},
     "output_type": "execute_result"
    }
   ],
   "source": [
    "iris = datasets.load_iris()\n",
    "df = pd.DataFrame(data=iris.data, columns=iris.feature_names)\n",
    "df[\"class\"] = pd.Series(iris.target)\n",
    "df = df[df['class'].isin([0, 1])] # Lets keep only class 0 and 1 to have binary classification\n",
    "df = df[[list(df.columns)[-1]] + list(df.columns)[:-1]] # Reorder target as the first column\n",
    "df.columns = df.columns.str.replace(' ', '_').str.replace('(', '').str.replace(')', '')\n",
    "df.head()"
   ]
  },
  {
   "cell_type": "markdown",
   "id": "33d5a3f4-e494-415c-9fb4-7e225684cdba",
   "metadata": {},
   "source": [
    "SPLIT INTO TRAIN TEST"
   ]
  },
  {
   "cell_type": "code",
   "execution_count": 49,
   "id": "83789de4-2748-4071-b5ed-6a70d0f282ee",
   "metadata": {},
   "outputs": [],
   "source": [
    "train_df, test_df = train_test_split(df, test_size=0.33, random_state=42, stratify=df[\"class\"])"
   ]
  },
  {
   "cell_type": "markdown",
   "id": "fa938c9b-4301-43cd-9652-48fcf3d07d44",
   "metadata": {},
   "source": [
    "SAVE DATA INTO LOCAL FOLDER"
   ]
  },
  {
   "cell_type": "code",
   "execution_count": 50,
   "id": "f40196b0-6398-4aab-8f01-4e5f9e81f5fd",
   "metadata": {},
   "outputs": [],
   "source": [
    "os.makedirs(\"DATA\", exist_ok=True) # Create data folder\n",
    "\n",
    "iris_train = train_df.to_numpy()\n",
    "np.savetxt('./DATA/iris_train.csv', iris_train, delimiter=',', fmt='%1.1f, %1.3f, %1.3f, %1.3f, %1.3f')\n",
    "\n",
    "iris_test = test_df.to_numpy()\n",
    "np.savetxt('./DATA/iris_test.csv', iris_test, delimiter=',', fmt='%1.1f, %1.3f, %1.3f, %1.3f, %1.3f')\n",
    "\n",
    "column_names_list = ','.join(df.columns)\n",
    "with open('./DATA/column_names.csv', 'w') as file:\n",
    "    file.write(column_names_list)"
   ]
  },
  {
   "cell_type": "markdown",
   "id": "ac1d98cf-961f-4983-9916-c4bab3790512",
   "metadata": {},
   "source": [
    "DISPLAY TRAIN"
   ]
  },
  {
   "cell_type": "code",
   "execution_count": 51,
   "id": "be694b37-acf2-48f8-989a-195b6e8b2a21",
   "metadata": {},
   "outputs": [
    {
     "name": "stdout",
     "output_type": "stream",
     "text": [
      "1.0, 5.900, 3.200, 4.800, 1.800\n",
      "1.0, 5.800, 2.700, 3.900, 1.200\n",
      "1.0, 6.700, 3.100, 4.400, 1.400\n",
      "1.0, 6.200, 2.900, 4.300, 1.300\n",
      "0.0, 5.500, 4.200, 1.400, 0.200\n",
      "0.0, 5.200, 3.500, 1.500, 0.200\n",
      "0.0, 5.000, 3.500, 1.300, 0.300\n",
      "1.0, 6.800, 2.800, 4.800, 1.400\n",
      "0.0, 5.400, 3.400, 1.500, 0.400\n",
      "1.0, 6.900, 3.100, 4.900, 1.500\n"
     ]
    }
   ],
   "source": [
    "!head ./DATA/iris_train.csv"
   ]
  },
  {
   "cell_type": "markdown",
   "id": "7533d20f-2478-4ab6-b2c2-afb05311cd09",
   "metadata": {},
   "source": [
    "DISPLAY TEST"
   ]
  },
  {
   "cell_type": "code",
   "execution_count": 52,
   "id": "7c4300ad-4781-4f42-a914-1641a83b036b",
   "metadata": {},
   "outputs": [
    {
     "name": "stdout",
     "output_type": "stream",
     "text": [
      "1.0, 5.900, 3.200, 4.800, 1.800\n",
      "1.0, 5.800, 2.700, 3.900, 1.200\n",
      "1.0, 6.700, 3.100, 4.400, 1.400\n",
      "1.0, 6.200, 2.900, 4.300, 1.300\n",
      "0.0, 5.500, 4.200, 1.400, 0.200\n",
      "0.0, 5.200, 3.500, 1.500, 0.200\n",
      "0.0, 5.000, 3.500, 1.300, 0.300\n",
      "1.0, 6.800, 2.800, 4.800, 1.400\n",
      "0.0, 5.400, 3.400, 1.500, 0.400\n",
      "1.0, 6.900, 3.100, 4.900, 1.500\n"
     ]
    }
   ],
   "source": [
    "!head ./DATA/iris_train.csv"
   ]
  },
  {
   "cell_type": "markdown",
   "id": "03f07630-e8f4-44d9-8d2f-31d074a4eefb",
   "metadata": {},
   "source": [
    "COPY DATA INTO S3"
   ]
  },
  {
   "cell_type": "code",
   "execution_count": 53,
   "id": "3a25200f-dd29-45b4-ba9e-090e2b06e7d9",
   "metadata": {},
   "outputs": [
    {
     "name": "stdout",
     "output_type": "stream",
     "text": [
      "upload: DATA/iris_train.csv to s3://sagemaker-bucket-ds/training-jobs/data/train/iris_train.csv\n",
      "upload: DATA/iris_test.csv to s3://sagemaker-bucket-ds/training-jobs/data/test/iris_test.csv\n",
      "upload: DATA/column_names.csv to s3://sagemaker-bucket-ds/training-jobs/data/column_names.csv\n"
     ]
    }
   ],
   "source": [
    "data_s3_path  = os.path.join('s3://', bucket_name, project_path_s3, 'data') \n",
    "train_s3_path = os.path.join(data_s3_path, 'train', 'iris_train.csv')\n",
    "test_s3_path = os.path.join(data_s3_path, 'test', 'iris_test.csv')\n",
    "columns_s3_path = os.path.join(data_s3_path, 'column_names.csv')\n",
    "\n",
    "!aws s3 cp ./DATA/iris_train.csv {train_s3_path}\n",
    "!aws s3 cp ./DATA/iris_test.csv {test_s3_path}\n",
    "!aws s3 cp ./DATA/column_names.csv {columns_s3_path}"
   ]
  },
  {
   "cell_type": "markdown",
   "id": "14a9e95a-20be-40b3-a18c-b8d030c8567d",
   "metadata": {},
   "source": [
    "CHECK WHETHER FILES ARE ON S3"
   ]
  },
  {
   "cell_type": "code",
   "execution_count": 54,
   "id": "6f7493ad-537e-4af9-9879-b640af541d17",
   "metadata": {},
   "outputs": [
    {
     "name": "stdout",
     "output_type": "stream",
     "text": [
      "2024-06-27 08:45:27         67 training-jobs/data/column_names.csv\n",
      "2024-06-27 08:45:25       1056 training-jobs/data/test/iris_test.csv\n",
      "2024-06-27 08:45:24       2144 training-jobs/data/train/iris_train.csv\n"
     ]
    }
   ],
   "source": [
    "!aws s3 ls s3://sagemaker-bucket-ds/training-jobs/data/ --recursive"
   ]
  }
 ],
 "metadata": {
  "kernelspec": {
   "display_name": "Python 3 (ipykernel)",
   "language": "python",
   "name": "python3"
  },
  "language_info": {
   "codemirror_mode": {
    "name": "ipython",
    "version": 3
   },
   "file_extension": ".py",
   "mimetype": "text/x-python",
   "name": "python",
   "nbconvert_exporter": "python",
   "pygments_lexer": "ipython3",
   "version": "3.10.14"
  }
 },
 "nbformat": 4,
 "nbformat_minor": 5
}
