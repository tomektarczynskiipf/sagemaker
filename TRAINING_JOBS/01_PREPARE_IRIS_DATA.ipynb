{
 "cells": [
  {
   "cell_type": "code",
   "execution_count": 1,
   "id": "11c8b0f7-342c-417d-b1db-fcd3a8ea8d0b",
   "metadata": {},
   "outputs": [],
   "source": [
    "import os\n",
    "import pandas as pd\n",
    "import numpy as np\n",
    "\n",
    "from sklearn import datasets\n",
    "from sklearn.model_selection import train_test_split"
   ]
  },
  {
   "cell_type": "markdown",
   "id": "44916c59-56d7-4460-ba08-730eb077c7fe",
   "metadata": {},
   "source": [
    "SETTINGS"
   ]
  },
  {
   "cell_type": "code",
   "execution_count": 2,
   "id": "bc2fcc56-990b-4f02-ad8c-627885bc669e",
   "metadata": {},
   "outputs": [],
   "source": [
    "bucket_name = 'sagemaker-bucket-ds'\n",
    "project_path_s3 = 'training-jobs'"
   ]
  },
  {
   "cell_type": "markdown",
   "id": "52dc0b15-a31d-4a41-b645-17b667f29c5f",
   "metadata": {},
   "source": [
    "All data used in training jobs must be in a specific format:\n",
    "- Data in csv format (',' as separator)\n",
    "- No headers\n",
    "- Target as the first column"
   ]
  },
  {
   "cell_type": "markdown",
   "id": "cd203438-d018-4fde-b6cd-92f0b784e834",
   "metadata": {},
   "source": [
    "LOAD IRIS DATA"
   ]
  },
  {
   "cell_type": "code",
   "execution_count": 3,
   "id": "0c0eced3-6b9c-4536-ab24-78e625e1de61",
   "metadata": {},
   "outputs": [
    {
     "data": {
      "text/html": [
       "<div>\n",
       "<style scoped>\n",
       "    .dataframe tbody tr th:only-of-type {\n",
       "        vertical-align: middle;\n",
       "    }\n",
       "\n",
       "    .dataframe tbody tr th {\n",
       "        vertical-align: top;\n",
       "    }\n",
       "\n",
       "    .dataframe thead th {\n",
       "        text-align: right;\n",
       "    }\n",
       "</style>\n",
       "<table border=\"1\" class=\"dataframe\">\n",
       "  <thead>\n",
       "    <tr style=\"text-align: right;\">\n",
       "      <th></th>\n",
       "      <th>class</th>\n",
       "      <th>sepal_length_cm</th>\n",
       "      <th>sepal_width_cm</th>\n",
       "      <th>petal_length_cm</th>\n",
       "      <th>petal_width_cm</th>\n",
       "    </tr>\n",
       "  </thead>\n",
       "  <tbody>\n",
       "    <tr>\n",
       "      <th>0</th>\n",
       "      <td>0</td>\n",
       "      <td>5.1</td>\n",
       "      <td>3.5</td>\n",
       "      <td>1.4</td>\n",
       "      <td>0.2</td>\n",
       "    </tr>\n",
       "    <tr>\n",
       "      <th>1</th>\n",
       "      <td>0</td>\n",
       "      <td>4.9</td>\n",
       "      <td>3.0</td>\n",
       "      <td>1.4</td>\n",
       "      <td>0.2</td>\n",
       "    </tr>\n",
       "    <tr>\n",
       "      <th>2</th>\n",
       "      <td>0</td>\n",
       "      <td>4.7</td>\n",
       "      <td>3.2</td>\n",
       "      <td>1.3</td>\n",
       "      <td>0.2</td>\n",
       "    </tr>\n",
       "    <tr>\n",
       "      <th>3</th>\n",
       "      <td>0</td>\n",
       "      <td>4.6</td>\n",
       "      <td>3.1</td>\n",
       "      <td>1.5</td>\n",
       "      <td>0.2</td>\n",
       "    </tr>\n",
       "    <tr>\n",
       "      <th>4</th>\n",
       "      <td>0</td>\n",
       "      <td>5.0</td>\n",
       "      <td>3.6</td>\n",
       "      <td>1.4</td>\n",
       "      <td>0.2</td>\n",
       "    </tr>\n",
       "  </tbody>\n",
       "</table>\n",
       "</div>"
      ],
      "text/plain": [
       "   class  sepal_length_cm  sepal_width_cm  petal_length_cm  petal_width_cm\n",
       "0      0              5.1             3.5              1.4             0.2\n",
       "1      0              4.9             3.0              1.4             0.2\n",
       "2      0              4.7             3.2              1.3             0.2\n",
       "3      0              4.6             3.1              1.5             0.2\n",
       "4      0              5.0             3.6              1.4             0.2"
      ]
     },
     "execution_count": 3,
     "metadata": {},
     "output_type": "execute_result"
    }
   ],
   "source": [
    "iris = datasets.load_iris()\n",
    "df = pd.DataFrame(data=iris.data, columns=iris.feature_names)\n",
    "df[\"class\"] = pd.Series(iris.target)\n",
    "df = df[df['class'].isin([0, 1])] # Lets keep only class 0 and 1 to have binary classification\n",
    "df = df[[list(df.columns)[-1]] + list(df.columns)[:-1]] # Reorder target as the first column\n",
    "df.columns = df.columns.str.replace(' ', '_').str.replace('(', '').str.replace(')', '')\n",
    "df.head()"
   ]
  },
  {
   "cell_type": "markdown",
   "id": "33d5a3f4-e494-415c-9fb4-7e225684cdba",
   "metadata": {},
   "source": [
    "SPLIT INTO TRAIN TEST"
   ]
  },
  {
   "cell_type": "code",
   "execution_count": 4,
   "id": "83789de4-2748-4071-b5ed-6a70d0f282ee",
   "metadata": {},
   "outputs": [],
   "source": [
    "train_df, test_df = train_test_split(df, test_size=0.33, random_state=42, stratify=df[\"class\"])"
   ]
  },
  {
   "cell_type": "code",
   "execution_count": 15,
   "id": "e6789657-78cb-47ff-a07c-b7faffe02075",
   "metadata": {},
   "outputs": [
    {
     "data": {
      "text/html": [
       "<div>\n",
       "<style scoped>\n",
       "    .dataframe tbody tr th:only-of-type {\n",
       "        vertical-align: middle;\n",
       "    }\n",
       "\n",
       "    .dataframe tbody tr th {\n",
       "        vertical-align: top;\n",
       "    }\n",
       "\n",
       "    .dataframe thead th {\n",
       "        text-align: right;\n",
       "    }\n",
       "</style>\n",
       "<table border=\"1\" class=\"dataframe\">\n",
       "  <thead>\n",
       "    <tr style=\"text-align: right;\">\n",
       "      <th></th>\n",
       "      <th>class</th>\n",
       "      <th>sepal_length_cm</th>\n",
       "      <th>sepal_width_cm</th>\n",
       "      <th>petal_length_cm</th>\n",
       "      <th>petal_width_cm</th>\n",
       "    </tr>\n",
       "  </thead>\n",
       "  <tbody>\n",
       "    <tr>\n",
       "      <th>99</th>\n",
       "      <td>1</td>\n",
       "      <td>5.7</td>\n",
       "      <td>2.8</td>\n",
       "      <td>4.1</td>\n",
       "      <td>1.3</td>\n",
       "    </tr>\n",
       "    <tr>\n",
       "      <th>1</th>\n",
       "      <td>0</td>\n",
       "      <td>4.9</td>\n",
       "      <td>3.0</td>\n",
       "      <td>1.4</td>\n",
       "      <td>0.2</td>\n",
       "    </tr>\n",
       "    <tr>\n",
       "      <th>56</th>\n",
       "      <td>1</td>\n",
       "      <td>6.3</td>\n",
       "      <td>3.3</td>\n",
       "      <td>4.7</td>\n",
       "      <td>1.6</td>\n",
       "    </tr>\n",
       "    <tr>\n",
       "      <th>2</th>\n",
       "      <td>0</td>\n",
       "      <td>4.7</td>\n",
       "      <td>3.2</td>\n",
       "      <td>1.3</td>\n",
       "      <td>0.2</td>\n",
       "    </tr>\n",
       "    <tr>\n",
       "      <th>7</th>\n",
       "      <td>0</td>\n",
       "      <td>5.0</td>\n",
       "      <td>3.4</td>\n",
       "      <td>1.5</td>\n",
       "      <td>0.2</td>\n",
       "    </tr>\n",
       "    <tr>\n",
       "      <th>14</th>\n",
       "      <td>0</td>\n",
       "      <td>5.8</td>\n",
       "      <td>4.0</td>\n",
       "      <td>1.2</td>\n",
       "      <td>0.2</td>\n",
       "    </tr>\n",
       "    <tr>\n",
       "      <th>22</th>\n",
       "      <td>0</td>\n",
       "      <td>4.6</td>\n",
       "      <td>3.6</td>\n",
       "      <td>1.0</td>\n",
       "      <td>0.2</td>\n",
       "    </tr>\n",
       "    <tr>\n",
       "      <th>28</th>\n",
       "      <td>0</td>\n",
       "      <td>5.2</td>\n",
       "      <td>3.4</td>\n",
       "      <td>1.4</td>\n",
       "      <td>0.2</td>\n",
       "    </tr>\n",
       "    <tr>\n",
       "      <th>42</th>\n",
       "      <td>0</td>\n",
       "      <td>4.4</td>\n",
       "      <td>3.2</td>\n",
       "      <td>1.3</td>\n",
       "      <td>0.2</td>\n",
       "    </tr>\n",
       "    <tr>\n",
       "      <th>78</th>\n",
       "      <td>1</td>\n",
       "      <td>6.0</td>\n",
       "      <td>2.9</td>\n",
       "      <td>4.5</td>\n",
       "      <td>1.5</td>\n",
       "    </tr>\n",
       "    <tr>\n",
       "      <th>53</th>\n",
       "      <td>1</td>\n",
       "      <td>5.5</td>\n",
       "      <td>2.3</td>\n",
       "      <td>4.0</td>\n",
       "      <td>1.3</td>\n",
       "    </tr>\n",
       "    <tr>\n",
       "      <th>39</th>\n",
       "      <td>0</td>\n",
       "      <td>5.1</td>\n",
       "      <td>3.4</td>\n",
       "      <td>1.5</td>\n",
       "      <td>0.2</td>\n",
       "    </tr>\n",
       "    <tr>\n",
       "      <th>88</th>\n",
       "      <td>1</td>\n",
       "      <td>5.6</td>\n",
       "      <td>3.0</td>\n",
       "      <td>4.1</td>\n",
       "      <td>1.3</td>\n",
       "    </tr>\n",
       "    <tr>\n",
       "      <th>57</th>\n",
       "      <td>1</td>\n",
       "      <td>4.9</td>\n",
       "      <td>2.4</td>\n",
       "      <td>3.3</td>\n",
       "      <td>1.0</td>\n",
       "    </tr>\n",
       "    <tr>\n",
       "      <th>41</th>\n",
       "      <td>0</td>\n",
       "      <td>4.5</td>\n",
       "      <td>2.3</td>\n",
       "      <td>1.3</td>\n",
       "      <td>0.3</td>\n",
       "    </tr>\n",
       "    <tr>\n",
       "      <th>51</th>\n",
       "      <td>1</td>\n",
       "      <td>6.4</td>\n",
       "      <td>3.2</td>\n",
       "      <td>4.5</td>\n",
       "      <td>1.5</td>\n",
       "    </tr>\n",
       "    <tr>\n",
       "      <th>66</th>\n",
       "      <td>1</td>\n",
       "      <td>5.6</td>\n",
       "      <td>3.0</td>\n",
       "      <td>4.5</td>\n",
       "      <td>1.5</td>\n",
       "    </tr>\n",
       "    <tr>\n",
       "      <th>21</th>\n",
       "      <td>0</td>\n",
       "      <td>5.1</td>\n",
       "      <td>3.7</td>\n",
       "      <td>1.5</td>\n",
       "      <td>0.4</td>\n",
       "    </tr>\n",
       "    <tr>\n",
       "      <th>10</th>\n",
       "      <td>0</td>\n",
       "      <td>5.4</td>\n",
       "      <td>3.7</td>\n",
       "      <td>1.5</td>\n",
       "      <td>0.2</td>\n",
       "    </tr>\n",
       "    <tr>\n",
       "      <th>20</th>\n",
       "      <td>0</td>\n",
       "      <td>5.4</td>\n",
       "      <td>3.4</td>\n",
       "      <td>1.7</td>\n",
       "      <td>0.2</td>\n",
       "    </tr>\n",
       "    <tr>\n",
       "      <th>77</th>\n",
       "      <td>1</td>\n",
       "      <td>6.7</td>\n",
       "      <td>3.0</td>\n",
       "      <td>5.0</td>\n",
       "      <td>1.7</td>\n",
       "    </tr>\n",
       "    <tr>\n",
       "      <th>63</th>\n",
       "      <td>1</td>\n",
       "      <td>6.1</td>\n",
       "      <td>2.9</td>\n",
       "      <td>4.7</td>\n",
       "      <td>1.4</td>\n",
       "    </tr>\n",
       "    <tr>\n",
       "      <th>37</th>\n",
       "      <td>0</td>\n",
       "      <td>4.9</td>\n",
       "      <td>3.6</td>\n",
       "      <td>1.4</td>\n",
       "      <td>0.1</td>\n",
       "    </tr>\n",
       "    <tr>\n",
       "      <th>23</th>\n",
       "      <td>0</td>\n",
       "      <td>5.1</td>\n",
       "      <td>3.3</td>\n",
       "      <td>1.7</td>\n",
       "      <td>0.5</td>\n",
       "    </tr>\n",
       "    <tr>\n",
       "      <th>85</th>\n",
       "      <td>1</td>\n",
       "      <td>6.0</td>\n",
       "      <td>3.4</td>\n",
       "      <td>4.5</td>\n",
       "      <td>1.6</td>\n",
       "    </tr>\n",
       "    <tr>\n",
       "      <th>84</th>\n",
       "      <td>1</td>\n",
       "      <td>5.4</td>\n",
       "      <td>3.0</td>\n",
       "      <td>4.5</td>\n",
       "      <td>1.5</td>\n",
       "    </tr>\n",
       "    <tr>\n",
       "      <th>18</th>\n",
       "      <td>0</td>\n",
       "      <td>5.7</td>\n",
       "      <td>3.8</td>\n",
       "      <td>1.7</td>\n",
       "      <td>0.3</td>\n",
       "    </tr>\n",
       "    <tr>\n",
       "      <th>55</th>\n",
       "      <td>1</td>\n",
       "      <td>5.7</td>\n",
       "      <td>2.8</td>\n",
       "      <td>4.5</td>\n",
       "      <td>1.3</td>\n",
       "    </tr>\n",
       "    <tr>\n",
       "      <th>96</th>\n",
       "      <td>1</td>\n",
       "      <td>5.7</td>\n",
       "      <td>2.9</td>\n",
       "      <td>4.2</td>\n",
       "      <td>1.3</td>\n",
       "    </tr>\n",
       "    <tr>\n",
       "      <th>38</th>\n",
       "      <td>0</td>\n",
       "      <td>4.4</td>\n",
       "      <td>3.0</td>\n",
       "      <td>1.3</td>\n",
       "      <td>0.2</td>\n",
       "    </tr>\n",
       "    <tr>\n",
       "      <th>69</th>\n",
       "      <td>1</td>\n",
       "      <td>5.6</td>\n",
       "      <td>2.5</td>\n",
       "      <td>3.9</td>\n",
       "      <td>1.1</td>\n",
       "    </tr>\n",
       "    <tr>\n",
       "      <th>93</th>\n",
       "      <td>1</td>\n",
       "      <td>5.0</td>\n",
       "      <td>2.3</td>\n",
       "      <td>3.3</td>\n",
       "      <td>1.0</td>\n",
       "    </tr>\n",
       "    <tr>\n",
       "      <th>35</th>\n",
       "      <td>0</td>\n",
       "      <td>5.0</td>\n",
       "      <td>3.2</td>\n",
       "      <td>1.2</td>\n",
       "      <td>0.2</td>\n",
       "    </tr>\n",
       "  </tbody>\n",
       "</table>\n",
       "</div>"
      ],
      "text/plain": [
       "    class  sepal_length_cm  sepal_width_cm  petal_length_cm  petal_width_cm\n",
       "99      1              5.7             2.8              4.1             1.3\n",
       "1       0              4.9             3.0              1.4             0.2\n",
       "56      1              6.3             3.3              4.7             1.6\n",
       "2       0              4.7             3.2              1.3             0.2\n",
       "7       0              5.0             3.4              1.5             0.2\n",
       "14      0              5.8             4.0              1.2             0.2\n",
       "22      0              4.6             3.6              1.0             0.2\n",
       "28      0              5.2             3.4              1.4             0.2\n",
       "42      0              4.4             3.2              1.3             0.2\n",
       "78      1              6.0             2.9              4.5             1.5\n",
       "53      1              5.5             2.3              4.0             1.3\n",
       "39      0              5.1             3.4              1.5             0.2\n",
       "88      1              5.6             3.0              4.1             1.3\n",
       "57      1              4.9             2.4              3.3             1.0\n",
       "41      0              4.5             2.3              1.3             0.3\n",
       "51      1              6.4             3.2              4.5             1.5\n",
       "66      1              5.6             3.0              4.5             1.5\n",
       "21      0              5.1             3.7              1.5             0.4\n",
       "10      0              5.4             3.7              1.5             0.2\n",
       "20      0              5.4             3.4              1.7             0.2\n",
       "77      1              6.7             3.0              5.0             1.7\n",
       "63      1              6.1             2.9              4.7             1.4\n",
       "37      0              4.9             3.6              1.4             0.1\n",
       "23      0              5.1             3.3              1.7             0.5\n",
       "85      1              6.0             3.4              4.5             1.6\n",
       "84      1              5.4             3.0              4.5             1.5\n",
       "18      0              5.7             3.8              1.7             0.3\n",
       "55      1              5.7             2.8              4.5             1.3\n",
       "96      1              5.7             2.9              4.2             1.3\n",
       "38      0              4.4             3.0              1.3             0.2\n",
       "69      1              5.6             2.5              3.9             1.1\n",
       "93      1              5.0             2.3              3.3             1.0\n",
       "35      0              5.0             3.2              1.2             0.2"
      ]
     },
     "execution_count": 15,
     "metadata": {},
     "output_type": "execute_result"
    }
   ],
   "source": [
    "test_df"
   ]
  },
  {
   "cell_type": "code",
   "execution_count": 19,
   "id": "2929c1ca-a3e1-4a83-9cd8-440121f36b03",
   "metadata": {},
   "outputs": [
    {
     "data": {
      "text/plain": [
       "array([[5.7, 2.8, 4.1, 1.3],\n",
       "       [4.9, 3. , 1.4, 0.2],\n",
       "       [6.3, 3.3, 4.7, 1.6],\n",
       "       [4.7, 3.2, 1.3, 0.2],\n",
       "       [5. , 3.4, 1.5, 0.2],\n",
       "       [5.8, 4. , 1.2, 0.2],\n",
       "       [4.6, 3.6, 1. , 0.2],\n",
       "       [5.2, 3.4, 1.4, 0.2],\n",
       "       [4.4, 3.2, 1.3, 0.2],\n",
       "       [6. , 2.9, 4.5, 1.5],\n",
       "       [5.5, 2.3, 4. , 1.3],\n",
       "       [5.1, 3.4, 1.5, 0.2],\n",
       "       [5.6, 3. , 4.1, 1.3],\n",
       "       [4.9, 2.4, 3.3, 1. ],\n",
       "       [4.5, 2.3, 1.3, 0.3],\n",
       "       [6.4, 3.2, 4.5, 1.5],\n",
       "       [5.6, 3. , 4.5, 1.5],\n",
       "       [5.1, 3.7, 1.5, 0.4],\n",
       "       [5.4, 3.7, 1.5, 0.2],\n",
       "       [5.4, 3.4, 1.7, 0.2],\n",
       "       [6.7, 3. , 5. , 1.7],\n",
       "       [6.1, 2.9, 4.7, 1.4],\n",
       "       [4.9, 3.6, 1.4, 0.1],\n",
       "       [5.1, 3.3, 1.7, 0.5],\n",
       "       [6. , 3.4, 4.5, 1.6],\n",
       "       [5.4, 3. , 4.5, 1.5],\n",
       "       [5.7, 3.8, 1.7, 0.3],\n",
       "       [5.7, 2.8, 4.5, 1.3],\n",
       "       [5.7, 2.9, 4.2, 1.3],\n",
       "       [4.4, 3. , 1.3, 0.2],\n",
       "       [5.6, 2.5, 3.9, 1.1],\n",
       "       [5. , 2.3, 3.3, 1. ],\n",
       "       [5. , 3.2, 1.2, 0.2]])"
      ]
     },
     "execution_count": 19,
     "metadata": {},
     "output_type": "execute_result"
    }
   ],
   "source": [
    "test_df.iloc[:, 1:].to_numpy()"
   ]
  },
  {
   "cell_type": "code",
   "execution_count": 14,
   "id": "aca9a28d-716c-44e7-9b0e-a4357da3dad2",
   "metadata": {},
   "outputs": [
    {
     "data": {
      "text/plain": [
       "['sepal_length_cm', 'sepal_width_cm', 'petal_length_cm', 'petal_width_cm']"
      ]
     },
     "execution_count": 14,
     "metadata": {},
     "output_type": "execute_result"
    }
   ],
   "source": [
    "list(test_df.columns)[1:]"
   ]
  },
  {
   "cell_type": "markdown",
   "id": "fa938c9b-4301-43cd-9652-48fcf3d07d44",
   "metadata": {},
   "source": [
    "SAVE DATA INTO LOCAL FOLDER"
   ]
  },
  {
   "cell_type": "code",
   "execution_count": 22,
   "id": "f40196b0-6398-4aab-8f01-4e5f9e81f5fd",
   "metadata": {},
   "outputs": [],
   "source": [
    "os.makedirs(\"DATA\", exist_ok=True) # Create data folder\n",
    "\n",
    "iris_train = train_df.to_numpy()\n",
    "np.savetxt('./DATA/iris_train.csv', iris_train, delimiter=',', fmt='%1.1f, %1.3f, %1.3f, %1.3f, %1.3f')\n",
    "\n",
    "iris_test = test_df.to_numpy()\n",
    "np.savetxt('./DATA/iris_test.csv', iris_test, delimiter=',', fmt='%1.1f, %1.3f, %1.3f, %1.3f, %1.3f')\n",
    "\n",
    "iris_inference = test_df.iloc[:, 1:].to_numpy()\n",
    "np.savetxt('./DATA/iris_inference.csv', iris_inference, delimiter=',', fmt='%1.3f, %1.3f, %1.3f, %1.3f')\n",
    "\n",
    "column_names_list = ','.join(df.columns)\n",
    "with open('./DATA/column_names.csv', 'w') as file:\n",
    "    file.write(column_names_list)"
   ]
  },
  {
   "cell_type": "markdown",
   "id": "ac1d98cf-961f-4983-9916-c4bab3790512",
   "metadata": {},
   "source": [
    "DISPLAY TRAIN"
   ]
  },
  {
   "cell_type": "code",
   "execution_count": 51,
   "id": "be694b37-acf2-48f8-989a-195b6e8b2a21",
   "metadata": {},
   "outputs": [
    {
     "name": "stdout",
     "output_type": "stream",
     "text": [
      "1.0, 5.900, 3.200, 4.800, 1.800\n",
      "1.0, 5.800, 2.700, 3.900, 1.200\n",
      "1.0, 6.700, 3.100, 4.400, 1.400\n",
      "1.0, 6.200, 2.900, 4.300, 1.300\n",
      "0.0, 5.500, 4.200, 1.400, 0.200\n",
      "0.0, 5.200, 3.500, 1.500, 0.200\n",
      "0.0, 5.000, 3.500, 1.300, 0.300\n",
      "1.0, 6.800, 2.800, 4.800, 1.400\n",
      "0.0, 5.400, 3.400, 1.500, 0.400\n",
      "1.0, 6.900, 3.100, 4.900, 1.500\n"
     ]
    }
   ],
   "source": [
    "!head ./DATA/iris_train.csv"
   ]
  },
  {
   "cell_type": "markdown",
   "id": "7533d20f-2478-4ab6-b2c2-afb05311cd09",
   "metadata": {},
   "source": [
    "DISPLAY TEST"
   ]
  },
  {
   "cell_type": "code",
   "execution_count": 52,
   "id": "7c4300ad-4781-4f42-a914-1641a83b036b",
   "metadata": {},
   "outputs": [
    {
     "name": "stdout",
     "output_type": "stream",
     "text": [
      "1.0, 5.900, 3.200, 4.800, 1.800\n",
      "1.0, 5.800, 2.700, 3.900, 1.200\n",
      "1.0, 6.700, 3.100, 4.400, 1.400\n",
      "1.0, 6.200, 2.900, 4.300, 1.300\n",
      "0.0, 5.500, 4.200, 1.400, 0.200\n",
      "0.0, 5.200, 3.500, 1.500, 0.200\n",
      "0.0, 5.000, 3.500, 1.300, 0.300\n",
      "1.0, 6.800, 2.800, 4.800, 1.400\n",
      "0.0, 5.400, 3.400, 1.500, 0.400\n",
      "1.0, 6.900, 3.100, 4.900, 1.500\n"
     ]
    }
   ],
   "source": [
    "!head ./DATA/iris_train.csv"
   ]
  },
  {
   "cell_type": "markdown",
   "id": "a6d337dd-3ad9-46c3-ba04-d72e0654229e",
   "metadata": {},
   "source": [
    "DISPLAY INFERENCE"
   ]
  },
  {
   "cell_type": "code",
   "execution_count": 23,
   "id": "63b2c897-715f-49d4-acf3-12e379b5d3d4",
   "metadata": {},
   "outputs": [
    {
     "name": "stdout",
     "output_type": "stream",
     "text": [
      "5.700, 2.800, 4.100, 1.300\n",
      "4.900, 3.000, 1.400, 0.200\n",
      "6.300, 3.300, 4.700, 1.600\n",
      "4.700, 3.200, 1.300, 0.200\n",
      "5.000, 3.400, 1.500, 0.200\n",
      "5.800, 4.000, 1.200, 0.200\n",
      "4.600, 3.600, 1.000, 0.200\n",
      "5.200, 3.400, 1.400, 0.200\n",
      "4.400, 3.200, 1.300, 0.200\n",
      "6.000, 2.900, 4.500, 1.500\n"
     ]
    }
   ],
   "source": [
    "!head ./DATA/iris_inference.csv"
   ]
  },
  {
   "cell_type": "markdown",
   "id": "03f07630-e8f4-44d9-8d2f-31d074a4eefb",
   "metadata": {},
   "source": [
    "COPY DATA INTO S3"
   ]
  },
  {
   "cell_type": "code",
   "execution_count": 24,
   "id": "3a25200f-dd29-45b4-ba9e-090e2b06e7d9",
   "metadata": {},
   "outputs": [
    {
     "name": "stdout",
     "output_type": "stream",
     "text": [
      "upload: DATA/iris_train.csv to s3://sagemaker-bucket-ds/training-jobs/data/train/iris_train.csv\n",
      "upload: DATA/iris_test.csv to s3://sagemaker-bucket-ds/training-jobs/data/test/iris_test.csv\n",
      "upload: DATA/iris_inference.csv to s3://sagemaker-bucket-ds/training-jobs/data/inference_input/iris_inference.csv\n",
      "upload: DATA/column_names.csv to s3://sagemaker-bucket-ds/training-jobs/data/column_names.csv\n"
     ]
    }
   ],
   "source": [
    "data_s3_path  = os.path.join('s3://', bucket_name, project_path_s3, 'data') \n",
    "train_s3_path = os.path.join(data_s3_path, 'train', 'iris_train.csv')\n",
    "test_s3_path = os.path.join(data_s3_path, 'test', 'iris_test.csv')\n",
    "inference_s3_path = os.path.join(data_s3_path, 'inference_input', 'iris_inference.csv')\n",
    "columns_s3_path = os.path.join(data_s3_path, 'column_names.csv')\n",
    "\n",
    "!aws s3 cp ./DATA/iris_train.csv {train_s3_path}\n",
    "!aws s3 cp ./DATA/iris_test.csv {test_s3_path}\n",
    "!aws s3 cp ./DATA/iris_inference.csv {inference_s3_path}\n",
    "!aws s3 cp ./DATA/column_names.csv {columns_s3_path}"
   ]
  },
  {
   "cell_type": "markdown",
   "id": "14a9e95a-20be-40b3-a18c-b8d030c8567d",
   "metadata": {},
   "source": [
    "CHECK WHETHER FILES ARE ON S3"
   ]
  },
  {
   "cell_type": "code",
   "execution_count": 54,
   "id": "6f7493ad-537e-4af9-9879-b640af541d17",
   "metadata": {},
   "outputs": [
    {
     "name": "stdout",
     "output_type": "stream",
     "text": [
      "2024-06-27 08:45:27         67 training-jobs/data/column_names.csv\n",
      "2024-06-27 08:45:25       1056 training-jobs/data/test/iris_test.csv\n",
      "2024-06-27 08:45:24       2144 training-jobs/data/train/iris_train.csv\n"
     ]
    }
   ],
   "source": [
    "!aws s3 ls s3://sagemaker-bucket-ds/training-jobs/data/ --recursive"
   ]
  }
 ],
 "metadata": {
  "kernelspec": {
   "display_name": "Python 3 (ipykernel)",
   "language": "python",
   "name": "python3"
  },
  "language_info": {
   "codemirror_mode": {
    "name": "ipython",
    "version": 3
   },
   "file_extension": ".py",
   "mimetype": "text/x-python",
   "name": "python",
   "nbconvert_exporter": "python",
   "pygments_lexer": "ipython3",
   "version": "3.10.14"
  }
 },
 "nbformat": 4,
 "nbformat_minor": 5
}
