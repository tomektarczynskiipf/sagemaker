{
 "cells": [
  {
   "cell_type": "code",
   "execution_count": 22,
   "id": "c569cf44-a241-4b29-88be-1b6ccbe3e150",
   "metadata": {},
   "outputs": [],
   "source": [
    "import os\n",
    "import logging\n",
    "from datetime import datetime\n",
    "import boto3\n",
    "import sagemaker\n",
    "import tarfile\n",
    "import pickle\n",
    "from sagemaker.session import TrainingInput\n",
    "from sagemaker import image_uris\n",
    "from sagemaker import hyperparameters"
   ]
  },
  {
   "cell_type": "markdown",
   "id": "8c8f673f-ac93-4eb0-b16d-b5f7f3c919ef",
   "metadata": {},
   "source": [
    "SETTINGS"
   ]
  },
  {
   "cell_type": "code",
   "execution_count": 23,
   "id": "ab67334d-9571-4ac8-bd5d-6e5624ca3c20",
   "metadata": {},
   "outputs": [],
   "source": [
    "model_op = \"s3://sagemaker-bucket-ds/training-jobs/model/\" # Folder where we want to save output\n",
    "train_file = \"s3://sagemaker-bucket-ds/training-jobs/data/train/iris_train.csv\" # File with training data"
   ]
  },
  {
   "cell_type": "markdown",
   "id": "f1944785-9a29-4bc4-9667-eeaf12cfe6f4",
   "metadata": {},
   "source": [
    "BASIC OBJECTS"
   ]
  },
  {
   "cell_type": "code",
   "execution_count": 24,
   "id": "09502d60-e126-4e22-bff1-6b0dda5fa572",
   "metadata": {},
   "outputs": [
    {
     "name": "stdout",
     "output_type": "stream",
     "text": [
      "eu-west-1\n",
      "arn:aws:iam::211125740051:role/service-role/AmazonSageMaker-ExecutionRole-20240607T130532\n"
     ]
    }
   ],
   "source": [
    "sg_session = sagemaker.Session()\n",
    "region = sg_session.boto_region_name\n",
    "role_arn = sagemaker.get_execution_role()\n",
    "s3 = boto3.client('s3')\n",
    "\n",
    "print(region)\n",
    "print(role_arn)"
   ]
  },
  {
   "cell_type": "markdown",
   "id": "6d7afe7b-f280-4d2c-9f03-8fcd8680882a",
   "metadata": {},
   "source": [
    "WE NEED TO GET DOCKER IMAGE FOR XGBOOST"
   ]
  },
  {
   "cell_type": "code",
   "execution_count": 25,
   "id": "b5cdf497-a476-4264-85cf-074334e2222c",
   "metadata": {},
   "outputs": [
    {
     "name": "stderr",
     "output_type": "stream",
     "text": [
      "INFO:sagemaker.image_uris:Ignoring unnecessary instance type: None.\n"
     ]
    },
    {
     "name": "stdout",
     "output_type": "stream",
     "text": [
      "685385470294.dkr.ecr.eu-west-1.amazonaws.com/xgboost:latest\n"
     ]
    }
   ],
   "source": [
    "model_img = sagemaker.image_uris.retrieve(\"xgboost\", region, \"latest\") # This function returns path to latest docker image\n",
    "print(model_img)"
   ]
  },
  {
   "cell_type": "markdown",
   "id": "26a0d528-61df-485a-a4d6-08833bbab1a6",
   "metadata": {},
   "source": [
    "CREATE OBJECT WITH TRAINING DATA\n",
    "\n",
    "It is neccessary because XGBoost is expecting different file format.\n",
    "\n",
    "Here you can specify format as csv"
   ]
  },
  {
   "cell_type": "code",
   "execution_count": 26,
   "id": "2bc2e735-fd0d-4100-8592-b77a878bcfc7",
   "metadata": {},
   "outputs": [],
   "source": [
    "train_ip = TrainingInput(train_file, content_type=\"csv\")"
   ]
  },
  {
   "cell_type": "markdown",
   "id": "8961c42b-48bb-456a-bd12-deedbe31893d",
   "metadata": {},
   "source": [
    "CREATE ESTIMATOR OBJECT"
   ]
  },
  {
   "cell_type": "code",
   "execution_count": 27,
   "id": "4d002766-5dfa-4bb9-9fd5-d11af8e5a80f",
   "metadata": {},
   "outputs": [],
   "source": [
    "base_job_name =\"xgboost-07-\"\n",
    "\n",
    "xgb_model = sagemaker.estimator.Estimator(\n",
    "    image_uri=model_img, # Docker image that will be using on the instance\n",
    "    role=role_arn, # role that will be used to execute\n",
    "    base_job_name=base_job_name, # name of the job\n",
    "    instance_count=1, # how many instances should be spawned\n",
    "    instance_type=\"ml.m5.large\", # size of the instance\n",
    "    output_path=model_op, # where the output of the model should be saved\n",
    "    sagemaker_session=sg_session,\n",
    "    volume_size=5 # volume (in GB) assigned to the instance\n",
    ")"
   ]
  },
  {
   "cell_type": "markdown",
   "id": "23873869-cd5b-408f-8999-092e73897b96",
   "metadata": {},
   "source": [
    "SET HYPERPARAMETERS"
   ]
  },
  {
   "cell_type": "code",
   "execution_count": 28,
   "id": "66cbf93f-f3b3-46ce-9884-99db8e5382d9",
   "metadata": {},
   "outputs": [],
   "source": [
    "xgb_model.set_hyperparameters(\n",
    "    num_class=3, \n",
    "    max_depth=3,\n",
    "    num_round=10,\n",
    "    objective=\"multi:softprob\",\n",
    "    eta= 0.3,  # Learning rate\n",
    "    subsample= 1,  # Subsample ratio of the training instance\n",
    "    colsample_bytree= 1,  # Subsample ratio of columns when constructing each tree\n",
    "    min_child_weight= 1,  # Minimum sum of instance weight (hessian) needed in a child\n",
    "    gamma= 0,  # Minimum loss reduction required to make a further partition on a leaf node\n",
    "    alpha= 0,  # L1 regularization term on weights\n",
    "    eval_metric= 'mlogloss'\n",
    ")"
   ]
  },
  {
   "cell_type": "code",
   "execution_count": 29,
   "id": "546a4b7d-112a-459a-8da5-a816dd7611c2",
   "metadata": {},
   "outputs": [
    {
     "name": "stderr",
     "output_type": "stream",
     "text": [
      "INFO:sagemaker:Creating training-job with name: xgboost-07-2024-06-27-14-06-46\n"
     ]
    },
    {
     "name": "stdout",
     "output_type": "stream",
     "text": [
      "xgboost-07-2024-06-27-14-06-46\n",
      "2024-06-27 14:06:47 Starting - Starting the training job...\n",
      "2024-06-27 14:07:02 Starting - Preparing the instances for training...\n",
      "2024-06-27 14:07:30 Downloading - Downloading input data...\n",
      "2024-06-27 14:08:15 Downloading - Downloading the training image.....\u001b[34mArguments: train\u001b[0m\n",
      "\u001b[34m[2024-06-27:14:08:54:INFO] Running standalone xgboost training.\u001b[0m\n",
      "\u001b[34m[2024-06-27:14:08:54:INFO] Path /opt/ml/input/data/validation does not exist!\u001b[0m\n",
      "\u001b[34m[2024-06-27:14:08:54:INFO] File size need to be processed in the node: 0.0mb. Available memory size in the node: 249.62mb\u001b[0m\n",
      "\u001b[34m[2024-06-27:14:08:54:INFO] Determined delimiter of CSV input is ','\u001b[0m\n",
      "\u001b[34m[14:08:54] S3DistributionType set as FullyReplicated\u001b[0m\n",
      "\u001b[34m[14:08:54] 67x4 matrix with 268 entries loaded from /opt/ml/input/data/train?format=csv&label_column=0&delimiter=,\u001b[0m\n",
      "\u001b[34m[14:08:54] src/tree/updater_prune.cc:74: tree pruning end, 1 roots, 2 extra nodes, 0 pruned nodes, max_depth=1\u001b[0m\n",
      "\u001b[34m[14:08:54] src/tree/updater_prune.cc:74: tree pruning end, 1 roots, 2 extra nodes, 0 pruned nodes, max_depth=1\u001b[0m\n",
      "\u001b[34m[14:08:54] src/tree/updater_prune.cc:74: tree pruning end, 1 roots, 0 extra nodes, 0 pruned nodes, max_depth=0\u001b[0m\n",
      "\u001b[34m[0]#011train-mlogloss:0.722161\u001b[0m\n",
      "\u001b[34m[14:08:54] src/tree/updater_prune.cc:74: tree pruning end, 1 roots, 2 extra nodes, 0 pruned nodes, max_depth=1\u001b[0m\n",
      "\u001b[34m[14:08:54] src/tree/updater_prune.cc:74: tree pruning end, 1 roots, 2 extra nodes, 0 pruned nodes, max_depth=1\u001b[0m\n",
      "\u001b[34m[14:08:54] src/tree/updater_prune.cc:74: tree pruning end, 1 roots, 0 extra nodes, 0 pruned nodes, max_depth=0\u001b[0m\n",
      "\u001b[34m[14:08:54] src/tree/updater_prune.cc:74: tree pruning end, 1 roots, 2 extra nodes, 0 pruned nodes, max_depth=1\u001b[0m\n",
      "\u001b[34m[1]#011train-mlogloss:0.503054\u001b[0m\n",
      "\u001b[34m[14:08:54] src/tree/updater_prune.cc:74: tree pruning end, 1 roots, 2 extra nodes, 0 pruned nodes, max_depth=1\u001b[0m\n",
      "\u001b[34m[14:08:54] src/tree/updater_prune.cc:74: tree pruning end, 1 roots, 0 extra nodes, 0 pruned nodes, max_depth=0\u001b[0m\n",
      "\u001b[34m[2]#011train-mlogloss:0.360929\u001b[0m\n",
      "\u001b[34m[14:08:54] src/tree/updater_prune.cc:74: tree pruning end, 1 roots, 2 extra nodes, 0 pruned nodes, max_depth=1\u001b[0m\n",
      "\u001b[34m[14:08:54] src/tree/updater_prune.cc:74: tree pruning end, 1 roots, 2 extra nodes, 0 pruned nodes, max_depth=1\u001b[0m\n",
      "\u001b[34m[14:08:54] src/tree/updater_prune.cc:74: tree pruning end, 1 roots, 0 extra nodes, 0 pruned nodes, max_depth=0\u001b[0m\n",
      "\u001b[34m[14:08:54] src/tree/updater_prune.cc:74: tree pruning end, 1 roots, 2 extra nodes, 0 pruned nodes, max_depth=1\u001b[0m\n",
      "\u001b[34m[3]#011train-mlogloss:0.264003\u001b[0m\n",
      "\u001b[34m[14:08:54] src/tree/updater_prune.cc:74: tree pruning end, 1 roots, 2 extra nodes, 0 pruned nodes, max_depth=1\u001b[0m\n",
      "\u001b[34m[14:08:54] src/tree/updater_prune.cc:74: tree pruning end, 1 roots, 0 extra nodes, 0 pruned nodes, max_depth=0\u001b[0m\n",
      "\u001b[34m[4]#011train-mlogloss:0.195966\u001b[0m\n",
      "\u001b[34m[14:08:54] src/tree/updater_prune.cc:74: tree pruning end, 1 roots, 2 extra nodes, 0 pruned nodes, max_depth=1\u001b[0m\n",
      "\u001b[34m[14:08:54] src/tree/updater_prune.cc:74: tree pruning end, 1 roots, 2 extra nodes, 0 pruned nodes, max_depth=1\u001b[0m\n",
      "\u001b[34m[14:08:54] src/tree/updater_prune.cc:74: tree pruning end, 1 roots, 0 extra nodes, 0 pruned nodes, max_depth=0\u001b[0m\n",
      "\u001b[34m[14:08:54] src/tree/updater_prune.cc:74: tree pruning end, 1 roots, 2 extra nodes, 0 pruned nodes, max_depth=1\u001b[0m\n",
      "\u001b[34m[14:08:54] src/tree/updater_prune.cc:74: tree pruning end, 1 roots, 2 extra nodes, 0 pruned nodes, max_depth=1\u001b[0m\n",
      "\u001b[34m[14:08:54] src/tree/updater_prune.cc:74: tree pruning end, 1 roots, 0 extra nodes, 0 pruned nodes, max_depth=0\u001b[0m\n",
      "\u001b[34m[14:08:54] src/tree/updater_prune.cc:74: tree pruning end, 1 roots, 2 extra nodes, 0 pruned nodes, max_depth=1\u001b[0m\n",
      "\u001b[34m[14:08:54] src/tree/updater_prune.cc:74: tree pruning end, 1 roots, 2 extra nodes, 0 pruned nodes, max_depth=1\u001b[0m\n",
      "\u001b[34m[14:08:54] src/tree/updater_prune.cc:74: tree pruning end, 1 roots, 0 extra nodes, 0 pruned nodes, max_depth=0\u001b[0m\n",
      "\u001b[34m[14:08:54] src/tree/updater_prune.cc:74: tree pruning end, 1 roots, 2 extra nodes, 0 pruned nodes, max_depth=1\u001b[0m\n",
      "\u001b[34m[14:08:54] src/tree/updater_prune.cc:74: tree pruning end, 1 roots, 2 extra nodes, 0 pruned nodes, max_depth=1\u001b[0m\n",
      "\u001b[34m[14:08:54] src/tree/updater_prune.cc:74: tree pruning end, 1 roots, 0 extra nodes, 0 pruned nodes, max_depth=0\u001b[0m\n",
      "\u001b[34m[14:08:54] src/tree/updater_prune.cc:74: tree pruning end, 1 roots, 2 extra nodes, 0 pruned nodes, max_depth=1\u001b[0m\n",
      "\u001b[34m[14:08:54] src/tree/updater_prune.cc:74: tree pruning end, 1 roots, 2 extra nodes, 0 pruned nodes, max_depth=1\u001b[0m\n",
      "\u001b[34m[14:08:54] src/tree/updater_prune.cc:74: tree pruning end, 1 roots, 0 extra nodes, 0 pruned nodes, max_depth=0\u001b[0m\n",
      "\u001b[34m[5]#011train-mlogloss:0.147309\u001b[0m\n",
      "\u001b[34m[6]#011train-mlogloss:0.112052\u001b[0m\n",
      "\u001b[34m[7]#011train-mlogloss:0.08625\u001b[0m\n",
      "\u001b[34m[8]#011train-mlogloss:0.067209\u001b[0m\n",
      "\u001b[34m[9]#011train-mlogloss:0.053049\u001b[0m\n",
      "\n",
      "2024-06-27 14:09:14 Training - Training image download completed. Training in progress.\n",
      "2024-06-27 14:09:14 Uploading - Uploading generated training model\n",
      "2024-06-27 14:09:14 Completed - Training job completed\n",
      "Training seconds: 104\n",
      "Billable seconds: 104\n"
     ]
    }
   ],
   "source": [
    "job_name = base_job_name + datetime.today().strftime(\"%Y-%m-%d-%H-%M-%S\")\n",
    "print(job_name)\n",
    "xgb_model.fit({\"train\": train_ip}, wait=True, job_name=job_name)"
   ]
  }
 ],
 "metadata": {
  "kernelspec": {
   "display_name": "Python 3 (ipykernel)",
   "language": "python",
   "name": "python3"
  },
  "language_info": {
   "codemirror_mode": {
    "name": "ipython",
    "version": 3
   },
   "file_extension": ".py",
   "mimetype": "text/x-python",
   "name": "python",
   "nbconvert_exporter": "python",
   "pygments_lexer": "ipython3",
   "version": "3.10.14"
  }
 },
 "nbformat": 4,
 "nbformat_minor": 5
}
