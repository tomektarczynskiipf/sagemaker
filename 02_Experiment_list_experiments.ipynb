{
 "cells": [
  {
   "cell_type": "code",
   "execution_count": 4,
   "id": "d39fc86c-415a-49eb-a936-fafa468945ed",
   "metadata": {},
   "outputs": [
    {
     "name": "stdout",
     "output_type": "stream",
     "text": [
      "Run Name: Default-Run-Group-00-sagemaker-test\n",
      "Run Display Name: Default-Run-Group-00-sagemaker-test\n",
      "Run Creation Time: 2024-06-14 08:50:06.794000+00:00\n",
      "Run Last Modified Time: 2024-06-14 09:02:23.129000+00:00\n",
      "------------------------------------------------------------\n",
      "<class 'sagemaker.experiments._api_types.TrialSummary'>\n"
     ]
    }
   ],
   "source": [
    "import sagemaker\n",
    "from sagemaker.experiments.experiment import Experiment\n",
    "\n",
    "# Initialize SageMaker session\n",
    "sagemaker_session = sagemaker.Session()\n",
    "\n",
    "# Specify the name of the experiment\n",
    "experiment_name = \"00-sagemaker-test\"\n",
    "\n",
    "# Retrieve the experiment object\n",
    "experiment = Experiment.load(experiment_name=experiment_name, sagemaker_session=sagemaker_session)\n",
    "\n",
    "# List all runs in the experiment\n",
    "runs = experiment.list_trials()\n",
    "\n",
    "# Print the details of each run\n",
    "for run in runs:\n",
    "    print(f\"Run Name: {run.trial_name}\")\n",
    "    print(f\"Run Display Name: {run.display_name}\")\n",
    "    print(f\"Run Creation Time: {run.creation_time}\")\n",
    "    print(f\"Run Last Modified Time: {run.last_modified_time}\")\n",
    "    print(\"-\" * 60)\n",
    "    print(run.__class__)"
   ]
  },
  {
   "cell_type": "code",
   "execution_count": 17,
   "id": "8f61faeb-f16c-4d69-ae4c-964e5d47b660",
   "metadata": {},
   "outputs": [
    {
     "name": "stdout",
     "output_type": "stream",
     "text": [
      "TrialSummary(trial_arn='arn:aws:sagemaker:eu-west-1:211125740051:experiment-trial/Default-Run-Group-00-sagemaker-test',trial_name='Default-Run-Group-00-sagemaker-test',display_name='Default-Run-Group-00-sagemaker-test',creation_time=datetime.datetime(2024, 6, 14, 8, 50, 6, 794000, tzinfo=tzlocal()),last_modified_time=datetime.datetime(2024, 6, 14, 9, 2, 23, 129000, tzinfo=tzlocal()))\n",
      "Trial Component Name: 00-sagemaker-test-linear-regression-trial-1\n",
      "Display Name: 00-sagemaker-test-linear-regression-trial-1\n",
      "Creation Time: 2024-06-14 09:00:57.836000+00:00\n",
      "Last Modified Time: 2024-06-14 09:02:23.129000+00:00\n"
     ]
    },
    {
     "ename": "AttributeError",
     "evalue": "'dict' object has no attribute 'parameters'",
     "output_type": "error",
     "traceback": [
      "\u001b[0;31m---------------------------------------------------------------------------\u001b[0m",
      "\u001b[0;31mAttributeError\u001b[0m                            Traceback (most recent call last)",
      "Cell \u001b[0;32mIn[17], line 33\u001b[0m\n\u001b[1;32m     31\u001b[0m \u001b[38;5;28mprint\u001b[39m(\u001b[38;5;124mf\u001b[39m\u001b[38;5;124m\"\u001b[39m\u001b[38;5;124mCreation Time: \u001b[39m\u001b[38;5;132;01m{\u001b[39;00mcomponent[\u001b[38;5;124m'\u001b[39m\u001b[38;5;124mCreationTime\u001b[39m\u001b[38;5;124m'\u001b[39m]\u001b[38;5;132;01m}\u001b[39;00m\u001b[38;5;124m\"\u001b[39m)\n\u001b[1;32m     32\u001b[0m \u001b[38;5;28mprint\u001b[39m(\u001b[38;5;124mf\u001b[39m\u001b[38;5;124m\"\u001b[39m\u001b[38;5;124mLast Modified Time: \u001b[39m\u001b[38;5;132;01m{\u001b[39;00mcomponent[\u001b[38;5;124m'\u001b[39m\u001b[38;5;124mLastModifiedTime\u001b[39m\u001b[38;5;124m'\u001b[39m]\u001b[38;5;132;01m}\u001b[39;00m\u001b[38;5;124m\"\u001b[39m)\n\u001b[0;32m---> 33\u001b[0m \u001b[38;5;28mprint\u001b[39m(\u001b[43mcomponent\u001b[49m\u001b[38;5;241;43m.\u001b[39;49m\u001b[43mparameters\u001b[49m)\n\u001b[1;32m     34\u001b[0m \u001b[38;5;28mprint\u001b[39m(\u001b[38;5;124m\"\u001b[39m\u001b[38;5;124m-\u001b[39m\u001b[38;5;124m\"\u001b[39m \u001b[38;5;241m*\u001b[39m \u001b[38;5;241m60\u001b[39m)\n",
      "\u001b[0;31mAttributeError\u001b[0m: 'dict' object has no attribute 'parameters'"
     ]
    }
   ],
   "source": [
    "import sagemaker\n",
    "from sagemaker.experiments.experiment import Experiment\n",
    "\n",
    "# Initialize SageMaker session\n",
    "sagemaker_session = sagemaker.Session()\n",
    "\n",
    "# Specify the name of the experiment\n",
    "experiment_name = \"00-sagemaker-test\"\n",
    "\n",
    "# Retrieve the experiment object\n",
    "experiment = Experiment.load(experiment_name=experiment_name, sagemaker_session=sagemaker_session)\n",
    "\n",
    "# List all trials in the experiment\n",
    "trials = experiment.list_trials()\n",
    "\n",
    "# Initialize an empty list to hold all trial components\n",
    "all_trial_components = []\n",
    "\n",
    "# Iterate through each trial to list its trial components\n",
    "for trial_summary in trials:\n",
    "    trial_components = sagemaker_session.sagemaker_client.list_trial_components(\n",
    "        TrialName=trial_summary.trial_name\n",
    "    )['TrialComponentSummaries']\n",
    "    print(trial_summary)\n",
    "    all_trial_components.extend(trial_components)\n",
    "\n",
    "# Print the details of each trial component (run)\n",
    "for component in all_trial_components:\n",
    "    print(f\"Trial Component Name: {component['TrialComponentName']}\")\n",
    "    print(f\"Display Name: {component['DisplayName']}\")\n",
    "    print(f\"Creation Time: {component['CreationTime']}\")\n",
    "    print(f\"Last Modified Time: {component['LastModifiedTime']}\")\n",
    "    print(component.parameters)\n",
    "    print(\"-\" * 60)\n"
   ]
  },
  {
   "cell_type": "code",
   "execution_count": 22,
   "id": "879b14bf-d0df-4c52-a732-eb830de95d90",
   "metadata": {},
   "outputs": [
    {
     "name": "stdout",
     "output_type": "stream",
     "text": [
      "Collecting sagemaker-experiments\n",
      "  Using cached sagemaker_experiments-0.1.45-py3-none-any.whl.metadata (10 kB)\n",
      "Requirement already satisfied: boto3>=1.16.27 in /opt/conda/lib/python3.10/site-packages (from sagemaker-experiments) (1.34.51)\n",
      "Requirement already satisfied: botocore<1.35.0,>=1.34.51 in /opt/conda/lib/python3.10/site-packages (from boto3>=1.16.27->sagemaker-experiments) (1.34.51)\n",
      "Requirement already satisfied: jmespath<2.0.0,>=0.7.1 in /opt/conda/lib/python3.10/site-packages (from boto3>=1.16.27->sagemaker-experiments) (1.0.1)\n",
      "Requirement already satisfied: s3transfer<0.11.0,>=0.10.0 in /opt/conda/lib/python3.10/site-packages (from boto3>=1.16.27->sagemaker-experiments) (0.10.1)\n",
      "Requirement already satisfied: python-dateutil<3.0.0,>=2.1 in /opt/conda/lib/python3.10/site-packages (from botocore<1.35.0,>=1.34.51->boto3>=1.16.27->sagemaker-experiments) (2.9.0)\n",
      "Requirement already satisfied: urllib3<2.1,>=1.25.4 in /opt/conda/lib/python3.10/site-packages (from botocore<1.35.0,>=1.34.51->boto3>=1.16.27->sagemaker-experiments) (1.26.18)\n",
      "Requirement already satisfied: six>=1.5 in /opt/conda/lib/python3.10/site-packages (from python-dateutil<3.0.0,>=2.1->botocore<1.35.0,>=1.34.51->boto3>=1.16.27->sagemaker-experiments) (1.16.0)\n",
      "Using cached sagemaker_experiments-0.1.45-py3-none-any.whl (42 kB)\n",
      "Installing collected packages: sagemaker-experiments\n",
      "Successfully installed sagemaker-experiments-0.1.45\n"
     ]
    }
   ],
   "source": [
    "!pip install sagemaker-experiments"
   ]
  },
  {
   "cell_type": "code",
   "execution_count": 25,
   "id": "a45c0f41-357b-4790-9603-72200c030349",
   "metadata": {},
   "outputs": [
    {
     "name": "stderr",
     "output_type": "stream",
     "text": [
      "INFO:sagemaker.experiments.run:The run (sagemaker-run-1718359038-f10c) under experiment (00-sagemaker-test) already exists. Loading it.\n",
      "INFO:sagemaker.experiments.run:The run (linear-regression-trial-1) under experiment (00-sagemaker-test) already exists. Loading it.\n",
      "INFO:sagemaker.experiments.run:The run (linear-regression-trial-2024-06-14-08-53-21) under experiment (00-sagemaker-test) already exists. Loading it.\n",
      "INFO:sagemaker.experiments.run:The run (linear-regression-trial-2024-06-14-08-52-11) under experiment (00-sagemaker-test) already exists. Loading it.\n",
      "INFO:sagemaker.experiments.run:The run (linear-regression-trial-2024-06-14-08-50-06) under experiment (00-sagemaker-test) already exists. Loading it.\n"
     ]
    }
   ],
   "source": [
    "from smexperiments.experiment import Experiment\n",
    "from sagemaker.experiments.run import Run, load_run, list_runs\n",
    "\n",
    "EXPERIMENT_NAME = \"00-sagemaker-test\"\n",
    "\n",
    "runs = list_runs(EXPERIMENT_NAME)      # <---- WORKS ONCE"
   ]
  },
  {
   "cell_type": "code",
   "execution_count": 36,
   "id": "b1816e83-542f-457b-8fa5-ca69e4548033",
   "metadata": {},
   "outputs": [
    {
     "ename": "AttributeError",
     "evalue": "'str' object has no attribute 'experiment_name'",
     "output_type": "error",
     "traceback": [
      "\u001b[0;31m---------------------------------------------------------------------------\u001b[0m",
      "\u001b[0;31mAttributeError\u001b[0m                            Traceback (most recent call last)",
      "Cell \u001b[0;32mIn[36], line 1\u001b[0m\n\u001b[0;32m----> 1\u001b[0m \u001b[43msagemaker\u001b[49m\u001b[38;5;241;43m.\u001b[39;49m\u001b[43mexperiments\u001b[49m\u001b[38;5;241;43m.\u001b[39;49m\u001b[43mrun\u001b[49m\u001b[38;5;241;43m.\u001b[39;49m\u001b[43mExperiment\u001b[49m\u001b[38;5;241;43m.\u001b[39;49m\u001b[43mlist_trials\u001b[49m\u001b[43m(\u001b[49m\u001b[38;5;124;43m\"\u001b[39;49m\u001b[38;5;124;43m00-sagemaker-test\u001b[39;49m\u001b[38;5;124;43m\"\u001b[39;49m\u001b[43m)\u001b[49m\n",
      "File \u001b[0;32m/opt/conda/lib/python3.10/site-packages/sagemaker/experiments/experiment.py:194\u001b[0m, in \u001b[0;36mExperiment.list_trials\u001b[0;34m(self, created_before, created_after, sort_by, sort_order)\u001b[0m\n\u001b[1;32m    177\u001b[0m \u001b[38;5;28;01mdef\u001b[39;00m \u001b[38;5;21mlist_trials\u001b[39m(\u001b[38;5;28mself\u001b[39m, created_before\u001b[38;5;241m=\u001b[39m\u001b[38;5;28;01mNone\u001b[39;00m, created_after\u001b[38;5;241m=\u001b[39m\u001b[38;5;28;01mNone\u001b[39;00m, sort_by\u001b[38;5;241m=\u001b[39m\u001b[38;5;28;01mNone\u001b[39;00m, sort_order\u001b[38;5;241m=\u001b[39m\u001b[38;5;28;01mNone\u001b[39;00m):\n\u001b[1;32m    178\u001b[0m \u001b[38;5;250m    \u001b[39m\u001b[38;5;124;03m\"\"\"List trials in this experiment matching the specified criteria.\u001b[39;00m\n\u001b[1;32m    179\u001b[0m \n\u001b[1;32m    180\u001b[0m \u001b[38;5;124;03m    Args:\u001b[39;00m\n\u001b[0;32m   (...)\u001b[0m\n\u001b[1;32m    191\u001b[0m \u001b[38;5;124;03m            An iterator over trials matching the criteria.\u001b[39;00m\n\u001b[1;32m    192\u001b[0m \u001b[38;5;124;03m    \"\"\"\u001b[39;00m\n\u001b[1;32m    193\u001b[0m     \u001b[38;5;28;01mreturn\u001b[39;00m _Trial\u001b[38;5;241m.\u001b[39mlist(\n\u001b[0;32m--> 194\u001b[0m         experiment_name\u001b[38;5;241m=\u001b[39m\u001b[38;5;28;43mself\u001b[39;49m\u001b[38;5;241;43m.\u001b[39;49m\u001b[43mexperiment_name\u001b[49m,\n\u001b[1;32m    195\u001b[0m         created_before\u001b[38;5;241m=\u001b[39mcreated_before,\n\u001b[1;32m    196\u001b[0m         created_after\u001b[38;5;241m=\u001b[39mcreated_after,\n\u001b[1;32m    197\u001b[0m         sort_by\u001b[38;5;241m=\u001b[39msort_by,\n\u001b[1;32m    198\u001b[0m         sort_order\u001b[38;5;241m=\u001b[39msort_order,\n\u001b[1;32m    199\u001b[0m         sagemaker_session\u001b[38;5;241m=\u001b[39m\u001b[38;5;28mself\u001b[39m\u001b[38;5;241m.\u001b[39msagemaker_session,\n\u001b[1;32m    200\u001b[0m     )\n",
      "\u001b[0;31mAttributeError\u001b[0m: 'str' object has no attribute 'experiment_name'"
     ]
    }
   ],
   "source": []
  },
  {
   "cell_type": "code",
   "execution_count": 14,
   "id": "f2a0535d-a91f-4884-a22f-2d90c6875605",
   "metadata": {},
   "outputs": [
    {
     "ename": "ImportError",
     "evalue": "cannot import name 'TrialComponent' from 'sagemaker.experiments.trial_component' (/opt/conda/lib/python3.10/site-packages/sagemaker/experiments/trial_component.py)",
     "output_type": "error",
     "traceback": [
      "\u001b[0;31m---------------------------------------------------------------------------\u001b[0m",
      "\u001b[0;31mImportError\u001b[0m                               Traceback (most recent call last)",
      "Cell \u001b[0;32mIn[14], line 3\u001b[0m\n\u001b[1;32m      1\u001b[0m \u001b[38;5;28;01mimport\u001b[39;00m \u001b[38;5;21;01msagemaker\u001b[39;00m\n\u001b[1;32m      2\u001b[0m \u001b[38;5;28;01mfrom\u001b[39;00m \u001b[38;5;21;01msagemaker\u001b[39;00m\u001b[38;5;21;01m.\u001b[39;00m\u001b[38;5;21;01mexperiments\u001b[39;00m\u001b[38;5;21;01m.\u001b[39;00m\u001b[38;5;21;01mexperiment\u001b[39;00m \u001b[38;5;28;01mimport\u001b[39;00m Experiment\n\u001b[0;32m----> 3\u001b[0m \u001b[38;5;28;01mfrom\u001b[39;00m \u001b[38;5;21;01msagemaker\u001b[39;00m\u001b[38;5;21;01m.\u001b[39;00m\u001b[38;5;21;01mexperiments\u001b[39;00m\u001b[38;5;21;01m.\u001b[39;00m\u001b[38;5;21;01mtrial_component\u001b[39;00m \u001b[38;5;28;01mimport\u001b[39;00m TrialComponent\n\u001b[1;32m      5\u001b[0m \u001b[38;5;66;03m# Initialize SageMaker session\u001b[39;00m\n\u001b[1;32m      6\u001b[0m sagemaker_session \u001b[38;5;241m=\u001b[39m sagemaker\u001b[38;5;241m.\u001b[39mSession()\n",
      "\u001b[0;31mImportError\u001b[0m: cannot import name 'TrialComponent' from 'sagemaker.experiments.trial_component' (/opt/conda/lib/python3.10/site-packages/sagemaker/experiments/trial_component.py)"
     ]
    }
   ],
   "source": [
    "import sagemaker\n",
    "from sagemaker.experiments.experiment import Experiment\n",
    "from sagemaker.experiments.trial_component import TrialComponent\n",
    "\n",
    "# Initialize SageMaker session\n",
    "sagemaker_session = sagemaker.Session()\n",
    "\n",
    "# Specify the name of the experiment\n",
    "experiment_name = 'your-experiment-name'\n",
    "\n",
    "# Retrieve the experiment object\n",
    "experiment = Experiment.load(experiment_name=experiment_name, sagemaker_session=sagemaker_session)\n",
    "\n",
    "# List all trials in the experiment\n",
    "trials = experiment.list_trials()\n",
    "\n",
    "# Initialize an empty list to hold all trial components\n",
    "all_trial_components = []\n",
    "\n",
    "# Iterate through each trial to list its trial components\n",
    "for trial_summary in trials:\n",
    "    trial_components = sagemaker_session.sagemaker_client.list_trial_components(TrialName=trial_summary.trial_name)['TrialComponentSummaries']\n",
    "    \n",
    "    for component_summary in trial_components:\n",
    "        all_trial_components.append(component_summary['TrialComponentName'])\n",
    "\n",
    "# Print the details of each trial component (run)\n",
    "for component_name in all_trial_components:\n",
    "    component = TrialComponent.load(trial_component_name=component_name, sagemaker_session=sagemaker_session)\n",
    "    print(f\"Trial Component Name: {component.trial_component_name}\")\n",
    "    print(f\"Display Name: {component.display_name}\")\n",
    "    print(f\"Creation Time: {component.creation_time}\")\n",
    "    print(f\"Last Modified Time: {component.last_modified_time}\")\n",
    "    print(\"Parameters:\")\n",
    "    for key, value in component.parameters.items():\n",
    "        print(f\"  {key}: {value}\")\n",
    "    print(\"Metrics:\")\n",
    "    for key, value in component.metrics.items():\n",
    "        print(f\"  {key}: {value}\")\n",
    "    print(\"-\" * 60)\n"
   ]
  }
 ],
 "metadata": {
  "kernelspec": {
   "display_name": "Python 3 (ipykernel)",
   "language": "python",
   "name": "python3"
  },
  "language_info": {
   "codemirror_mode": {
    "name": "ipython",
    "version": 3
   },
   "file_extension": ".py",
   "mimetype": "text/x-python",
   "name": "python",
   "nbconvert_exporter": "python",
   "pygments_lexer": "ipython3",
   "version": "3.10.14"
  }
 },
 "nbformat": 4,
 "nbformat_minor": 5
}
