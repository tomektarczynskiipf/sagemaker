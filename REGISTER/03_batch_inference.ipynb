{
 "cells": [
  {
   "cell_type": "code",
   "execution_count": 1,
   "id": "ee5d4694-c135-425a-b2c3-d56ec370e46f",
   "metadata": {},
   "outputs": [
    {
     "name": "stdout",
     "output_type": "stream",
     "text": [
      "Requirement already satisfied: mlflow==2.13.2 in /opt/conda/lib/python3.10/site-packages (2.13.2)\n",
      "Requirement already satisfied: sagemaker-mlflow==0.1.0 in /opt/conda/lib/python3.10/site-packages (0.1.0)\n",
      "Requirement already satisfied: cloudpickle==2.2.1 in /opt/conda/lib/python3.10/site-packages (2.2.1)\n",
      "Requirement already satisfied: Flask<4 in /opt/conda/lib/python3.10/site-packages (from mlflow==2.13.2) (3.0.3)\n",
      "Requirement already satisfied: alembic!=1.10.0,<2 in /opt/conda/lib/python3.10/site-packages (from mlflow==2.13.2) (1.13.2)\n",
      "Requirement already satisfied: cachetools<6,>=5.0.0 in /opt/conda/lib/python3.10/site-packages (from mlflow==2.13.2) (5.3.3)\n",
      "Requirement already satisfied: click<9,>=7.0 in /opt/conda/lib/python3.10/site-packages (from mlflow==2.13.2) (8.1.7)\n",
      "Requirement already satisfied: docker<8,>=4.0.0 in /opt/conda/lib/python3.10/site-packages (from mlflow==2.13.2) (7.0.0)\n",
      "Requirement already satisfied: entrypoints<1 in /opt/conda/lib/python3.10/site-packages (from mlflow==2.13.2) (0.4)\n",
      "Requirement already satisfied: gitpython<4,>=3.1.9 in /opt/conda/lib/python3.10/site-packages (from mlflow==2.13.2) (3.1.43)\n",
      "Requirement already satisfied: graphene<4 in /opt/conda/lib/python3.10/site-packages (from mlflow==2.13.2) (3.3)\n",
      "Requirement already satisfied: importlib-metadata!=4.7.0,<8,>=3.7.0 in /opt/conda/lib/python3.10/site-packages (from mlflow==2.13.2) (6.10.0)\n",
      "Requirement already satisfied: markdown<4,>=3.3 in /opt/conda/lib/python3.10/site-packages (from mlflow==2.13.2) (3.6)\n",
      "Requirement already satisfied: matplotlib<4 in /opt/conda/lib/python3.10/site-packages (from mlflow==2.13.2) (3.8.4)\n",
      "Requirement already satisfied: numpy<2 in /opt/conda/lib/python3.10/site-packages (from mlflow==2.13.2) (1.24.1)\n",
      "Requirement already satisfied: opentelemetry-api<3,>=1.0.0 in /opt/conda/lib/python3.10/site-packages (from mlflow==2.13.2) (1.25.0)\n",
      "Requirement already satisfied: opentelemetry-sdk<3,>=1.0.0 in /opt/conda/lib/python3.10/site-packages (from mlflow==2.13.2) (1.25.0)\n",
      "Requirement already satisfied: packaging<25 in /opt/conda/lib/python3.10/site-packages (from mlflow==2.13.2) (24.1)\n",
      "Requirement already satisfied: pandas<3 in /opt/conda/lib/python3.10/site-packages (from mlflow==2.13.2) (2.1.4)\n",
      "Requirement already satisfied: protobuf<5,>=3.12.0 in /opt/conda/lib/python3.10/site-packages (from mlflow==2.13.2) (4.24.4)\n",
      "Requirement already satisfied: pyarrow<16,>=4.0.0 in /opt/conda/lib/python3.10/site-packages (from mlflow==2.13.2) (15.0.0)\n",
      "Requirement already satisfied: pytz<2025 in /opt/conda/lib/python3.10/site-packages (from mlflow==2.13.2) (2023.3)\n",
      "Requirement already satisfied: pyyaml<7,>=5.1 in /opt/conda/lib/python3.10/site-packages (from mlflow==2.13.2) (6.0.1)\n",
      "Requirement already satisfied: querystring-parser<2 in /opt/conda/lib/python3.10/site-packages (from mlflow==2.13.2) (1.2.4)\n",
      "Requirement already satisfied: requests<3,>=2.17.3 in /opt/conda/lib/python3.10/site-packages (from mlflow==2.13.2) (2.31.0)\n",
      "Requirement already satisfied: scikit-learn<2 in /opt/conda/lib/python3.10/site-packages (from mlflow==2.13.2) (1.2.1)\n",
      "Requirement already satisfied: scipy<2 in /opt/conda/lib/python3.10/site-packages (from mlflow==2.13.2) (1.8.0)\n",
      "Requirement already satisfied: sqlalchemy<3,>=1.4.0 in /opt/conda/lib/python3.10/site-packages (from mlflow==2.13.2) (1.4.49)\n",
      "Requirement already satisfied: sqlparse<1,>=0.4.0 in /opt/conda/lib/python3.10/site-packages (from mlflow==2.13.2) (0.4.4)\n",
      "Requirement already satisfied: Jinja2<4,>=2.11 in /opt/conda/lib/python3.10/site-packages (from mlflow==2.13.2) (3.1.4)\n",
      "Requirement already satisfied: gunicorn<23 in /opt/conda/lib/python3.10/site-packages (from mlflow==2.13.2) (22.0.0)\n",
      "Requirement already satisfied: boto3>=1.34 in /opt/conda/lib/python3.10/site-packages (from sagemaker-mlflow==0.1.0) (1.34.51)\n",
      "Requirement already satisfied: Mako in /opt/conda/lib/python3.10/site-packages (from alembic!=1.10.0,<2->mlflow==2.13.2) (1.3.5)\n",
      "Requirement already satisfied: typing-extensions>=4 in /opt/conda/lib/python3.10/site-packages (from alembic!=1.10.0,<2->mlflow==2.13.2) (4.11.0)\n",
      "Requirement already satisfied: botocore<1.35.0,>=1.34.51 in /opt/conda/lib/python3.10/site-packages (from boto3>=1.34->sagemaker-mlflow==0.1.0) (1.34.51)\n",
      "Requirement already satisfied: jmespath<2.0.0,>=0.7.1 in /opt/conda/lib/python3.10/site-packages (from boto3>=1.34->sagemaker-mlflow==0.1.0) (1.0.1)\n",
      "Requirement already satisfied: s3transfer<0.11.0,>=0.10.0 in /opt/conda/lib/python3.10/site-packages (from boto3>=1.34->sagemaker-mlflow==0.1.0) (0.10.1)\n",
      "Requirement already satisfied: urllib3>=1.26.0 in /opt/conda/lib/python3.10/site-packages (from docker<8,>=4.0.0->mlflow==2.13.2) (1.26.18)\n",
      "Requirement already satisfied: Werkzeug>=3.0.0 in /opt/conda/lib/python3.10/site-packages (from Flask<4->mlflow==2.13.2) (3.0.3)\n",
      "Requirement already satisfied: itsdangerous>=2.1.2 in /opt/conda/lib/python3.10/site-packages (from Flask<4->mlflow==2.13.2) (2.2.0)\n",
      "Requirement already satisfied: blinker>=1.6.2 in /opt/conda/lib/python3.10/site-packages (from Flask<4->mlflow==2.13.2) (1.8.2)\n",
      "Requirement already satisfied: gitdb<5,>=4.0.1 in /opt/conda/lib/python3.10/site-packages (from gitpython<4,>=3.1.9->mlflow==2.13.2) (4.0.11)\n",
      "Requirement already satisfied: graphql-core<3.3,>=3.1 in /opt/conda/lib/python3.10/site-packages (from graphene<4->mlflow==2.13.2) (3.2.3)\n",
      "Requirement already satisfied: graphql-relay<3.3,>=3.1 in /opt/conda/lib/python3.10/site-packages (from graphene<4->mlflow==2.13.2) (3.2.0)\n",
      "Requirement already satisfied: aniso8601<10,>=8 in /opt/conda/lib/python3.10/site-packages (from graphene<4->mlflow==2.13.2) (9.0.1)\n",
      "Requirement already satisfied: zipp>=0.5 in /opt/conda/lib/python3.10/site-packages (from importlib-metadata!=4.7.0,<8,>=3.7.0->mlflow==2.13.2) (3.17.0)\n",
      "Requirement already satisfied: MarkupSafe>=2.0 in /opt/conda/lib/python3.10/site-packages (from Jinja2<4,>=2.11->mlflow==2.13.2) (2.1.5)\n",
      "Requirement already satisfied: contourpy>=1.0.1 in /opt/conda/lib/python3.10/site-packages (from matplotlib<4->mlflow==2.13.2) (1.2.1)\n",
      "Requirement already satisfied: cycler>=0.10 in /opt/conda/lib/python3.10/site-packages (from matplotlib<4->mlflow==2.13.2) (0.12.1)\n",
      "Requirement already satisfied: fonttools>=4.22.0 in /opt/conda/lib/python3.10/site-packages (from matplotlib<4->mlflow==2.13.2) (4.51.0)\n",
      "Requirement already satisfied: kiwisolver>=1.3.1 in /opt/conda/lib/python3.10/site-packages (from matplotlib<4->mlflow==2.13.2) (1.4.5)\n",
      "Requirement already satisfied: pillow>=8 in /opt/conda/lib/python3.10/site-packages (from matplotlib<4->mlflow==2.13.2) (10.3.0)\n",
      "Requirement already satisfied: pyparsing>=2.3.1 in /opt/conda/lib/python3.10/site-packages (from matplotlib<4->mlflow==2.13.2) (3.1.2)\n",
      "Requirement already satisfied: python-dateutil>=2.7 in /opt/conda/lib/python3.10/site-packages (from matplotlib<4->mlflow==2.13.2) (2.9.0)\n",
      "Requirement already satisfied: deprecated>=1.2.6 in /opt/conda/lib/python3.10/site-packages (from opentelemetry-api<3,>=1.0.0->mlflow==2.13.2) (1.2.14)\n",
      "Requirement already satisfied: opentelemetry-semantic-conventions==0.46b0 in /opt/conda/lib/python3.10/site-packages (from opentelemetry-sdk<3,>=1.0.0->mlflow==2.13.2) (0.46b0)\n",
      "Requirement already satisfied: tzdata>=2022.1 in /opt/conda/lib/python3.10/site-packages (from pandas<3->mlflow==2.13.2) (2024.1)\n",
      "Requirement already satisfied: six in /opt/conda/lib/python3.10/site-packages (from querystring-parser<2->mlflow==2.13.2) (1.16.0)\n",
      "Requirement already satisfied: charset-normalizer<4,>=2 in /opt/conda/lib/python3.10/site-packages (from requests<3,>=2.17.3->mlflow==2.13.2) (3.3.2)\n",
      "Requirement already satisfied: idna<4,>=2.5 in /opt/conda/lib/python3.10/site-packages (from requests<3,>=2.17.3->mlflow==2.13.2) (3.7)\n",
      "Requirement already satisfied: certifi>=2017.4.17 in /opt/conda/lib/python3.10/site-packages (from requests<3,>=2.17.3->mlflow==2.13.2) (2024.2.2)\n",
      "Requirement already satisfied: joblib>=1.1.1 in /opt/conda/lib/python3.10/site-packages (from scikit-learn<2->mlflow==2.13.2) (1.4.2)\n",
      "Requirement already satisfied: threadpoolctl>=2.0.0 in /opt/conda/lib/python3.10/site-packages (from scikit-learn<2->mlflow==2.13.2) (3.5.0)\n",
      "Requirement already satisfied: greenlet!=0.4.17 in /opt/conda/lib/python3.10/site-packages (from sqlalchemy<3,>=1.4.0->mlflow==2.13.2) (3.0.3)\n",
      "Requirement already satisfied: wrapt<2,>=1.10 in /opt/conda/lib/python3.10/site-packages (from deprecated>=1.2.6->opentelemetry-api<3,>=1.0.0->mlflow==2.13.2) (1.14.1)\n",
      "Requirement already satisfied: smmap<6,>=3.0.1 in /opt/conda/lib/python3.10/site-packages (from gitdb<5,>=4.0.1->gitpython<4,>=3.1.9->mlflow==2.13.2) (5.0.0)\n"
     ]
    }
   ],
   "source": [
    "!pip install --upgrade --quiet sagemaker>=2.215.0\n",
    "!pip install mlflow==2.13.2 sagemaker-mlflow==0.1.0 cloudpickle==2.2.1"
   ]
  },
  {
   "cell_type": "code",
   "execution_count": 1,
   "id": "be9e522f-fe75-4222-be7d-a54de576da20",
   "metadata": {},
   "outputs": [
    {
     "name": "stdout",
     "output_type": "stream",
     "text": [
      "sagemaker.config INFO - Not applying SDK defaults from location: /etc/xdg/sagemaker/config.yaml\n",
      "sagemaker.config INFO - Not applying SDK defaults from location: /home/sagemaker-user/.config/sagemaker/config.yaml\n"
     ]
    }
   ],
   "source": [
    "import sagemaker\n",
    "from sagemaker import get_execution_role\n",
    "from sagemaker.sklearn.estimator import SKLearn\n",
    "from sagemaker.serve import SchemaBuilder\n",
    "from sagemaker.serve import ModelBuilder\n",
    "from sagemaker.serve.mode.function_pointers import Mode\n",
    "import mlflow\n",
    "from mlflow import MlflowClient\n",
    "import boto3\n",
    "import numpy as np\n",
    "import pandas as pd\n",
    "import os\n",
    "from sklearn import datasets"
   ]
  },
  {
   "cell_type": "markdown",
   "id": "8f5947fd-405c-44f7-8b2b-69a62d16cea2",
   "metadata": {},
   "source": [
    "# SETTINGS"
   ]
  },
  {
   "cell_type": "code",
   "execution_count": 2,
   "id": "c212a433-668a-4f8c-a82b-e2ba5f64362d",
   "metadata": {},
   "outputs": [],
   "source": [
    "tracking_server_arn = \"arn:aws:sagemaker:eu-west-1:211125740051:mlflow-tracking-server/Sample-server\"\n",
    "train_data_uri = \"s3://sagemaker-bucket-ds/training-jobs/data/train/\"\n",
    "mlflow_experiment_name = \"01-project-POL\"\n",
    "mlflow_register_name = \"01-project-POL\"\n",
    "input_path = 's3://sagemaker-bucket-ds/training-jobs/data/inference_input/'\n",
    "output_path = 's3://sagemaker-bucket-ds/training-jobs/data/inference_output/'"
   ]
  },
  {
   "cell_type": "markdown",
   "id": "5db70e34-0f0b-4d22-af2f-61fdbc9f2fa8",
   "metadata": {},
   "source": [
    "# SET MLFLOW"
   ]
  },
  {
   "cell_type": "code",
   "execution_count": 23,
   "id": "7375bdc4-7bb8-487c-b77d-6344162e8d6d",
   "metadata": {},
   "outputs": [],
   "source": [
    "mlflow.set_tracking_uri(tracking_server_arn)\n",
    "client = MlflowClient()\n",
    "role = get_execution_role()\n",
    "sagemaker_session = sagemaker.Session()"
   ]
  },
  {
   "cell_type": "markdown",
   "id": "f6ac1c4e-edfe-4b72-8a98-31984efcd1bd",
   "metadata": {},
   "source": [
    "# GET THE MODEL PATH"
   ]
  },
  {
   "cell_type": "code",
   "execution_count": 4,
   "id": "ec852d19-161e-4f73-8947-8dfd65c8afba",
   "metadata": {},
   "outputs": [],
   "source": [
    "registered_model = client.get_registered_model(name=mlflow_register_name)\n",
    "run_id = registered_model.latest_versions[0].run_id\n",
    "source_path = registered_model.latest_versions[0].source"
   ]
  },
  {
   "cell_type": "code",
   "execution_count": 5,
   "id": "6ec9fe77-a60b-4893-a6ef-748fd30a9397",
   "metadata": {},
   "outputs": [],
   "source": [
    "sklearn_input = np.array([1.0, 2.0, 3.0, 4.0]).reshape(1, -1)\n",
    "sklearn_output = 1\n",
    "sklearn_schema_builder = SchemaBuilder(\n",
    "    sample_input=sklearn_input,\n",
    "    sample_output=sklearn_output,\n",
    ")"
   ]
  },
  {
   "cell_type": "code",
   "execution_count": 10,
   "id": "b2ff336e-cd5f-4ce8-aa15-5a869bdf93a1",
   "metadata": {},
   "outputs": [],
   "source": [
    "model_builder = ModelBuilder(\n",
    "    mode=Mode.SAGEMAKER_ENDPOINT,\n",
    "    schema_builder=sklearn_schema_builder,\n",
    "    role_arn=role,\n",
    "    model_metadata={\"MLFLOW_MODEL_PATH\": source_path},\n",
    ")"
   ]
  },
  {
   "cell_type": "code",
   "execution_count": 12,
   "id": "4355665c-2517-471e-a9b2-1f4aa8fd1c48",
   "metadata": {},
   "outputs": [
    {
     "name": "stderr",
     "output_type": "stream",
     "text": [
      "ModelBuilder: INFO:     Downloading ML_FLOW/36/d73930aa982d4256bd908c0decdc3bb5/artifacts/model/MLmodel to /tmp/sagemaker/model-builder/c48dc69439eb11efa274767cd976fd19/MLmodel\n",
      "ModelBuilder: INFO:     Downloading ML_FLOW/36/d73930aa982d4256bd908c0decdc3bb5/artifacts/model/conda.yaml to /tmp/sagemaker/model-builder/c48dc69439eb11efa274767cd976fd19/conda.yaml\n",
      "ModelBuilder: INFO:     Downloading ML_FLOW/36/d73930aa982d4256bd908c0decdc3bb5/artifacts/model/metadata/MLmodel to /tmp/sagemaker/model-builder/c48dc69439eb11efa274767cd976fd19/metadata/MLmodel\n",
      "ModelBuilder: INFO:     Downloading ML_FLOW/36/d73930aa982d4256bd908c0decdc3bb5/artifacts/model/metadata/conda.yaml to /tmp/sagemaker/model-builder/c48dc69439eb11efa274767cd976fd19/metadata/conda.yaml\n",
      "ModelBuilder: INFO:     Downloading ML_FLOW/36/d73930aa982d4256bd908c0decdc3bb5/artifacts/model/metadata/python_env.yaml to /tmp/sagemaker/model-builder/c48dc69439eb11efa274767cd976fd19/metadata/python_env.yaml\n",
      "ModelBuilder: INFO:     Downloading ML_FLOW/36/d73930aa982d4256bd908c0decdc3bb5/artifacts/model/metadata/requirements.txt to /tmp/sagemaker/model-builder/c48dc69439eb11efa274767cd976fd19/metadata/requirements.txt\n",
      "ModelBuilder: INFO:     Downloading ML_FLOW/36/d73930aa982d4256bd908c0decdc3bb5/artifacts/model/model.pkl to /tmp/sagemaker/model-builder/c48dc69439eb11efa274767cd976fd19/model.pkl\n",
      "ModelBuilder: INFO:     Downloading ML_FLOW/36/d73930aa982d4256bd908c0decdc3bb5/artifacts/model/python_env.yaml to /tmp/sagemaker/model-builder/c48dc69439eb11efa274767cd976fd19/python_env.yaml\n",
      "ModelBuilder: INFO:     Downloading ML_FLOW/36/d73930aa982d4256bd908c0decdc3bb5/artifacts/model/requirements.txt to /tmp/sagemaker/model-builder/c48dc69439eb11efa274767cd976fd19/requirements.txt\n",
      "ModelBuilder: INFO:     Skipping auto detection as the image uri is provided 141502667606.dkr.ecr.eu-west-1.amazonaws.com/sagemaker-scikit-learn:1.2-1-cpu-py3\n",
      "ModelBuilder: DEBUG:     Packaging provided requirements.txt from /tmp/sagemaker/model-builder/c48dc69439eb11efa274767cd976fd19/requirements.txt\n",
      "ModelBuilder: DEBUG:     Uploading the model resources to bucket=sagemaker-eu-west-1-211125740051, key_prefix=sagemaker-scikit-learn-2024-07-04-09-59-35-605.\n",
      "Uploading model artifacts: 100%|████████████████████████| 10786/10786 [00:00<00:00, 68914.31bytes/s]\n",
      "ModelBuilder: DEBUG:     Model resources uploaded to: s3://sagemaker-eu-west-1-211125740051/sagemaker-scikit-learn-2024-07-04-09-59-35-605/serve.tar.gz\n"
     ]
    }
   ],
   "source": [
    "built_model = model_builder.build()"
   ]
  },
  {
   "cell_type": "markdown",
   "id": "f9537a10-1a7d-4e16-8480-5d41ab2f3f54",
   "metadata": {},
   "source": [
    "# CREATE ENDPOINT"
   ]
  },
  {
   "cell_type": "code",
   "execution_count": 18,
   "id": "81ca72ce-a001-4b6f-960b-1095921cdc8c",
   "metadata": {},
   "outputs": [
    {
     "name": "stderr",
     "output_type": "stream",
     "text": [
      "ModelBuilder: INFO:     ModelBuilder will collect telemetry to help us better understand our user's needs, diagnose issues, and deliver additional features. To opt out of telemetry, please disable via TelemetryOptOut in intelligent defaults. See https://sagemaker.readthedocs.io/en/stable/overview.html#configuring-and-using-defaults-with-the-sagemaker-python-sdk for more info.\n",
      "INFO:sagemaker:Creating model with name: sagemaker-scikit-learn-2024-07-04-10-09-20-607\n",
      "INFO:sagemaker:Creating endpoint-config with name sagemaker-scikit-learn-2024-07-04-10-09-21-235\n",
      "INFO:sagemaker:Creating endpoint with name sagemaker-scikit-learn-2024-07-04-10-09-21-235\n",
      "WARNING:sagemaker:Failed to enable live logging: An error occurred (AccessDeniedException) when calling the FilterLogEvents operation: User: arn:aws:sts::211125740051:assumed-role/AmazonSageMaker-ExecutionRole-20240607T130532/SageMaker is not authorized to perform: logs:FilterLogEvents on resource: arn:aws:logs:eu-west-1:211125740051:log-group:/aws/sagemaker/Endpoints/sagemaker-scikit-learn-2024-07-04-10-09-21-235:log-stream: because no identity-based policy allows the logs:FilterLogEvents action. Fallback to default logging...\n"
     ]
    },
    {
     "name": "stdout",
     "output_type": "stream",
     "text": [
      "-----------!"
     ]
    },
    {
     "name": "stderr",
     "output_type": "stream",
     "text": [
      "ModelBuilder: INFO:     Polling lineage artifact for model data in s3://sagemaker-eu-west-1-211125740051/sagemaker-scikit-learn-2024-07-04-09-59-35-605/serve.tar.gz\n",
      "ModelBuilder: WARNING:     Lineage artifact for transformed model data is not auto-created within 120 seconds, skipping creation of lineage artifact for mlflow model path\n",
      "ModelBuilder: DEBUG:     ModelBuilder metrics emitted.\n"
     ]
    }
   ],
   "source": [
    "predictor = built_model.deploy(initial_instance_count=1, instance_type=\"ml.m5.large\")"
   ]
  },
  {
   "cell_type": "code",
   "execution_count": 19,
   "id": "930fa3d1-d1bc-4ddd-a73b-81412cbdc904",
   "metadata": {},
   "outputs": [
    {
     "data": {
      "text/plain": [
       "[0.0,\n",
       " 0.0,\n",
       " 0.0,\n",
       " 0.0,\n",
       " 0.0,\n",
       " 0.0,\n",
       " 0.0,\n",
       " 0.0,\n",
       " 0.0,\n",
       " 0.0,\n",
       " 0.0,\n",
       " 0.0,\n",
       " 0.0,\n",
       " 0.0,\n",
       " 0.0,\n",
       " 0.0,\n",
       " 0.0,\n",
       " 0.0,\n",
       " 0.0,\n",
       " 0.0,\n",
       " 0.0,\n",
       " 0.0,\n",
       " 0.0,\n",
       " 0.0,\n",
       " 0.0,\n",
       " 0.0,\n",
       " 0.0,\n",
       " 0.0,\n",
       " 0.0,\n",
       " 0.0,\n",
       " 0.0,\n",
       " 0.0,\n",
       " 0.0,\n",
       " 0.0,\n",
       " 0.0,\n",
       " 0.0,\n",
       " 0.0,\n",
       " 0.0,\n",
       " 0.0,\n",
       " 0.0,\n",
       " 0.0,\n",
       " 0.0,\n",
       " 0.0,\n",
       " 0.0,\n",
       " 0.0,\n",
       " 0.0,\n",
       " 0.0,\n",
       " 0.0,\n",
       " 0.0,\n",
       " 0.0,\n",
       " 1.0,\n",
       " 1.0,\n",
       " 1.0,\n",
       " 1.0,\n",
       " 1.0,\n",
       " 1.0,\n",
       " 1.0,\n",
       " 1.0,\n",
       " 1.0,\n",
       " 1.0,\n",
       " 1.0,\n",
       " 1.0,\n",
       " 1.0,\n",
       " 1.0,\n",
       " 1.0,\n",
       " 1.0,\n",
       " 1.0,\n",
       " 1.0,\n",
       " 1.0,\n",
       " 1.0,\n",
       " 1.0,\n",
       " 1.0,\n",
       " 1.0,\n",
       " 1.0,\n",
       " 1.0,\n",
       " 1.0,\n",
       " 1.0,\n",
       " 1.0,\n",
       " 1.0,\n",
       " 1.0,\n",
       " 1.0,\n",
       " 1.0,\n",
       " 1.0,\n",
       " 1.0,\n",
       " 1.0,\n",
       " 1.0,\n",
       " 1.0,\n",
       " 1.0,\n",
       " 1.0,\n",
       " 1.0,\n",
       " 1.0,\n",
       " 1.0,\n",
       " 1.0,\n",
       " 1.0,\n",
       " 1.0,\n",
       " 1.0,\n",
       " 1.0,\n",
       " 1.0,\n",
       " 1.0,\n",
       " 1.0,\n",
       " 1.0,\n",
       " 1.0,\n",
       " 1.0,\n",
       " 1.0,\n",
       " 1.0,\n",
       " 1.0,\n",
       " 1.0,\n",
       " 1.0,\n",
       " 1.0,\n",
       " 1.0,\n",
       " 1.0,\n",
       " 1.0,\n",
       " 1.0,\n",
       " 1.0,\n",
       " 1.0,\n",
       " 1.0,\n",
       " 1.0,\n",
       " 1.0,\n",
       " 1.0,\n",
       " 1.0,\n",
       " 1.0,\n",
       " 1.0,\n",
       " 1.0,\n",
       " 1.0,\n",
       " 1.0,\n",
       " 1.0,\n",
       " 1.0,\n",
       " 1.0,\n",
       " 1.0,\n",
       " 1.0,\n",
       " 1.0,\n",
       " 1.0,\n",
       " 1.0,\n",
       " 1.0,\n",
       " 1.0,\n",
       " 1.0,\n",
       " 1.0,\n",
       " 1.0,\n",
       " 1.0,\n",
       " 1.0,\n",
       " 1.0,\n",
       " 1.0,\n",
       " 1.0,\n",
       " 1.0,\n",
       " 1.0,\n",
       " 1.0,\n",
       " 1.0,\n",
       " 1.0,\n",
       " 1.0,\n",
       " 1.0]"
      ]
     },
     "execution_count": 19,
     "metadata": {},
     "output_type": "execute_result"
    }
   ],
   "source": [
    "iris = datasets.load_iris()\n",
    "predictor.predict(iris.data)"
   ]
  },
  {
   "cell_type": "code",
   "execution_count": 24,
   "id": "3f626fd7-24dd-4bde-aa12-698391af0bbf",
   "metadata": {},
   "outputs": [
    {
     "name": "stderr",
     "output_type": "stream",
     "text": [
      "INFO:sagemaker:Deleting endpoint with name: sagemaker-scikit-learn-2024-07-04-10-09-21-235\n"
     ]
    }
   ],
   "source": [
    "sagemaker_session.delete_endpoint(endpoint_name=built_model.endpoint_name)"
   ]
  },
  {
   "cell_type": "code",
   "execution_count": 29,
   "id": "1ad16afb-a8bb-40a1-aaf7-d499ccc7a726",
   "metadata": {},
   "outputs": [],
   "source": [
    "!aws s3 rm s3://sagemaker-bucket-ds/training-jobs/data/inference_output/ --recursive"
   ]
  },
  {
   "cell_type": "code",
   "execution_count": 31,
   "id": "3beecd88-ae3e-466a-9d00-30fa7f4e2f54",
   "metadata": {},
   "outputs": [],
   "source": [
    "os.makedirs(\"03_training_code\", exist_ok=True)"
   ]
  },
  {
   "cell_type": "code",
   "execution_count": 55,
   "id": "ec215e59-d0da-4c38-bf77-7c1c8e1a8e3f",
   "metadata": {},
   "outputs": [
    {
     "name": "stdout",
     "output_type": "stream",
     "text": [
      "Overwriting 03_training_code/inference.py\n"
     ]
    }
   ],
   "source": [
    "%%writefile 03_training_code/inference.py\n",
    "\n",
    "import os\n",
    "import pickle\n",
    "import json\n",
    "import pandas as pd\n",
    "import io\n",
    "from sagemaker_containers.beta.framework import worker\n",
    "\n",
    "def model_fn(model_dir):\n",
    "    with open(os.path.join(model_dir, \"model.pkl\"), \"rb\") as f:\n",
    "        model = pickle.load(f)\n",
    "    return model\n",
    "\n",
    "def input_fn(input_data, content_type):\n",
    "    if content_type == 'text/csv':\n",
    "        return pd.read_csv(io.StringIO(input_data), header=None)\n",
    "    else:\n",
    "        raise ValueError(f\"Unsupported content type: {content_type}\")\n",
    "\n",
    "def predict_fn(input_data, model):\n",
    "    predictions = model.predict_proba(input_data)\n",
    "    return predictions\n",
    "\n",
    "def output_fn(prediction, content_type):\n",
    "    if content_type == 'application/json':\n",
    "        return worker.Response(json.dumps(prediction.tolist()), mimetype=content_type)\n",
    "    elif content_type == 'text/csv':\n",
    "        return worker.Response(pd.DataFrame(prediction).to_csv(index=False), mimetype=content_type)\n",
    "    else:\n",
    "        raise ValueError(f\"Unsupported content type: {content_type}\")"
   ]
  },
  {
   "cell_type": "code",
   "execution_count": 44,
   "id": "ca14e4d2-20a5-492b-a4b2-82fe4fd62c73",
   "metadata": {
    "jupyter": {
     "source_hidden": true
    }
   },
   "outputs": [],
   "source": []
  },
  {
   "cell_type": "code",
   "execution_count": 45,
   "id": "9b527334-1542-4f12-a58b-640ecebf1cc8",
   "metadata": {},
   "outputs": [
    {
     "name": "stdout",
     "output_type": "stream",
     "text": [
      "model.pkl\n"
     ]
    }
   ],
   "source": [
    "!tar -czvf model.tar.gz model.pkl"
   ]
  },
  {
   "cell_type": "code",
   "execution_count": 46,
   "id": "6ebab680-9236-4d92-a745-3c1b55a84524",
   "metadata": {},
   "outputs": [],
   "source": [
    "# Define the new object key for the tar.gz file\n",
    "tar_gz_object_key = 'ML_FLOW/36/d73930aa982d4256bd908c0decdc3bb5/artifacts/model/model.tar.gz'\n",
    "\n",
    "# Upload the tar.gz file\n",
    "s3.upload_file('model.tar.gz', bucket_name, tar_gz_object_key)"
   ]
  },
  {
   "cell_type": "code",
   "execution_count": 47,
   "id": "d3e46d57-c3e3-4f27-bb4a-ff711bd913b6",
   "metadata": {},
   "outputs": [
    {
     "data": {
      "text/plain": [
       "'s3://sagemaker-bucket-ds/ML_FLOW/36/d73930aa982d4256bd908c0decdc3bb5/artifacts/model/model.tar.gz'"
      ]
     },
     "execution_count": 47,
     "metadata": {},
     "output_type": "execute_result"
    }
   ],
   "source": [
    "model_path = os.path.join(source_path, \"model.tar.gz\")\n",
    "model_path"
   ]
  },
  {
   "cell_type": "code",
   "execution_count": 56,
   "id": "3574e6bb-e861-462c-ac5f-fb5c51ca2ebe",
   "metadata": {},
   "outputs": [],
   "source": [
    "from sagemaker.sklearn.model import SKLearnModel\n",
    "\n",
    "# Create an SKLearnModel object\n",
    "sklearn_model = SKLearnModel(\n",
    "    model_data=model_path,\n",
    "    role=role,\n",
    "    entry_point='inference.py',\n",
    "    source_dir='03_training_code',\n",
    "    framework_version='1.2-1'\n",
    ")"
   ]
  },
  {
   "cell_type": "code",
   "execution_count": null,
   "id": "56a71274-9bf1-414c-8e3b-07a9c6444922",
   "metadata": {},
   "outputs": [
    {
     "name": "stderr",
     "output_type": "stream",
     "text": [
      "INFO:sagemaker:Creating model with name: sagemaker-scikit-learn-2024-07-04-10-55-35-350\n"
     ]
    }
   ],
   "source": [
    "# Create the transformer object with a custom model name\n",
    "transformer = sklearn_model.transformer(\n",
    "    instance_count=1,\n",
    "    instance_type='ml.m5.large',\n",
    "    output_path=output_path,\n",
    "    assemble_with='Line'\n",
    ")"
   ]
  },
  {
   "cell_type": "code",
   "execution_count": null,
   "id": "5c80e33e-c585-4c9c-8d90-5171d8fa480b",
   "metadata": {},
   "outputs": [],
   "source": [
    "# Start the batch transform job\n",
    "transformer.transform(\n",
    "    data=input_path,\n",
    "    content_type='text/csv',\n",
    "    split_type='Line'\n",
    ")"
   ]
  }
 ],
 "metadata": {
  "kernelspec": {
   "display_name": "Python 3 (ipykernel)",
   "language": "python",
   "name": "python3"
  },
  "language_info": {
   "codemirror_mode": {
    "name": "ipython",
    "version": 3
   },
   "file_extension": ".py",
   "mimetype": "text/x-python",
   "name": "python",
   "nbconvert_exporter": "python",
   "pygments_lexer": "ipython3",
   "version": "3.10.14"
  }
 },
 "nbformat": 4,
 "nbformat_minor": 5
}
