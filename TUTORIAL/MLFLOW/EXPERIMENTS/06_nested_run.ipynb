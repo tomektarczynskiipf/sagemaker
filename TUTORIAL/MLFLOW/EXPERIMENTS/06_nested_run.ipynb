{
 "cells": [
  {
   "cell_type": "markdown",
   "id": "8286ef19-21dd-409d-b4d1-dec66db42f89",
   "metadata": {},
   "source": [
    "# LOAD LIBRARIES"
   ]
  },
  {
   "cell_type": "code",
   "execution_count": 1,
   "id": "49f14fd5-fbac-4718-a6de-65d55877ef17",
   "metadata": {},
   "outputs": [],
   "source": [
    "import mlflow\n",
    "import mlflow.xgboost\n",
    "import mlflow.data\n",
    "from mlflow.data.pandas_dataset import PandasDataset\n",
    "\n",
    "import xgboost as xgb\n",
    "from sklearn.datasets import load_diabetes\n",
    "from sklearn.model_selection import train_test_split\n",
    "from sklearn.metrics import mean_squared_error, r2_score\n",
    "import matplotlib.pyplot as plt\n",
    "import pandas as pd\n",
    "import os"
   ]
  },
  {
   "cell_type": "markdown",
   "id": "2d154ee4-cc67-48ce-a3a0-da189fe7d739",
   "metadata": {},
   "source": [
    "# SETTINGS"
   ]
  },
  {
   "cell_type": "code",
   "execution_count": 2,
   "id": "f9c86922-e629-4140-9f13-144cbc35daef",
   "metadata": {},
   "outputs": [],
   "source": [
    "mlflow_arn = \"arn:aws:sagemaker:eu-west-1:575618486322:mlflow-tracking-server/dev-mlflow\"\n",
    "mlflow_experiment_name = \"02-sample-experiment\""
   ]
  },
  {
   "cell_type": "markdown",
   "id": "71391261-5706-4d57-97fd-ddb9333a7c1e",
   "metadata": {},
   "source": [
    "# SET MLFLOW"
   ]
  },
  {
   "cell_type": "code",
   "execution_count": 3,
   "id": "d071886c-5356-4877-84e3-ea97eeb8c499",
   "metadata": {},
   "outputs": [
    {
     "data": {
      "text/plain": [
       "<Experiment: artifact_location='s3://ipf-sds-datalake-dev-data-science-bucket/mlflow/2', creation_time=1730285259326, experiment_id='2', last_update_time=1730285259326, lifecycle_stage='active', name='02-sample-experiment', tags={}>"
      ]
     },
     "execution_count": 3,
     "metadata": {},
     "output_type": "execute_result"
    }
   ],
   "source": [
    "mlflow.set_tracking_uri(mlflow_arn)\n",
    "mlflow.set_experiment(mlflow_experiment_name)"
   ]
  },
  {
   "cell_type": "markdown",
   "id": "6e02481b-8e44-4d42-b533-de201f5ade38",
   "metadata": {},
   "source": [
    "# LOAD DATA"
   ]
  },
  {
   "cell_type": "code",
   "execution_count": 4,
   "id": "5cce8f62-a9e1-4cf4-9f11-f595f57dc21e",
   "metadata": {},
   "outputs": [],
   "source": [
    "# Load Diabetes dataset\n",
    "data = load_diabetes()\n",
    "X = data.data\n",
    "y = data.target\n",
    "\n",
    "# Split dataset\n",
    "X_train, X_test, y_train, y_test = train_test_split(X, y, test_size=0.2, random_state=42)\n",
    "\n",
    "df_train = pd.DataFrame(data=X_train, columns=data.feature_names)\n",
    "df_train['target'] = y_train\n",
    "\n",
    "df_test = pd.DataFrame(data=X_test, columns=data.feature_names)\n",
    "df_test['target'] = y_test"
   ]
  },
  {
   "cell_type": "markdown",
   "id": "004233c0-165e-4a10-81cd-090218f9ffca",
   "metadata": {},
   "source": [
    "# LOG NESTED MODELS"
   ]
  },
  {
   "cell_type": "code",
   "execution_count": 8,
   "id": "0462250e-f2e6-4ba9-aa6c-ae55955133cf",
   "metadata": {},
   "outputs": [
    {
     "name": "stderr",
     "output_type": "stream",
     "text": [
      "/opt/conda/lib/python3.11/site-packages/xgboost/core.py:160: UserWarning: [11:13:22] WARNING: /home/conda/feedstock_root/build_artifacts/xgboost-split_1713397725960/work/src/c_api/c_api.cc:1240: Saving into deprecated binary model format, please consider using `json` or `ubj`. Model format will default to JSON in XGBoost 2.2 if not specified.\n",
      "  warnings.warn(smsg, UserWarning)\n",
      "/opt/conda/lib/python3.11/site-packages/_distutils_hack/__init__.py:17: UserWarning: Distutils was imported before Setuptools, but importing Setuptools also replaces the `distutils` module in `sys.modules`. This may lead to undesirable behaviors or errors. To avoid these issues, avoid using distutils directly, ensure that setuptools is installed in the traditional way (e.g. not an editable install), and/or make sure that setuptools is always imported before distutils.\n",
      "  warnings.warn(\n",
      "/opt/conda/lib/python3.11/site-packages/_distutils_hack/__init__.py:32: UserWarning: Setuptools is replacing distutils. Support for replacing an already imported distutils is deprecated. In the future, this condition will fail. Register concerns at https://github.com/pypa/setuptools/issues/new?template=distutils-deprecation.yml\n",
      "  warnings.warn(\n",
      "2024/10/30 11:13:26 WARNING mlflow.models.model: Input example should be provided to infer model signature if the model signature is not provided when logging the model.\n",
      "2024/10/30 11:13:26 INFO mlflow.tracking._tracking_service.client: 🏃 View run my-param1 at: https://eu-west-1.experiments.sagemaker.aws/#/experiments/2/runs/b4c3885ccf654556b716015683c375f1.\n",
      "2024/10/30 11:13:26 INFO mlflow.tracking._tracking_service.client: 🧪 View experiment at: https://eu-west-1.experiments.sagemaker.aws/#/experiments/2.\n",
      "/opt/conda/lib/python3.11/site-packages/xgboost/core.py:160: UserWarning: [11:13:27] WARNING: /home/conda/feedstock_root/build_artifacts/xgboost-split_1713397725960/work/src/c_api/c_api.cc:1240: Saving into deprecated binary model format, please consider using `json` or `ubj`. Model format will default to JSON in XGBoost 2.2 if not specified.\n",
      "  warnings.warn(smsg, UserWarning)\n",
      "/opt/conda/lib/python3.11/site-packages/_distutils_hack/__init__.py:17: UserWarning: Distutils was imported before Setuptools, but importing Setuptools also replaces the `distutils` module in `sys.modules`. This may lead to undesirable behaviors or errors. To avoid these issues, avoid using distutils directly, ensure that setuptools is installed in the traditional way (e.g. not an editable install), and/or make sure that setuptools is always imported before distutils.\n",
      "  warnings.warn(\n",
      "/opt/conda/lib/python3.11/site-packages/_distutils_hack/__init__.py:32: UserWarning: Setuptools is replacing distutils. Support for replacing an already imported distutils is deprecated. In the future, this condition will fail. Register concerns at https://github.com/pypa/setuptools/issues/new?template=distutils-deprecation.yml\n",
      "  warnings.warn(\n",
      "2024/10/30 11:13:30 WARNING mlflow.models.model: Input example should be provided to infer model signature if the model signature is not provided when logging the model.\n",
      "2024/10/30 11:13:30 INFO mlflow.tracking._tracking_service.client: 🏃 View run my-param2 at: https://eu-west-1.experiments.sagemaker.aws/#/experiments/2/runs/bb83c242613c4ac490fe98cd7e4a6379.\n",
      "2024/10/30 11:13:30 INFO mlflow.tracking._tracking_service.client: 🧪 View experiment at: https://eu-west-1.experiments.sagemaker.aws/#/experiments/2.\n",
      "/opt/conda/lib/python3.11/site-packages/xgboost/core.py:160: UserWarning: [11:13:31] WARNING: /home/conda/feedstock_root/build_artifacts/xgboost-split_1713397725960/work/src/c_api/c_api.cc:1240: Saving into deprecated binary model format, please consider using `json` or `ubj`. Model format will default to JSON in XGBoost 2.2 if not specified.\n",
      "  warnings.warn(smsg, UserWarning)\n",
      "/opt/conda/lib/python3.11/site-packages/_distutils_hack/__init__.py:17: UserWarning: Distutils was imported before Setuptools, but importing Setuptools also replaces the `distutils` module in `sys.modules`. This may lead to undesirable behaviors or errors. To avoid these issues, avoid using distutils directly, ensure that setuptools is installed in the traditional way (e.g. not an editable install), and/or make sure that setuptools is always imported before distutils.\n",
      "  warnings.warn(\n",
      "/opt/conda/lib/python3.11/site-packages/_distutils_hack/__init__.py:32: UserWarning: Setuptools is replacing distutils. Support for replacing an already imported distutils is deprecated. In the future, this condition will fail. Register concerns at https://github.com/pypa/setuptools/issues/new?template=distutils-deprecation.yml\n",
      "  warnings.warn(\n",
      "2024/10/30 11:13:34 WARNING mlflow.models.model: Input example should be provided to infer model signature if the model signature is not provided when logging the model.\n",
      "2024/10/30 11:13:34 INFO mlflow.tracking._tracking_service.client: 🏃 View run my-param3 at: https://eu-west-1.experiments.sagemaker.aws/#/experiments/2/runs/99f3603bb9af471aa6093bf8b027afd1.\n",
      "2024/10/30 11:13:34 INFO mlflow.tracking._tracking_service.client: 🧪 View experiment at: https://eu-west-1.experiments.sagemaker.aws/#/experiments/2.\n",
      "/opt/conda/lib/python3.11/site-packages/xgboost/core.py:160: UserWarning: [11:13:35] WARNING: /home/conda/feedstock_root/build_artifacts/xgboost-split_1713397725960/work/src/c_api/c_api.cc:1240: Saving into deprecated binary model format, please consider using `json` or `ubj`. Model format will default to JSON in XGBoost 2.2 if not specified.\n",
      "  warnings.warn(smsg, UserWarning)\n",
      "/opt/conda/lib/python3.11/site-packages/_distutils_hack/__init__.py:17: UserWarning: Distutils was imported before Setuptools, but importing Setuptools also replaces the `distutils` module in `sys.modules`. This may lead to undesirable behaviors or errors. To avoid these issues, avoid using distutils directly, ensure that setuptools is installed in the traditional way (e.g. not an editable install), and/or make sure that setuptools is always imported before distutils.\n",
      "  warnings.warn(\n",
      "/opt/conda/lib/python3.11/site-packages/_distutils_hack/__init__.py:32: UserWarning: Setuptools is replacing distutils. Support for replacing an already imported distutils is deprecated. In the future, this condition will fail. Register concerns at https://github.com/pypa/setuptools/issues/new?template=distutils-deprecation.yml\n",
      "  warnings.warn(\n",
      "2024/10/30 11:13:38 WARNING mlflow.models.model: Input example should be provided to infer model signature if the model signature is not provided when logging the model.\n",
      "2024/10/30 11:13:38 INFO mlflow.tracking._tracking_service.client: 🏃 View run my-param4 at: https://eu-west-1.experiments.sagemaker.aws/#/experiments/2/runs/468f4198e1934d889e243508d5f06812.\n",
      "2024/10/30 11:13:38 INFO mlflow.tracking._tracking_service.client: 🧪 View experiment at: https://eu-west-1.experiments.sagemaker.aws/#/experiments/2.\n",
      "/opt/conda/lib/python3.11/site-packages/xgboost/core.py:160: UserWarning: [11:13:39] WARNING: /home/conda/feedstock_root/build_artifacts/xgboost-split_1713397725960/work/src/c_api/c_api.cc:1240: Saving into deprecated binary model format, please consider using `json` or `ubj`. Model format will default to JSON in XGBoost 2.2 if not specified.\n",
      "  warnings.warn(smsg, UserWarning)\n",
      "/opt/conda/lib/python3.11/site-packages/_distutils_hack/__init__.py:17: UserWarning: Distutils was imported before Setuptools, but importing Setuptools also replaces the `distutils` module in `sys.modules`. This may lead to undesirable behaviors or errors. To avoid these issues, avoid using distutils directly, ensure that setuptools is installed in the traditional way (e.g. not an editable install), and/or make sure that setuptools is always imported before distutils.\n",
      "  warnings.warn(\n",
      "/opt/conda/lib/python3.11/site-packages/_distutils_hack/__init__.py:32: UserWarning: Setuptools is replacing distutils. Support for replacing an already imported distutils is deprecated. In the future, this condition will fail. Register concerns at https://github.com/pypa/setuptools/issues/new?template=distutils-deprecation.yml\n",
      "  warnings.warn(\n",
      "2024/10/30 11:13:43 WARNING mlflow.models.model: Input example should be provided to infer model signature if the model signature is not provided when logging the model.\n",
      "2024/10/30 11:13:43 INFO mlflow.tracking._tracking_service.client: 🏃 View run my-param5 at: https://eu-west-1.experiments.sagemaker.aws/#/experiments/2/runs/4a00fe53424b4d1ea34294505682bc4b.\n",
      "2024/10/30 11:13:43 INFO mlflow.tracking._tracking_service.client: 🧪 View experiment at: https://eu-west-1.experiments.sagemaker.aws/#/experiments/2.\n",
      "2024/10/30 11:13:43 INFO mlflow.tracking._tracking_service.client: 🏃 View run nested-run at: https://eu-west-1.experiments.sagemaker.aws/#/experiments/2/runs/1807da178f3c4c0b9060691245ec807e.\n",
      "2024/10/30 11:13:43 INFO mlflow.tracking._tracking_service.client: 🧪 View experiment at: https://eu-west-1.experiments.sagemaker.aws/#/experiments/2.\n"
     ]
    },
    {
     "name": "stdout",
     "output_type": "stream",
     "text": [
      "Logging completed.\n"
     ]
    }
   ],
   "source": [
    "param = [1, 2, 3, 4, 5]\n",
    "\n",
    "with mlflow.start_run(run_name = \"nested-run\") as run:\n",
    "    for p in param:\n",
    "        with mlflow.start_run(nested=True, run_name = f\"my-param{p}\") as child_run:\n",
    "            mlflow.log_param(\"max_depth\", p)\n",
    "\n",
    "            model = xgb.XGBRegressor(n_estimators=100, max_depth=p, random_state=42)\n",
    "            model.fit(X_train, y_train)\n",
    "\n",
    "            # Make predictions\n",
    "            y_pred = model.predict(X_test)\n",
    "\n",
    "            # Calculate metrics\n",
    "            mse = mean_squared_error(y_test, y_pred)\n",
    "\n",
    "            mlflow.log_metric(\"mse\", mse)\n",
    "            \n",
    "            mlflow.xgboost.log_model(model, \"model\")\n",
    "\n",
    "print(\"Logging completed.\")"
   ]
  }
 ],
 "metadata": {
  "kernelspec": {
   "display_name": "Python 3 (ipykernel)",
   "language": "python",
   "name": "python3"
  },
  "language_info": {
   "codemirror_mode": {
    "name": "ipython",
    "version": 3
   },
   "file_extension": ".py",
   "mimetype": "text/x-python",
   "name": "python",
   "nbconvert_exporter": "python",
   "pygments_lexer": "ipython3",
   "version": "3.11.9"
  }
 },
 "nbformat": 4,
 "nbformat_minor": 5
}
