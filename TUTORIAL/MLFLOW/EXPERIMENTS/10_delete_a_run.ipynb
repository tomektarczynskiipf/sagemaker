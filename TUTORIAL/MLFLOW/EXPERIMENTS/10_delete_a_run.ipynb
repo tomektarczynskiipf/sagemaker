{
 "cells": [
  {
   "cell_type": "code",
   "execution_count": 23,
   "id": "af5f889f-2518-4a03-990e-89408a1cfc93",
   "metadata": {},
   "outputs": [],
   "source": [
    "import mlflow\n",
    "from mlflow.tracking import MlflowClient"
   ]
  },
  {
   "cell_type": "code",
   "execution_count": 24,
   "id": "24efc826-9a89-4660-aa25-7211e6bbdd85",
   "metadata": {},
   "outputs": [],
   "source": [
    "mlflow_arn = \"arn:aws:sagemaker:eu-west-1:575618486322:mlflow-tracking-server/dev-mlflow\"\n",
    "mlflow_experiment_name = \"02-sample-experiment\"\n",
    "target_run_name = \"my-custom-name\"  "
   ]
  },
  {
   "cell_type": "code",
   "execution_count": 25,
   "id": "7c31f838-955e-4b78-ae81-16d747bcb392",
   "metadata": {},
   "outputs": [
    {
     "data": {
      "text/plain": [
       "<Experiment: artifact_location='s3://ipf-sds-datalake-dev-data-science-bucket/mlflow/2', creation_time=1730285259326, experiment_id='2', last_update_time=1730285259326, lifecycle_stage='active', name='02-sample-experiment', tags={}>"
      ]
     },
     "execution_count": 25,
     "metadata": {},
     "output_type": "execute_result"
    }
   ],
   "source": [
    "mlflow.set_tracking_uri(mlflow_arn)\n",
    "mlflow.set_experiment(mlflow_experiment_name)"
   ]
  },
  {
   "cell_type": "markdown",
   "id": "b52d690d-2a13-49e6-9fb3-a18ba5837dfc",
   "metadata": {},
   "source": [
    "# GET RUNS"
   ]
  },
  {
   "cell_type": "code",
   "execution_count": 12,
   "id": "c54c4825-6123-419a-8029-aae1bd991d9f",
   "metadata": {},
   "outputs": [],
   "source": [
    "# Initialize MLflow client\n",
    "client = MlflowClient()\n",
    "\n",
    "# Get the experiment ID from the experiment name\n",
    "experiment = client.get_experiment_by_name(mlflow_experiment_name)\n",
    "if experiment is None:\n",
    "    raise ValueError(f\"Experiment '{mlflow_experiment_name}' not found.\")\n",
    "experiment_id = experiment.experiment_id\n",
    "\n",
    "# List all runs in the experiment\n",
    "runs = client.search_runs(experiment_ids=[experiment_id])"
   ]
  },
  {
   "cell_type": "markdown",
   "id": "54593c53-e336-4d2d-b1a2-3e5be6a5da01",
   "metadata": {},
   "source": [
    "# DELETE RUNS"
   ]
  },
  {
   "cell_type": "code",
   "execution_count": 15,
   "id": "f650746e-a353-4f31-9340-785a2d8f65fa",
   "metadata": {},
   "outputs": [],
   "source": [
    "# Filter and delete runs with the target name\n",
    "for run in runs:\n",
    "    if run.data.tags.get(\"mlflow.runName\") == target_run_name:\n",
    "        run_id = run.info.run_id\n",
    "        client.delete_run(run_id)\n",
    "        print(f\"Deleted run with ID: {run_id} and name: {target_run_name}\")"
   ]
  },
  {
   "cell_type": "markdown",
   "id": "8b9d0cff-7de7-4687-8e81-cbf1b26eb2c9",
   "metadata": {},
   "source": [
    "# RESTORE A RUN"
   ]
  },
  {
   "cell_type": "code",
   "execution_count": 16,
   "id": "fa3a5406-2166-4ac0-976b-54ef46bc6273",
   "metadata": {},
   "outputs": [
    {
     "name": "stdout",
     "output_type": "stream",
     "text": [
      "Run with ID 068851125fb2432e93cac46acb81daae has been restored.\n"
     ]
    }
   ],
   "source": [
    "client.restore_run(run_id)\n",
    "print(f\"Run with ID {run_id} has been restored.\")"
   ]
  },
  {
   "cell_type": "markdown",
   "id": "21ba5e3c-ad2f-4d8b-bb59-bc9b98a676e6",
   "metadata": {},
   "source": [
    "# LIST DELETED RUNS"
   ]
  },
  {
   "cell_type": "code",
   "execution_count": 17,
   "id": "8cd9a723-55ed-413b-b79d-b5a45a0ac528",
   "metadata": {},
   "outputs": [
    {
     "name": "stdout",
     "output_type": "stream",
     "text": [
      "Deleted runs:\n",
      "Run ID: 97eac6e056ee4f5c9fc5453bb4bbe134\n",
      "Run Name: my-custom-name\n",
      "Deletion Time: 1730288566977\n",
      "----------------------------------------\n",
      "Run ID: 6484bcf3f33e431c87b6774454d89567\n",
      "Run Name: my-custom-name\n",
      "Deletion Time: 1730288307261\n",
      "----------------------------------------\n"
     ]
    }
   ],
   "source": [
    "from mlflow.entities import ViewType\n",
    "\n",
    "experiment = client.get_experiment_by_name(mlflow_experiment_name)\n",
    "experiment_id = experiment.experiment_id\n",
    "\n",
    "# Search for deleted runs in the experiment\n",
    "deleted_runs = client.search_runs(\n",
    "    experiment_ids=[experiment_id], \n",
    "    run_view_type=ViewType.DELETED_ONLY\n",
    ")\n",
    "\n",
    "# Print details of each deleted run\n",
    "print(\"Deleted runs:\")\n",
    "for run in deleted_runs:\n",
    "    print(f\"Run ID: {run.info.run_id}\")\n",
    "    print(f\"Run Name: {run.data.tags.get('mlflow.runName', 'N/A')}\")\n",
    "    print(f\"Deletion Time: {run.info.end_time}\")  # end_time is when the run was deleted\n",
    "    print(\"-\" * 40)"
   ]
  }
 ],
 "metadata": {
  "kernelspec": {
   "display_name": "Python 3 (ipykernel)",
   "language": "python",
   "name": "python3"
  },
  "language_info": {
   "codemirror_mode": {
    "name": "ipython",
    "version": 3
   },
   "file_extension": ".py",
   "mimetype": "text/x-python",
   "name": "python",
   "nbconvert_exporter": "python",
   "pygments_lexer": "ipython3",
   "version": "3.11.9"
  }
 },
 "nbformat": 4,
 "nbformat_minor": 5
}
