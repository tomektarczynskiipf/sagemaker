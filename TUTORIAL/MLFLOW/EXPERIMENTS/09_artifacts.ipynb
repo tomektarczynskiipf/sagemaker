{
 "cells": [
  {
   "cell_type": "markdown",
   "id": "8286ef19-21dd-409d-b4d1-dec66db42f89",
   "metadata": {},
   "source": [
    "# LOAD LIBRARIES"
   ]
  },
  {
   "cell_type": "code",
   "execution_count": 21,
   "id": "49f14fd5-fbac-4718-a6de-65d55877ef17",
   "metadata": {},
   "outputs": [],
   "source": [
    "import mlflow\n",
    "import mlflow.xgboost\n",
    "import xgboost as xgb\n",
    "\n",
    "from sklearn.datasets import load_diabetes\n",
    "from sklearn.model_selection import train_test_split\n",
    "from sklearn.metrics import mean_squared_error, r2_score\n",
    "\n",
    "import matplotlib.pyplot as plt\n",
    "import pandas as pd\n",
    "import os"
   ]
  },
  {
   "cell_type": "markdown",
   "id": "2d154ee4-cc67-48ce-a3a0-da189fe7d739",
   "metadata": {},
   "source": [
    "# SETTINGS"
   ]
  },
  {
   "cell_type": "code",
   "execution_count": 5,
   "id": "f9c86922-e629-4140-9f13-144cbc35daef",
   "metadata": {},
   "outputs": [],
   "source": [
    "mlflow_arn = \"arn:aws:sagemaker:eu-west-1:575618486322:mlflow-tracking-server/dev-mlflow\"\n",
    "mlflow_experiment_name = \"02-sample-experiment\""
   ]
  },
  {
   "cell_type": "markdown",
   "id": "71391261-5706-4d57-97fd-ddb9333a7c1e",
   "metadata": {},
   "source": [
    "# SET MLFLOW"
   ]
  },
  {
   "cell_type": "code",
   "execution_count": 6,
   "id": "d071886c-5356-4877-84e3-ea97eeb8c499",
   "metadata": {},
   "outputs": [
    {
     "name": "stderr",
     "output_type": "stream",
     "text": [
      "2024/10/30 10:47:39 INFO mlflow.tracking.fluent: Experiment with name '02-sample-experiment' does not exist. Creating a new experiment.\n"
     ]
    },
    {
     "data": {
      "text/plain": [
       "<Experiment: artifact_location='s3://ipf-sds-datalake-dev-data-science-bucket/mlflow/2', creation_time=1730285259326, experiment_id='2', last_update_time=1730285259326, lifecycle_stage='active', name='02-sample-experiment', tags={}>"
      ]
     },
     "execution_count": 6,
     "metadata": {},
     "output_type": "execute_result"
    }
   ],
   "source": [
    "mlflow.set_tracking_uri(mlflow_arn)\n",
    "mlflow.set_experiment(mlflow_experiment_name)"
   ]
  },
  {
   "cell_type": "markdown",
   "id": "6e02481b-8e44-4d42-b533-de201f5ade38",
   "metadata": {},
   "source": [
    "# LOAD DATA"
   ]
  },
  {
   "cell_type": "code",
   "execution_count": 7,
   "id": "5cce8f62-a9e1-4cf4-9f11-f595f57dc21e",
   "metadata": {},
   "outputs": [],
   "source": [
    "# Load Diabetes dataset\n",
    "data = load_diabetes()\n",
    "X = data.data\n",
    "y = data.target\n",
    "\n",
    "# Split dataset\n",
    "X_train, X_test, y_train, y_test = train_test_split(X, y, test_size=0.2, random_state=42)"
   ]
  },
  {
   "cell_type": "markdown",
   "id": "8a88b8d7-967a-4ad3-80dd-32d413d28778",
   "metadata": {},
   "source": [
    "# BUILD A MODEL"
   ]
  },
  {
   "cell_type": "code",
   "execution_count": 8,
   "id": "10beb639-1ee7-497c-80c9-1d821f63475b",
   "metadata": {},
   "outputs": [],
   "source": [
    "# Create and train model\n",
    "model = xgb.XGBRegressor(n_estimators=100, max_depth=3, random_state=42)\n",
    "model.fit(X_train, y_train)\n",
    "\n",
    "# Make predictions\n",
    "y_pred = model.predict(X_test)\n",
    "\n",
    "# Calculate metrics\n",
    "mse = mean_squared_error(y_test, y_pred)\n",
    "r2 = r2_score(y_test, y_pred)"
   ]
  },
  {
   "cell_type": "markdown",
   "id": "11712ff5-256e-47c0-8166-c94b8f489613",
   "metadata": {},
   "source": [
    "# REGISTER AN ARTIFACT IN A FOLDER"
   ]
  },
  {
   "cell_type": "code",
   "execution_count": 13,
   "id": "bfead32d-4869-484d-8aef-217366891f21",
   "metadata": {},
   "outputs": [
    {
     "name": "stdout",
     "output_type": "stream",
     "text": [
      "Run ID: 8195ec1a094349afb580725eddfe47eb\n"
     ]
    },
    {
     "name": "stderr",
     "output_type": "stream",
     "text": [
      "/opt/conda/lib/python3.11/site-packages/xgboost/core.py:160: UserWarning: [10:50:18] WARNING: /home/conda/feedstock_root/build_artifacts/xgboost-split_1713397725960/work/src/c_api/c_api.cc:1240: Saving into deprecated binary model format, please consider using `json` or `ubj`. Model format will default to JSON in XGBoost 2.2 if not specified.\n",
      "  warnings.warn(smsg, UserWarning)\n",
      "2024/10/30 10:50:21 WARNING mlflow.models.model: Input example should be provided to infer model signature if the model signature is not provided when logging the model.\n",
      "2024/10/30 10:50:21 INFO mlflow.tracking._tracking_service.client: 🏃 View run overjoyed-doe-579 at: https://eu-west-1.experiments.sagemaker.aws/#/experiments/2/runs/8195ec1a094349afb580725eddfe47eb.\n",
      "2024/10/30 10:50:21 INFO mlflow.tracking._tracking_service.client: 🧪 View experiment at: https://eu-west-1.experiments.sagemaker.aws/#/experiments/2.\n"
     ]
    },
    {
     "name": "stdout",
     "output_type": "stream",
     "text": [
      "Logging completed.\n"
     ]
    }
   ],
   "source": [
    "# Start a new MLflow run\n",
    "with mlflow.start_run() as run:\n",
    "    run_id = run.info.run_id\n",
    "    print(f\"Run ID: {run_id}\")\n",
    "\n",
    "    # Log parameters directly from the model\n",
    "    params = model.get_params()\n",
    "    for param, value in params.items():\n",
    "        mlflow.log_param(param, value)\n",
    "\n",
    "    # Log metrics\n",
    "    mlflow.log_metric(\"mse\", mse)\n",
    "    mlflow.log_metric(\"r2\", r2)\n",
    "\n",
    "    mlflow.set_tag(\"model_type\", \"xgboost\")\n",
    "\n",
    "    # Log the model\n",
    "    mlflow.xgboost.log_model(model, \"mymodel\")\n",
    "\n",
    "\n",
    "    # Log a sample input\n",
    "    sample_input = X_test[0]\n",
    "    input_df = pd.DataFrame([sample_input], columns=data.feature_names)\n",
    "    input_file = \"sample_input.csv\"\n",
    "    input_df.to_csv(input_file, index=False)\n",
    "    mlflow.log_artifact(input_file, artifact_path = \"DATA\")\n",
    "\n",
    "    # Remove temporary files\n",
    "    os.remove(residuals_plot_file)\n",
    "    os.remove(input_file)\n",
    "\n",
    "print(\"Logging completed.\")"
   ]
  },
  {
   "cell_type": "markdown",
   "id": "9cb35b8e-0afd-41a3-8277-862ea2d39ef1",
   "metadata": {},
   "source": [
    "# RETRIEVE AN ARTIFACT"
   ]
  },
  {
   "cell_type": "code",
   "execution_count": 39,
   "id": "8bea7daf-c84a-4f56-b75d-c00b66af4fb1",
   "metadata": {},
   "outputs": [
    {
     "name": "stdout",
     "output_type": "stream",
     "text": [
      "s3://ipf-sds-datalake-dev-data-science-bucket/mlflow/2/97eac6e056ee4f5c9fc5453bb4bbe134/artifacts\n",
      "ipf-sds-datalake-dev-data-science-bucket\n",
      "mlflow/2/97eac6e056ee4f5c9fc5453bb4bbe134/artifacts\n",
      "Files in specified S3 location:\n",
      "mlflow/2/97eac6e056ee4f5c9fc5453bb4bbe134/artifacts/DATA/sample_input.csv\n",
      "mlflow/2/97eac6e056ee4f5c9fc5453bb4bbe134/artifacts/model/MLmodel\n",
      "mlflow/2/97eac6e056ee4f5c9fc5453bb4bbe134/artifacts/model/conda.yaml\n",
      "mlflow/2/97eac6e056ee4f5c9fc5453bb4bbe134/artifacts/model/model.xgb\n",
      "mlflow/2/97eac6e056ee4f5c9fc5453bb4bbe134/artifacts/model/python_env.yaml\n",
      "mlflow/2/97eac6e056ee4f5c9fc5453bb4bbe134/artifacts/model/requirements.txt\n",
      "mlflow/2/97eac6e056ee4f5c9fc5453bb4bbe134/artifacts/residuals_plot.png\n",
      "age,sex,bmi,bp,s1,s2,s3,s4,s5,s6\n",
      "0.04534098333546186,-0.044641636506989144,-0.006205954135807083,-0.015998975220305175,0.12501870313429186,0.1251981011367534,0.019186997017453092,0.03430885887772673,0.03243232415655107,-0.005219804415300423\n",
      "\n"
     ]
    }
   ],
   "source": [
    "import boto3\n",
    "from mlflow.tracking import MlflowClient\n",
    "\n",
    "# Create MLflow cliden\n",
    "client = MlflowClient()\n",
    "\n",
    "# Get run\n",
    "run = client.get_run(run_id)\n",
    "\n",
    "# Get S3 path to artifacts\n",
    "artifact_uri = run.info.artifact_uri\n",
    "print(artifact_uri)\n",
    "\n",
    "# Remove the \"s3://\" prefix and split the path\n",
    "path_parts = artifact_uri.replace(\"s3://\", \"\").split(\"/\", 1)\n",
    "bucket = path_parts[0]           # The first part is the bucket name\n",
    "prefix = path_parts[1] if len(path_parts) > 1 else \"\"  # The remaining part is the prefix\n",
    "print(bucket)\n",
    "print(prefix)\n",
    "\n",
    "# Initialize boto3 S3 client\n",
    "s3_client = boto3.client(\"s3\")\n",
    "\n",
    "# List objects in the specified prefix\n",
    "response = s3_client.list_objects_v2(Bucket=bucket, Prefix=prefix)\n",
    "\n",
    "# Check if the response contains contents\n",
    "if \"Contents\" in response:\n",
    "    print(\"Files in specified S3 location:\")\n",
    "    for obj in response[\"Contents\"]:\n",
    "        print(obj[\"Key\"])  # Print the full path (key) of each file\n",
    "else:\n",
    "    print(\"No files found in the specified S3 location.\")\n",
    "\n",
    "\n",
    "# Retrieve the file\n",
    "response_file = s3_client.get_object(Bucket=bucket, Key=response[\"Contents\"][0][\"Key\"])\n",
    "\n",
    "# Read and decode the file content\n",
    "file_content = response_file['Body'].read().decode('utf-8')\n",
    "print(file_content)\n"
   ]
  }
 ],
 "metadata": {
  "kernelspec": {
   "display_name": "Python 3 (ipykernel)",
   "language": "python",
   "name": "python3"
  },
  "language_info": {
   "codemirror_mode": {
    "name": "ipython",
    "version": 3
   },
   "file_extension": ".py",
   "mimetype": "text/x-python",
   "name": "python",
   "nbconvert_exporter": "python",
   "pygments_lexer": "ipython3",
   "version": "3.11.9"
  }
 },
 "nbformat": 4,
 "nbformat_minor": 5
}
