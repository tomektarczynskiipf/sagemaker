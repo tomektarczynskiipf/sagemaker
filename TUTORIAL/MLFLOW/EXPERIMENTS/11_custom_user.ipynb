{
 "cells": [
  {
   "cell_type": "code",
   "execution_count": 1,
   "id": "2d7bd730-96bf-4743-88f3-f9abaab8d36a",
   "metadata": {},
   "outputs": [],
   "source": [
    "import mlflow\n",
    "import os"
   ]
  },
  {
   "cell_type": "code",
   "execution_count": 2,
   "id": "b4ec59b5-7462-43ee-b47e-32f2762b3341",
   "metadata": {},
   "outputs": [],
   "source": [
    "mlflow_arn = \"arn:aws:sagemaker:eu-west-1:575618486322:mlflow-tracking-server/dev-mlflow\"\n",
    "mlflow_experiment_name = \"02-sample-experiment\""
   ]
  },
  {
   "cell_type": "code",
   "execution_count": 3,
   "id": "ca06bbb3-cf4f-4902-9c05-9f6b8edda150",
   "metadata": {},
   "outputs": [
    {
     "data": {
      "text/plain": [
       "<Experiment: artifact_location='s3://ipf-sds-datalake-dev-data-science-bucket/mlflow/2', creation_time=1730285259326, experiment_id='2', last_update_time=1730285259326, lifecycle_stage='active', name='02-sample-experiment', tags={}>"
      ]
     },
     "execution_count": 3,
     "metadata": {},
     "output_type": "execute_result"
    }
   ],
   "source": [
    "mlflow.set_tracking_uri(mlflow_arn)\n",
    "mlflow.set_experiment(mlflow_experiment_name)"
   ]
  },
  {
   "cell_type": "code",
   "execution_count": 4,
   "id": "ddd638d7-4a42-4876-b490-41501f8a403c",
   "metadata": {},
   "outputs": [
    {
     "name": "stderr",
     "output_type": "stream",
     "text": [
      "2024/10/30 12:27:56 INFO mlflow.tracking._tracking_service.client: 🏃 View run customer_username at: https://eu-west-1.experiments.sagemaker.aws/#/experiments/2/runs/31ab4d1841884f8795360c682f3adc59.\n",
      "2024/10/30 12:27:56 INFO mlflow.tracking._tracking_service.client: 🧪 View experiment at: https://eu-west-1.experiments.sagemaker.aws/#/experiments/2.\n"
     ]
    },
    {
     "name": "stdout",
     "output_type": "stream",
     "text": [
      "Run created by: Tomek, Run ID: 31ab4d1841884f8795360c682f3adc59\n"
     ]
    }
   ],
   "source": [
    "# Set the MLFLOW_TRACKING_USERNAME environment variable in code\n",
    "os.environ[\"MLFLOW_TRACKING_USERNAME\"] = \"Tomek\"\n",
    "\n",
    "# Start a new run\n",
    "with mlflow.start_run(run_name=\"customer_username\") as run:\n",
    "    mlflow.log_param(\"example_param\", 42)\n",
    "    mlflow.log_metric(\"example_metric\", 0.95)\n",
    "    print(f\"Run created by: {os.environ['MLFLOW_TRACKING_USERNAME']}, Run ID: {run.info.run_id}\")"
   ]
  }
 ],
 "metadata": {
  "kernelspec": {
   "display_name": "Python 3 (ipykernel)",
   "language": "python",
   "name": "python3"
  },
  "language_info": {
   "codemirror_mode": {
    "name": "ipython",
    "version": 3
   },
   "file_extension": ".py",
   "mimetype": "text/x-python",
   "name": "python",
   "nbconvert_exporter": "python",
   "pygments_lexer": "ipython3",
   "version": "3.11.9"
  }
 },
 "nbformat": 4,
 "nbformat_minor": 5
}
