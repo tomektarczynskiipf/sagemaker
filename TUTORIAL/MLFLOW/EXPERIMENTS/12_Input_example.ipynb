{
 "cells": [
  {
   "cell_type": "markdown",
   "id": "8286ef19-21dd-409d-b4d1-dec66db42f89",
   "metadata": {},
   "source": [
    "# LOAD LIBRARIES"
   ]
  },
  {
   "cell_type": "code",
   "execution_count": 1,
   "id": "49f14fd5-fbac-4718-a6de-65d55877ef17",
   "metadata": {},
   "outputs": [],
   "source": [
    "import mlflow\n",
    "import mlflow.xgboost\n",
    "import xgboost as xgb\n",
    "\n",
    "from sklearn.datasets import load_diabetes\n",
    "from sklearn.model_selection import train_test_split\n",
    "from sklearn.metrics import mean_squared_error, r2_score\n",
    "\n",
    "import matplotlib.pyplot as plt\n",
    "import pandas as pd\n",
    "import os"
   ]
  },
  {
   "cell_type": "markdown",
   "id": "2d154ee4-cc67-48ce-a3a0-da189fe7d739",
   "metadata": {},
   "source": [
    "# SETTINGS"
   ]
  },
  {
   "cell_type": "code",
   "execution_count": 2,
   "id": "f9c86922-e629-4140-9f13-144cbc35daef",
   "metadata": {},
   "outputs": [],
   "source": [
    "mlflow_arn = \"arn:aws:sagemaker:eu-west-1:575618486322:mlflow-tracking-server/dev-mlflow\"\n",
    "mlflow_experiment_name = \"02-sample-experiment\""
   ]
  },
  {
   "cell_type": "markdown",
   "id": "71391261-5706-4d57-97fd-ddb9333a7c1e",
   "metadata": {},
   "source": [
    "# SET MLFLOW"
   ]
  },
  {
   "cell_type": "code",
   "execution_count": 3,
   "id": "d071886c-5356-4877-84e3-ea97eeb8c499",
   "metadata": {},
   "outputs": [
    {
     "data": {
      "text/plain": [
       "<Experiment: artifact_location='s3://ipf-sds-datalake-dev-data-science-bucket/mlflow/2', creation_time=1730285259326, experiment_id='2', last_update_time=1730285259326, lifecycle_stage='active', name='02-sample-experiment', tags={}>"
      ]
     },
     "execution_count": 3,
     "metadata": {},
     "output_type": "execute_result"
    }
   ],
   "source": [
    "mlflow.set_tracking_uri(mlflow_arn)\n",
    "mlflow.set_experiment(mlflow_experiment_name)"
   ]
  },
  {
   "cell_type": "markdown",
   "id": "6e02481b-8e44-4d42-b533-de201f5ade38",
   "metadata": {},
   "source": [
    "# LOAD DATA"
   ]
  },
  {
   "cell_type": "code",
   "execution_count": 4,
   "id": "5cce8f62-a9e1-4cf4-9f11-f595f57dc21e",
   "metadata": {},
   "outputs": [],
   "source": [
    "# Load Diabetes dataset\n",
    "data = load_diabetes()\n",
    "X = data.data\n",
    "y = data.target\n",
    "\n",
    "# Split dataset\n",
    "X_train, X_test, y_train, y_test = train_test_split(X, y, test_size=0.2, random_state=42)"
   ]
  },
  {
   "cell_type": "markdown",
   "id": "8a88b8d7-967a-4ad3-80dd-32d413d28778",
   "metadata": {},
   "source": [
    "# BUILD A MODEL"
   ]
  },
  {
   "cell_type": "code",
   "execution_count": 5,
   "id": "10beb639-1ee7-497c-80c9-1d821f63475b",
   "metadata": {},
   "outputs": [],
   "source": [
    "# Create and train model\n",
    "model = xgb.XGBRegressor(n_estimators=100, max_depth=3, random_state=42)\n",
    "model.fit(X_train, y_train)\n",
    "\n",
    "# Make predictions\n",
    "y_pred = model.predict(X_test)\n",
    "\n",
    "# Calculate metrics\n",
    "mse = mean_squared_error(y_test, y_pred)\n",
    "r2 = r2_score(y_test, y_pred)"
   ]
  },
  {
   "cell_type": "code",
   "execution_count": 8,
   "id": "bfead32d-4869-484d-8aef-217366891f21",
   "metadata": {},
   "outputs": [
    {
     "name": "stdout",
     "output_type": "stream",
     "text": [
      "Run ID: 57119b7eb46d4fbd9b5bafb37673bd98\n"
     ]
    },
    {
     "name": "stderr",
     "output_type": "stream",
     "text": [
      "/opt/conda/lib/python3.11/site-packages/xgboost/core.py:160: UserWarning: [12:32:03] WARNING: /home/conda/feedstock_root/build_artifacts/xgboost-split_1713397725960/work/src/c_api/c_api.cc:1240: Saving into deprecated binary model format, please consider using `json` or `ubj`. Model format will default to JSON in XGBoost 2.2 if not specified.\n",
      "  warnings.warn(smsg, UserWarning)\n",
      "/opt/conda/lib/python3.11/site-packages/_distutils_hack/__init__.py:17: UserWarning: Distutils was imported before Setuptools, but importing Setuptools also replaces the `distutils` module in `sys.modules`. This may lead to undesirable behaviors or errors. To avoid these issues, avoid using distutils directly, ensure that setuptools is installed in the traditional way (e.g. not an editable install), and/or make sure that setuptools is always imported before distutils.\n",
      "  warnings.warn(\n",
      "/opt/conda/lib/python3.11/site-packages/_distutils_hack/__init__.py:32: UserWarning: Setuptools is replacing distutils. Support for replacing an already imported distutils is deprecated. In the future, this condition will fail. Register concerns at https://github.com/pypa/setuptools/issues/new?template=distutils-deprecation.yml\n",
      "  warnings.warn(\n"
     ]
    },
    {
     "data": {
      "application/vnd.jupyter.widget-view+json": {
       "model_id": "316dcab34d264ca08d80cb02ab756458",
       "version_major": 2,
       "version_minor": 0
      },
      "text/plain": [
       "Downloading artifacts:   0%|          | 0/7 [00:00<?, ?it/s]"
      ]
     },
     "metadata": {},
     "output_type": "display_data"
    },
    {
     "name": "stderr",
     "output_type": "stream",
     "text": [
      "2024/10/30 12:32:07 INFO mlflow.tracking._tracking_service.client: 🏃 View run input-example at: https://eu-west-1.experiments.sagemaker.aws/#/experiments/2/runs/57119b7eb46d4fbd9b5bafb37673bd98.\n",
      "2024/10/30 12:32:07 INFO mlflow.tracking._tracking_service.client: 🧪 View experiment at: https://eu-west-1.experiments.sagemaker.aws/#/experiments/2.\n"
     ]
    },
    {
     "name": "stdout",
     "output_type": "stream",
     "text": [
      "Logging completed.\n"
     ]
    }
   ],
   "source": [
    "# Start a new MLflow run\n",
    "with mlflow.start_run(run_name = \"input-example\") as run:\n",
    "    run_id = run.info.run_id\n",
    "    print(f\"Run ID: {run_id}\")\n",
    "\n",
    "    # Log parameters directly from the model\n",
    "    params = model.get_params()\n",
    "    for param, value in params.items():\n",
    "        mlflow.log_param(param, value)\n",
    "\n",
    "    # Log metrics\n",
    "    mlflow.log_metric(\"mse\", mse)\n",
    "    mlflow.log_metric(\"r2\", r2)\n",
    "\n",
    "    mlflow.set_tag(\"model_type\", \"xgboost\")\n",
    "\n",
    "    # Log a sample input\n",
    "    input_example = pd.DataFrame([X_test[0]], columns=data.feature_names)\n",
    "    \n",
    "    # Log the model\n",
    "    mlflow.xgboost.log_model(xgb_model = model, artifact_path = \"mymodel\", input_example = input_example)\n",
    "\n",
    "print(\"Logging completed.\")"
   ]
  }
 ],
 "metadata": {
  "kernelspec": {
   "display_name": "Python 3 (ipykernel)",
   "language": "python",
   "name": "python3"
  },
  "language_info": {
   "codemirror_mode": {
    "name": "ipython",
    "version": 3
   },
   "file_extension": ".py",
   "mimetype": "text/x-python",
   "name": "python",
   "nbconvert_exporter": "python",
   "pygments_lexer": "ipython3",
   "version": "3.11.9"
  }
 },
 "nbformat": 4,
 "nbformat_minor": 5
}
