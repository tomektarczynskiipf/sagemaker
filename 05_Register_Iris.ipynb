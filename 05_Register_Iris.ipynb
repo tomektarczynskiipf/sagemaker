{
 "cells": [
  {
   "cell_type": "markdown",
   "id": "754ba197-294b-4b62-91d8-084e294aba94",
   "metadata": {},
   "source": [
    "### Usefule resources\n",
    "\n",
    "https://docs.aws.amazon.com/sagemaker/latest/dg/model-registry-version.html"
   ]
  },
  {
   "cell_type": "code",
   "execution_count": 1,
   "id": "ba713886-8c22-4757-8aa4-2957c36a87bd",
   "metadata": {},
   "outputs": [
    {
     "name": "stdout",
     "output_type": "stream",
     "text": [
      "sagemaker.config INFO - Not applying SDK defaults from location: /etc/xdg/sagemaker/config.yaml\n",
      "sagemaker.config INFO - Not applying SDK defaults from location: /home/sagemaker-user/.config/sagemaker/config.yaml\n"
     ]
    }
   ],
   "source": [
    "import os\n",
    "import joblib\n",
    "import sklearn\n",
    "from sklearn.datasets import load_iris\n",
    "from sklearn.model_selection import train_test_split\n",
    "from sklearn.ensemble import RandomForestClassifier\n",
    "import tarfile\n",
    "import boto3\n",
    "import sagemaker\n",
    "from sagemaker import get_execution_role\n",
    "from sagemaker.model import Model\n",
    "from sagemaker.image_uris import retrieve"
   ]
  },
  {
   "cell_type": "markdown",
   "id": "73a1e521-85aa-4c22-90f8-73198c7022bc",
   "metadata": {},
   "source": [
    "### Settings"
   ]
  },
  {
   "cell_type": "code",
   "execution_count": 5,
   "id": "a4824c5e-b923-4187-9ecf-f239886b5c66",
   "metadata": {},
   "outputs": [],
   "source": [
    "bucket = 'sagemaker-bucket-ds'\n",
    "base_dir = '/home/sagemaker-user/sagemaker/'\n",
    "joblib_dir = 'models_joblib'\n",
    "model_s3_path = '01_STOCKS/MODELS/model.tar.gz'"
   ]
  },
  {
   "cell_type": "markdown",
   "id": "2fad32ac-fae2-49d4-905a-f4ffa41e45f3",
   "metadata": {},
   "source": [
    "### Clients"
   ]
  },
  {
   "cell_type": "code",
   "execution_count": 14,
   "id": "d65155c3-1b7b-4415-bb17-44ca3ee315ac",
   "metadata": {},
   "outputs": [],
   "source": [
    "s3 = boto3.client('s3')\n",
    "sagemaker_client = boto3.client('sagemaker')"
   ]
  },
  {
   "cell_type": "markdown",
   "id": "8325ec07-2344-44e9-937d-821cbadfe8bf",
   "metadata": {},
   "source": [
    "### Build the model"
   ]
  },
  {
   "cell_type": "code",
   "execution_count": 7,
   "id": "ea924a13-fa3c-4097-8787-9e9a6c197deb",
   "metadata": {},
   "outputs": [
    {
     "name": "stdout",
     "output_type": "stream",
     "text": [
      "Model accuracy: 1.00\n"
     ]
    }
   ],
   "source": [
    "# Train and save the model\n",
    "iris = load_iris()\n",
    "X, y = iris.data, iris.target\n",
    "X_train, X_test, y_train, y_test = train_test_split(X, y, test_size=0.2, random_state=42)\n",
    "model = RandomForestClassifier(n_estimators=100, random_state=42)\n",
    "model.fit(X_train, y_train)\n",
    "accuracy = model.score(X_test, y_test)\n",
    "print(f\"Model accuracy: {accuracy:.2f}\")"
   ]
  },
  {
   "cell_type": "markdown",
   "id": "7d28057f-59f3-488b-ae27-352af3793501",
   "metadata": {},
   "source": [
    "### Save joblib file"
   ]
  },
  {
   "cell_type": "code",
   "execution_count": 10,
   "id": "d7aaba17-1a92-4819-bd72-413bade8f758",
   "metadata": {},
   "outputs": [
    {
     "name": "stdout",
     "output_type": "stream",
     "text": [
      "Model_dir: /home/sagemaker-user/sagemaker/JOBLIBS\n"
     ]
    },
    {
     "data": {
      "text/plain": [
       "['/home/sagemaker-user/sagemaker/JOBLIBS/model.joblib']"
      ]
     },
     "execution_count": 10,
     "metadata": {},
     "output_type": "execute_result"
    }
   ],
   "source": [
    "model_dir = os.path.join(base_dir, 'JOBLIBS')\n",
    "print(f\"Model_dir: {model_dir}\")\n",
    "os.makedirs(model_dir, exist_ok=True)\n",
    "model_path = os.path.join(model_dir, 'model.joblib')\n",
    "joblib.dump(model, model_path)"
   ]
  },
  {
   "cell_type": "markdown",
   "id": "6a65c228-3a0f-4cc3-972f-e3037c7e5e3c",
   "metadata": {},
   "source": [
    "### Create tar gz on S3"
   ]
  },
  {
   "cell_type": "code",
   "execution_count": 11,
   "id": "e6f21c99-5552-4a0d-b346-0f12f6d3530b",
   "metadata": {},
   "outputs": [
    {
     "name": "stdout",
     "output_type": "stream",
     "text": [
      "Output_dir: /home/sagemaker-user/sagemaker/MODELS_TAR_GZ\n"
     ]
    }
   ],
   "source": [
    "output_dir = os.path.join(base_dir, 'MODELS_TAR_GZ')\n",
    "print(f\"Output_dir: {output_dir}\")\n",
    "os.makedirs(output_dir, exist_ok=True)\n",
    "\n",
    "# Define the full path for the tarball file\n",
    "output_tar_path = os.path.join(output_dir, 'model.tar.gz')\n",
    "\n",
    "# Package the model\n",
    "with tarfile.open(output_tar_path, 'w:gz') as tar:\n",
    "    tar.add(model_dir, arcname=os.path.basename(model_path))"
   ]
  },
  {
   "cell_type": "markdown",
   "id": "6c5eff3f-b970-45b2-b985-df8ccc0bfb5f",
   "metadata": {},
   "source": [
    "### Upload tar gz to S3"
   ]
  },
  {
   "cell_type": "code",
   "execution_count": 13,
   "id": "6a62cfcc-bb88-4e71-b23d-fb4092adb1b3",
   "metadata": {},
   "outputs": [],
   "source": [
    "s3.upload_file(output_tar_path, bucket, model_s3_path)"
   ]
  },
  {
   "cell_type": "markdown",
   "id": "38ccacee-01fa-4f71-87c8-6b0de286b45b",
   "metadata": {},
   "source": [
    "### Model settings"
   ]
  },
  {
   "cell_type": "code",
   "execution_count": 17,
   "id": "3838f696-fe29-4d38-9a18-cb10349818cc",
   "metadata": {},
   "outputs": [],
   "source": [
    "model_package_group_name = 'Proj1'\n",
    "model_package_description = 'This is project1 (IRIS)'\n",
    "\n",
    "region = 'eu-west-1'\n",
    "framework = 'sklearn'\n",
    "version = '1.2-1'"
   ]
  },
  {
   "cell_type": "markdown",
   "id": "f46a2bd9-d5de-4f07-8093-e2525949c8a8",
   "metadata": {},
   "source": [
    "### Create model package group"
   ]
  },
  {
   "cell_type": "code",
   "execution_count": 21,
   "id": "3dfffeac-a6a5-4f3a-9572-93ea92a774fb",
   "metadata": {},
   "outputs": [
    {
     "name": "stdout",
     "output_type": "stream",
     "text": [
      "An error occurred: An error occurred (ValidationException) when calling the CreateModelPackageGroup operation: Model Package Group already exists: arn:aws:sagemaker:eu-west-1:211125740051:model-package-group/proj1\n"
     ]
    }
   ],
   "source": [
    "try:\n",
    "    # Create the model package group\n",
    "    sagemaker_client.create_model_package_group(\n",
    "        ModelPackageGroupName=model_package_group_name,\n",
    "        ModelPackageGroupDescription=model_package_description\n",
    "    )\n",
    "    print(f\"Model package group '{model_package_group_name}' created successfully.\")\n",
    "except Exception as e:\n",
    "    print(f\"An error occurred: {e}\")"
   ]
  },
  {
   "cell_type": "code",
   "execution_count": 22,
   "id": "188ee2b8-9051-424b-91c6-d586a69ea792",
   "metadata": {},
   "outputs": [],
   "source": [
    "model_url = f's3://{bucket}/{model_s3_path}'\n",
    "role = get_execution_role()\n",
    "image_uri = retrieve(framework, region, version=version)"
   ]
  },
  {
   "cell_type": "code",
   "execution_count": 23,
   "id": "6c52ebe0-3a5a-4521-994c-56edaf7a010f",
   "metadata": {},
   "outputs": [
    {
     "name": "stdout",
     "output_type": "stream",
     "text": [
      "{'ModelPackageArn': 'arn:aws:sagemaker:eu-west-1:211125740051:model-package/Proj1/1', 'ResponseMetadata': {'RequestId': '5f99a395-1617-41b4-a7ac-4db0a234d8fd', 'HTTPStatusCode': 200, 'HTTPHeaders': {'x-amzn-requestid': '5f99a395-1617-41b4-a7ac-4db0a234d8fd', 'content-type': 'application/x-amz-json-1.1', 'content-length': '84', 'date': 'Wed, 19 Jun 2024 15:38:09 GMT'}, 'RetryAttempts': 0}}\n"
     ]
    }
   ],
   "source": [
    "model = Model(\n",
    "    image_uri=image_uri,\n",
    "    model_data=model_url,\n",
    "    role=role,\n",
    "    sagemaker_session=sagemaker.Session()\n",
    ")\n",
    "\n",
    "\n",
    "modelpackage_inference_specification = {\n",
    "    \"Containers\": [\n",
    "        {\n",
    "            \"Image\": image_uri,\n",
    "            \"ModelDataUrl\": model_url\n",
    "        }\n",
    "    ],\n",
    "    \"SupportedContentTypes\": [\"text/csv\"],\n",
    "    \"SupportedResponseMIMETypes\": [\"text/csv\"]\n",
    "}\n",
    "\n",
    "response = sagemaker_client.create_model_package(\n",
    "    ModelPackageGroupName=model_package_group_name,\n",
    "    ModelPackageDescription='This is the description of the model',\n",
    "    InferenceSpecification=modelpackage_inference_specification\n",
    ")\n",
    "\n",
    "print(response)"
   ]
  }
 ],
 "metadata": {
  "kernelspec": {
   "display_name": "Python 3 (ipykernel)",
   "language": "python",
   "name": "python3"
  },
  "language_info": {
   "codemirror_mode": {
    "name": "ipython",
    "version": 3
   },
   "file_extension": ".py",
   "mimetype": "text/x-python",
   "name": "python",
   "nbconvert_exporter": "python",
   "pygments_lexer": "ipython3",
   "version": "3.10.14"
  }
 },
 "nbformat": 4,
 "nbformat_minor": 5
}
