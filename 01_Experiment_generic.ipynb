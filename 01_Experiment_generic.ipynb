{
 "cells": [
  {
   "cell_type": "code",
   "execution_count": 1,
   "id": "0d77207a-962f-4fb8-9d03-793532fc0e82",
   "metadata": {},
   "outputs": [
    {
     "name": "stdout",
     "output_type": "stream",
     "text": [
      "sagemaker.config INFO - Not applying SDK defaults from location: /etc/xdg/sagemaker/config.yaml\n",
      "sagemaker.config INFO - Not applying SDK defaults from location: /home/sagemaker-user/.config/sagemaker/config.yaml\n"
     ]
    }
   ],
   "source": [
    "from sklearn.model_selection import train_test_split\n",
    "from sagemaker.experiments import Run, load_run\n",
    "import pandas as pd\n",
    "import boto3\n",
    "from sklearn.linear_model import LinearRegression\n",
    "from sklearn.metrics import mean_squared_error"
   ]
  },
  {
   "cell_type": "markdown",
   "id": "1743b2bb-cad6-48d3-bc8e-7cbdba8b3c94",
   "metadata": {},
   "source": [
    "### read data"
   ]
  },
  {
   "cell_type": "code",
   "execution_count": 8,
   "id": "83dbf019-6a4f-40c1-89b0-f44379c2b28f",
   "metadata": {},
   "outputs": [],
   "source": [
    "df = pd.read_csv('data.csv')"
   ]
  },
  {
   "cell_type": "markdown",
   "id": "ff974249-1af9-42a7-a4ce-8239aae0b5fc",
   "metadata": {},
   "source": [
    "### perform a single experiment"
   ]
  },
  {
   "cell_type": "code",
   "execution_count": 13,
   "id": "1c2d31ad-67bf-48dc-b43e-d449a8e3ca8b",
   "metadata": {},
   "outputs": [
    {
     "name": "stdout",
     "output_type": "stream",
     "text": [
      "Mean Squared Error Test: 44411.586752757525\n",
      "Mean Squared Error Train: 44734.21567641926\n"
     ]
    }
   ],
   "source": [
    "# Settings\n",
    "experiment_name = \"00-sagemaker-test\"\n",
    "variables_x = ['aapl.us_zamkniecie', 'mcd.us_zamkniecie', 'msft.us_zamkniecie']\n",
    "variable_y = '^spx_zamkniecie'\n",
    "run_name = f\"linear-regression-trial-1\"\n",
    "\n",
    "# Prepare the dataset\n",
    "X = df[variables_x]\n",
    "y = df[variable_y]\n",
    "X_train, X_test, y_train, y_test = train_test_split(X, y, test_size=0.2, random_state=42)\n",
    "\n",
    "#with Run(experiment_name = experiment_name) as run:\n",
    "#with load_run(experiment_name = experiment_name, run_name = run_name) as run:\n",
    "with Run(experiment_name = experiment_name, run_name = run_name) as run:\n",
    "    # Log parameters\n",
    "    run.log_parameter(\"variables\", ','.join(variables_x))\n",
    "    run.log_parameter(\"power\", 1)\n",
    "    \n",
    "    # Log files\n",
    "    # Files can be logged either as input files or output files (default)\n",
    "    run.log_file('/home/sagemaker-user/STOCKS/CHARTS/line_chart.png', is_output = False)\n",
    "\n",
    "    # Build the model\n",
    "    model = LinearRegression()\n",
    "    model.fit(X_train, y_train)\n",
    "    \n",
    "    # Evaluate the model\n",
    "    y_pred_test = model.predict(X_test)\n",
    "    mse_test = mean_squared_error(y_test, y_pred_test)\n",
    "    print(f\"Mean Squared Error Test: {mse_test}\")\n",
    "\n",
    "    y_pred_train = model.predict(X_train)\n",
    "    mse_train = mean_squared_error(y_train, y_pred_train)\n",
    "    print(f\"Mean Squared Error Train: {mse_train}\")    \n",
    "    \n",
    "    # Define metrics to log\n",
    "    run.log_metric(name = \"MSE test\", value = mse_test)\n",
    "    run.log_metric(name = \"MSE train\", value = mse_train)"
   ]
  },
  {
   "cell_type": "markdown",
   "id": "2880a8b5-87ce-42cd-b798-093d4c9478eb",
   "metadata": {},
   "source": [
    "### lets create an experiment with the same name as previously"
   ]
  },
  {
   "cell_type": "code",
   "execution_count": 14,
   "id": "876943e0-fe0d-4c42-8d07-082c53acf006",
   "metadata": {},
   "outputs": [
    {
     "name": "stderr",
     "output_type": "stream",
     "text": [
      "INFO:sagemaker.experiments.run:The run (linear-regression-trial-1) under experiment (00-sagemaker-test) already exists. Loading it.\n"
     ]
    },
    {
     "name": "stdout",
     "output_type": "stream",
     "text": [
      "Mean Squared Error Test: 49174.30727141729\n",
      "Mean Squared Error Train: 49536.06764334022\n"
     ]
    }
   ],
   "source": [
    "# Settings\n",
    "experiment_name = \"00-sagemaker-test\"\n",
    "variables_x = ['aapl.us_zamkniecie', 'mcd.us_zamkniecie']\n",
    "variable_y = '^spx_zamkniecie'\n",
    "run_name = f\"linear-regression-trial-1\"\n",
    "\n",
    "# Prepare the dataset\n",
    "X = df[variables_x]\n",
    "y = df[variable_y]\n",
    "X_train, X_test, y_train, y_test = train_test_split(X, y, test_size=0.2, random_state=42)\n",
    "\n",
    "#with Run(experiment_name = experiment_name) as run:\n",
    "#with load_run(experiment_name = experiment_name, run_name = run_name) as run:\n",
    "with Run(experiment_name = experiment_name, run_name = run_name) as run:\n",
    "    # Log parameters\n",
    "    run.log_parameter(\"variables\", ','.join(variables_x))\n",
    "    run.log_parameter(\"power\", 2)\n",
    "    \n",
    "    # Log files\n",
    "    # Files can be logged either as input files or output files (default)\n",
    "    run.log_file('/home/sagemaker-user/STOCKS/CHARTS/line_chart.png', is_output = False)\n",
    "\n",
    "    # Build the model\n",
    "    model = LinearRegression()\n",
    "    model.fit(X_train, y_train)\n",
    "    \n",
    "    # Evaluate the model\n",
    "    y_pred_test = model.predict(X_test)\n",
    "    mse_test = mean_squared_error(y_test, y_pred_test)\n",
    "    print(f\"Mean Squared Error Test: {mse_test}\")\n",
    "\n",
    "    y_pred_train = model.predict(X_train)\n",
    "    mse_train = mean_squared_error(y_train, y_pred_train)\n",
    "    print(f\"Mean Squared Error Train: {mse_train}\")    \n",
    "    \n",
    "    # Define metrics to log\n",
    "    run.log_metric(name = \"MSE test\", value = mse_test)\n",
    "    run.log_metric(name = \"MSE train\", value = mse_train)"
   ]
  },
  {
   "cell_type": "markdown",
   "id": "5583d842-84aa-41f1-9bd8-56ed57898bbb",
   "metadata": {},
   "source": [
    "- We receive a warning\n",
    "- Parameters are overwritten\n",
    "- Metrics are aggregated\n",
    "\n",
    "So, it makes sense to use the same only if the experiment is identical, with the only difference due to randomness"
   ]
  }
 ],
 "metadata": {
  "kernelspec": {
   "display_name": "Python 3 (ipykernel)",
   "language": "python",
   "name": "python3"
  },
  "language_info": {
   "codemirror_mode": {
    "name": "ipython",
    "version": 3
   },
   "file_extension": ".py",
   "mimetype": "text/x-python",
   "name": "python",
   "nbconvert_exporter": "python",
   "pygments_lexer": "ipython3",
   "version": "3.10.14"
  }
 },
 "nbformat": 4,
 "nbformat_minor": 5
}
