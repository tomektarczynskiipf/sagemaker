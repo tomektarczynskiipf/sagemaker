{
 "cells": [
  {
   "cell_type": "code",
   "execution_count": 1,
   "id": "7ebce63a-f89c-4ef7-8896-1c151f40fe54",
   "metadata": {},
   "outputs": [
    {
     "name": "stdout",
     "output_type": "stream",
     "text": [
      "Deleted local directory: /home/sagemaker-user/sagemaker/02_wine_mlflow_e2e/data\n",
      "Local directory does not exist: /home/sagemaker-user/sagemaker/02_wine_mlflow_e2e/model\n",
      "Deleted S3 directory: winde in bucket: sagemaker-bucket-ds\n"
     ]
    }
   ],
   "source": [
    "import boto3\n",
    "import os\n",
    "import shutil\n",
    "\n",
    "# Step 2: Define variables\n",
    "data_dir = '/home/sagemaker-user/sagemaker/02_wine_mlflow_e2e/data'\n",
    "model_dir = '/home/sagemaker-user/sagemaker/02_wine_mlflow_e2e/model'\n",
    "bucket_name = 'sagemaker-bucket-ds'\n",
    "project_dir_s3 = 'winde'\n",
    "\n",
    "# Step 3: Delete local directory\n",
    "if os.path.exists(data_dir):\n",
    "    shutil.rmtree(data_dir)\n",
    "    print(f\"Deleted local directory: {data_dir}\")\n",
    "else:\n",
    "    print(f\"Local directory does not exist: {data_dir}\")\n",
    "\n",
    "if os.path.exists(model_dir):\n",
    "    shutil.rmtree(model_dir)\n",
    "    print(f\"Deleted local directory: {model_dir}\")\n",
    "else:\n",
    "    print(f\"Local directory does not exist: {model_dir}\")\n",
    "\n",
    "# Step 4: Delete S3 directory\n",
    "s3 = boto3.resource('s3')\n",
    "bucket = s3.Bucket(bucket_name)\n",
    "\n",
    "# Delete objects in the S3 directory\n",
    "bucket.objects.filter(Prefix=project_dir_s3).delete()\n",
    "print(f\"Deleted S3 directory: {project_dir_s3} in bucket: {bucket_name}\")"
   ]
  }
 ],
 "metadata": {
  "kernelspec": {
   "display_name": "Python 3 (ipykernel)",
   "language": "python",
   "name": "python3"
  },
  "language_info": {
   "codemirror_mode": {
    "name": "ipython",
    "version": 3
   },
   "file_extension": ".py",
   "mimetype": "text/x-python",
   "name": "python",
   "nbconvert_exporter": "python",
   "pygments_lexer": "ipython3",
   "version": "3.10.14"
  }
 },
 "nbformat": 4,
 "nbformat_minor": 5
}
