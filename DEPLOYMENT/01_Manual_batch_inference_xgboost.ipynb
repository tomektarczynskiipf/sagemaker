{
 "cells": [
  {
   "cell_type": "code",
   "execution_count": 1,
   "id": "f505a219-c5a7-4a0d-8592-50b1f7cd1319",
   "metadata": {},
   "outputs": [
    {
     "name": "stdout",
     "output_type": "stream",
     "text": [
      "sagemaker.config INFO - Not applying SDK defaults from location: /etc/xdg/sagemaker/config.yaml\n",
      "sagemaker.config INFO - Not applying SDK defaults from location: /home/sagemaker-user/.config/sagemaker/config.yaml\n"
     ]
    }
   ],
   "source": [
    "import boto3\n",
    "import os\n",
    "import sagemaker\n",
    "import tarfile\n",
    "from sagemaker.transformer import Transformer\n",
    "from sagemaker.xgboost import XGBoostModel\n",
    "from sagemaker import get_execution_role\n",
    "import xgboost as xgb\n",
    "import pandas as pd"
   ]
  },
  {
   "cell_type": "markdown",
   "id": "eb16549b-4156-4578-8850-5c8eb3258ba9",
   "metadata": {},
   "source": [
    "SETTINGS"
   ]
  },
  {
   "cell_type": "code",
   "execution_count": 2,
   "id": "438331b4-e2a4-4e7f-ad8b-d4c1e3cdbe93",
   "metadata": {},
   "outputs": [],
   "source": [
    "model_data = 's3://sagemaker-eu-west-1-211125740051/xgboost-05-2024-07-01-10-55-25-128/output/model.tar.gz' # Specify the S3 path where the trained model is stored\n",
    "\n",
    "# The S3 bucket name and the file key\n",
    "model_bucket_name = 'sagemaker-eu-west-1-211125740051'\n",
    "model_file_key = 'xgboost-05-2024-07-01-10-55-25-128/output/model.tar.gz'\n",
    "\n",
    "# The S3 bucket name and the file key\n",
    "input_bucket_name = 'sagemaker-bucket-ds'\n",
    "input_file_key = 'training-jobs/data/inference_input/iris_inference.csv'\n",
    "\n",
    "local_directory = \"01_manual_prediction\" # Local path where the file will be saved"
   ]
  },
  {
   "cell_type": "markdown",
   "id": "fce702e2-8ba1-400f-b309-64231e025869",
   "metadata": {},
   "source": [
    "CREATE BASIC OBJECTS"
   ]
  },
  {
   "cell_type": "code",
   "execution_count": 3,
   "id": "42cc058e-4c9b-4665-9d04-fb4ab75a8643",
   "metadata": {},
   "outputs": [],
   "source": [
    "s3 = boto3.client('s3')"
   ]
  },
  {
   "cell_type": "markdown",
   "id": "9fed18b7-1c83-460d-9a8f-04f97cbd5c94",
   "metadata": {},
   "source": [
    "DOWNLOAD MODEL"
   ]
  },
  {
   "cell_type": "code",
   "execution_count": 4,
   "id": "2db57702-e43d-47f1-a90e-9bc903f59261",
   "metadata": {},
   "outputs": [
    {
     "name": "stdout",
     "output_type": "stream",
     "text": [
      "File downloaded to 01_manual_prediction/model.tar.gz\n"
     ]
    }
   ],
   "source": [
    "os.makedirs(\"01_manual_prediction\", exist_ok=True) # Create folder for training code\n",
    "\n",
    "local_file_path = os.path.join(local_directory, 'model.tar.gz')\n",
    "\n",
    "# Download the file from S3\n",
    "s3.download_file(model_bucket_name, model_file_key, local_file_path)\n",
    "\n",
    "print(f\"File downloaded to {local_file_path}\")"
   ]
  },
  {
   "cell_type": "markdown",
   "id": "0c287912-2890-4aed-9c66-f5523dbb66d1",
   "metadata": {},
   "source": [
    "UNPACK FILE"
   ]
  },
  {
   "cell_type": "code",
   "execution_count": 5,
   "id": "ab7d61df-1ad6-452a-8ab5-032a8a8fbc4c",
   "metadata": {},
   "outputs": [
    {
     "name": "stdout",
     "output_type": "stream",
     "text": [
      "File unpacked to 01_manual_prediction\n"
     ]
    }
   ],
   "source": [
    "# Unpack the tar.gz file\n",
    "with tarfile.open(local_file_path, 'r:gz') as tar:\n",
    "    tar.extractall(path=local_directory)\n",
    "\n",
    "print(f\"File unpacked to {local_directory}\")"
   ]
  },
  {
   "cell_type": "markdown",
   "id": "66084b3e-c958-47ba-a816-050252eb544e",
   "metadata": {},
   "source": [
    "LOAD MODEL"
   ]
  },
  {
   "cell_type": "code",
   "execution_count": 6,
   "id": "0278c237-ee18-4154-8038-5dd99a79c8ba",
   "metadata": {},
   "outputs": [],
   "source": [
    "# Define the directory where the model is saved\n",
    "model_path = os.path.join(local_directory, 'model.xgb')\n",
    "\n",
    "# Load the model\n",
    "bst = xgb.Booster()\n",
    "bst.load_model(model_path)"
   ]
  },
  {
   "cell_type": "markdown",
   "id": "906ce5bd-0bc3-459c-8a03-6e1e0938b33b",
   "metadata": {},
   "source": [
    "COPY INPUT DATA"
   ]
  },
  {
   "cell_type": "code",
   "execution_count": 7,
   "id": "8ff7eab9-dd5b-4975-aaf3-456ce834e572",
   "metadata": {},
   "outputs": [],
   "source": [
    "# Local path where the file will be saved\n",
    "local_file_path = os.path.join(local_directory, 'iris_inference.csv')\n",
    "\n",
    "# Download the file from S3\n",
    "s3.download_file(input_bucket_name, input_file_key, local_file_path)"
   ]
  },
  {
   "cell_type": "markdown",
   "id": "ac0be849-1307-402a-9f28-0c8527c1a711",
   "metadata": {},
   "source": [
    "LOAD INPUT DATA"
   ]
  },
  {
   "cell_type": "code",
   "execution_count": 8,
   "id": "77dabc5a-93d0-49ad-a62e-72b06ba78340",
   "metadata": {},
   "outputs": [
    {
     "name": "stdout",
     "output_type": "stream",
     "text": [
      "      0    1    2    3\n",
      "0   5.7  2.8  4.1  1.3\n",
      "1   4.9  3.0  1.4  0.2\n",
      "2   6.3  3.3  4.7  1.6\n",
      "3   4.7  3.2  1.3  0.2\n",
      "4   5.0  3.4  1.5  0.2\n",
      "5   5.8  4.0  1.2  0.2\n",
      "6   4.6  3.6  1.0  0.2\n",
      "7   5.2  3.4  1.4  0.2\n",
      "8   4.4  3.2  1.3  0.2\n",
      "9   6.0  2.9  4.5  1.5\n",
      "10  5.5  2.3  4.0  1.3\n",
      "11  5.1  3.4  1.5  0.2\n",
      "12  5.6  3.0  4.1  1.3\n",
      "13  4.9  2.4  3.3  1.0\n",
      "14  4.5  2.3  1.3  0.3\n",
      "15  6.4  3.2  4.5  1.5\n",
      "16  5.6  3.0  4.5  1.5\n",
      "17  5.1  3.7  1.5  0.4\n",
      "18  5.4  3.7  1.5  0.2\n",
      "19  5.4  3.4  1.7  0.2\n",
      "20  6.7  3.0  5.0  1.7\n",
      "21  6.1  2.9  4.7  1.4\n",
      "22  4.9  3.6  1.4  0.1\n",
      "23  5.1  3.3  1.7  0.5\n",
      "24  6.0  3.4  4.5  1.6\n",
      "25  5.4  3.0  4.5  1.5\n",
      "26  5.7  3.8  1.7  0.3\n",
      "27  5.7  2.8  4.5  1.3\n",
      "28  5.7  2.9  4.2  1.3\n",
      "29  4.4  3.0  1.3  0.2\n",
      "30  5.6  2.5  3.9  1.1\n",
      "31  5.0  2.3  3.3  1.0\n",
      "32  5.0  3.2  1.2  0.2\n"
     ]
    }
   ],
   "source": [
    "# Load the CSV file without headers\n",
    "df = pd.read_csv(local_file_path, header=None)\n",
    "\n",
    "# Print the DataFrame to confirm\n",
    "print(df)"
   ]
  },
  {
   "cell_type": "markdown",
   "id": "841a175f-332f-4014-a1d4-49a563bdbd37",
   "metadata": {},
   "source": [
    "CALCULATE THE PREDICTIONS"
   ]
  },
  {
   "cell_type": "code",
   "execution_count": 9,
   "id": "c779270e-bba0-4b6e-88e0-8a9b2121f3df",
   "metadata": {},
   "outputs": [
    {
     "name": "stdout",
     "output_type": "stream",
     "text": [
      "Predictions:\n",
      "[0.9136281 0.0870214 0.9136281 0.0870214 0.0870214 0.0870214 0.0870214\n",
      " 0.0870214 0.0870214 0.9136281 0.9136281 0.0870214 0.9136281 0.9136281\n",
      " 0.0870214 0.9136281 0.9136281 0.0870214 0.0870214 0.0870214 0.9136281\n",
      " 0.9136281 0.0870214 0.0870214 0.9136281 0.9136281 0.0870214 0.9136281\n",
      " 0.9136281 0.0870214 0.9136281 0.9136281 0.0870214]\n"
     ]
    }
   ],
   "source": [
    "# Convert the DataFrame to DMatrix\n",
    "dmat = xgb.DMatrix(df)\n",
    "\n",
    "# Make predictions\n",
    "predictions = bst.predict(dmat)\n",
    "\n",
    "print(\"Predictions:\")\n",
    "print(predictions)"
   ]
  }
 ],
 "metadata": {
  "kernelspec": {
   "display_name": "Python 3 (ipykernel)",
   "language": "python",
   "name": "python3"
  },
  "language_info": {
   "codemirror_mode": {
    "name": "ipython",
    "version": 3
   },
   "file_extension": ".py",
   "mimetype": "text/x-python",
   "name": "python",
   "nbconvert_exporter": "python",
   "pygments_lexer": "ipython3",
   "version": "3.10.14"
  }
 },
 "nbformat": 4,
 "nbformat_minor": 5
}
