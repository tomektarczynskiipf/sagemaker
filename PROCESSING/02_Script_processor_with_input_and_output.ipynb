{
 "cells": [
  {
   "cell_type": "code",
   "execution_count": 1,
   "id": "8dad1d04-2128-4a13-affa-d652d6de88a9",
   "metadata": {},
   "outputs": [
    {
     "name": "stdout",
     "output_type": "stream",
     "text": [
      "sagemaker.config INFO - Not applying SDK defaults from location: /etc/xdg/sagemaker/config.yaml\n",
      "sagemaker.config INFO - Not applying SDK defaults from location: /home/sagemaker-user/.config/sagemaker/config.yaml\n"
     ]
    }
   ],
   "source": [
    "import sagemaker\n",
    "import os\n",
    "from sagemaker.processing import ScriptProcessor, ProcessingInput, ProcessingOutput\n",
    "from sagemaker import get_execution_role"
   ]
  },
  {
   "cell_type": "code",
   "execution_count": 2,
   "id": "96275145-9a32-4fc3-aca3-4488d8b740f3",
   "metadata": {},
   "outputs": [],
   "source": [
    "role = get_execution_role()\n",
    "sagemaker_session = sagemaker.Session()\n",
    "region = sagemaker_session.boto_region_name"
   ]
  },
  {
   "cell_type": "code",
   "execution_count": 3,
   "id": "e24d687c-35a4-4c87-8dc5-9d89b997b17a",
   "metadata": {},
   "outputs": [
    {
     "name": "stdout",
     "output_type": "stream",
     "text": [
      "141502667606.dkr.ecr.eu-west-1.amazonaws.com/sagemaker-scikit-learn:1.2-1-cpu-py3\n"
     ]
    }
   ],
   "source": [
    "model_img = sagemaker.image_uris.retrieve(\"sklearn\", region, \"1.2-1\") # This function returns path to latest docker image\n",
    "print(model_img)"
   ]
  },
  {
   "cell_type": "code",
   "execution_count": 6,
   "id": "167a4bff-c010-4de8-a6c4-0ece1268e779",
   "metadata": {},
   "outputs": [],
   "source": [
    "os.makedirs(\"02_input_output\", exist_ok=True) # Create folder for training code"
   ]
  },
  {
   "cell_type": "code",
   "execution_count": 8,
   "id": "3894a537-ea97-46e1-9bbd-5957ebe8e1aa",
   "metadata": {},
   "outputs": [
    {
     "name": "stdout",
     "output_type": "stream",
     "text": [
      "Overwriting 02_input_output/sample_data.csv\n"
     ]
    }
   ],
   "source": [
    "%%writefile 02_input_output/sample_data.csv\n",
    "a,b,c\n",
    "2,3,4\n",
    "5,6,7\n",
    "8,9,10"
   ]
  },
  {
   "cell_type": "code",
   "execution_count": 23,
   "id": "e413512b-cea4-4ad0-9201-151dc7519696",
   "metadata": {},
   "outputs": [
    {
     "name": "stdout",
     "output_type": "stream",
     "text": [
      "Overwriting 02_input_output/process_data.py\n"
     ]
    }
   ],
   "source": [
    "%%writefile 02_input_output/process_data.py\n",
    "from __future__ import print_function\n",
    "import pandas as pd\n",
    "import os\n",
    "\n",
    "if __name__ == '__main__':\n",
    "\n",
    "    for key, value in os.environ.items():\n",
    "        print(f\"{key}: {value}\")\n",
    "\n",
    "    input_path = \"/opt/ml/processing/input/myinput/\"\n",
    "    output_path = '/opt/ml/processing/output/'\n",
    "\n",
    "    input_file_path = os.path.join(input_path, \"sample_data.csv\")\n",
    "    output_file_path = os.path.join(output_path, \"output.csv\")\n",
    "    \n",
    "    # Read the CSV file\n",
    "    df = pd.read_csv(input_file_path)\n",
    "    \n",
    "    # Calculate the sum of all columns\n",
    "    column_sums = df.sum()\n",
    "    \n",
    "    # Store the sums in a text file\n",
    "    with open(output_file_path, 'w') as f:\n",
    "        for column, sum_value in column_sums.items():\n",
    "            f.write(f'{column}: {sum_value}\\n')"
   ]
  },
  {
   "cell_type": "code",
   "execution_count": 24,
   "id": "c03ba58f-56f8-4236-841e-0d33e1c8c652",
   "metadata": {},
   "outputs": [
    {
     "name": "stdout",
     "output_type": "stream",
     "text": [
      "upload: 02_input_output/process_data.py to s3://sagemaker-bucket-ds/PROCESSING/02_CODE/process_data.py\n",
      "upload: 02_input_output/sample_data.csv to s3://sagemaker-bucket-ds/PROCESSING/02_INPUT/sample_data.csv\n"
     ]
    }
   ],
   "source": [
    "!aws s3 cp 02_input_output/process_data.py s3://sagemaker-bucket-ds/PROCESSING/02_CODE/\n",
    "!aws s3 cp 02_input_output/sample_data.csv s3://sagemaker-bucket-ds/PROCESSING/02_INPUT/"
   ]
  },
  {
   "cell_type": "code",
   "execution_count": 25,
   "id": "14d9aed7-4393-46a6-b0ca-11902e636366",
   "metadata": {},
   "outputs": [],
   "source": [
    "# Define the ScriptProcessor\n",
    "script_processor = ScriptProcessor(\n",
    "    role=role,\n",
    "    image_uri=model_img,\n",
    "    command=['python3'],\n",
    "    instance_count=1,\n",
    "    instance_type='ml.t3.medium',\n",
    "    volume_size_in_gb=5,\n",
    "    max_runtime_in_seconds=3600,\n",
    "    base_job_name='02-processing-job',\n",
    "    sagemaker_session=sagemaker_session\n",
    ")"
   ]
  },
  {
   "cell_type": "code",
   "execution_count": 26,
   "id": "1caaa053-b2f5-4685-8db2-6ae60008fa37",
   "metadata": {},
   "outputs": [],
   "source": [
    "# Define the Processing Inputs and Outputs\n",
    "processing_inputs = [\n",
    "\n",
    "    ProcessingInput(\n",
    "        source='s3://sagemaker-bucket-ds/PROCESSING/02_INPUT/',\n",
    "        destination='/opt/ml/processing/input/myinput/',\n",
    "        input_name='INPUT1'\n",
    "    )\n",
    "]\n",
    "\n",
    "processing_outputs = [\n",
    "    ProcessingOutput(\n",
    "        source='/opt/ml/processing/output/',\n",
    "        destination='s3://sagemaker-bucket-ds/PROCESSING/02_OUTPUT/',\n",
    "        output_name='OUTPUT1'\n",
    "    )\n",
    "]"
   ]
  },
  {
   "cell_type": "code",
   "execution_count": 27,
   "id": "3e8716fb-47a9-4627-ba0f-27ab9146592d",
   "metadata": {},
   "outputs": [
    {
     "name": "stderr",
     "output_type": "stream",
     "text": [
      "INFO:sagemaker:Creating processing-job with name 02-processing-job-2024-07-10-14-58-23-149\n"
     ]
    },
    {
     "name": "stdout",
     "output_type": "stream",
     "text": [
      "............................................................................................\u001b[34mPATH: /miniconda3/bin:/usr/local/sbin:/usr/local/bin:/usr/sbin:/usr/bin:/sbin:/bin\u001b[0m\n",
      "\u001b[34mHOSTNAME: ip-10-0-244-125.eu-west-1.compute.internal\u001b[0m\n",
      "\u001b[34mAWS_REGION: eu-west-1\u001b[0m\n",
      "\u001b[34mAWS_CONTAINER_CREDENTIALS_RELATIVE_URI: /v2/credentials/U-A3py6Mt4msUOE8E4cvZP9zuO1MgFPsfLnCYgLZLM4\u001b[0m\n",
      "\u001b[34mDEBIAN_FRONTEND: noninteractive\u001b[0m\n",
      "\u001b[34mPIP_ROOT_USER_ACTION: ignore\u001b[0m\n",
      "\u001b[34mPYTHONDONTWRITEBYTECODE: 1\u001b[0m\n",
      "\u001b[34mPYTHONUNBUFFERED: 1\u001b[0m\n",
      "\u001b[34mPYTHONIOENCODING: UTF-8\u001b[0m\n",
      "\u001b[34mLANG: C.UTF-8\u001b[0m\n",
      "\u001b[34mLC_ALL: C.UTF-8\u001b[0m\n",
      "\u001b[34mSAGEMAKER_SKLEARN_VERSION: 1.2-1\u001b[0m\n",
      "\u001b[34mSAGEMAKER_TRAINING_MODULE: sagemaker_sklearn_container.training:main\u001b[0m\n",
      "\u001b[34mSAGEMAKER_SERVING_MODULE: sagemaker_sklearn_container.serving:main\u001b[0m\n",
      "\u001b[34mSKLEARN_MMS_CONFIG: /home/model-server/config.properties\u001b[0m\n",
      "\u001b[34mSM_INPUT: /opt/ml/input\u001b[0m\n",
      "\u001b[34mSM_INPUT_TRAINING_CONFIG_FILE: /opt/ml/input/config/hyperparameters.json\u001b[0m\n",
      "\u001b[34mSM_INPUT_DATA_CONFIG_FILE: /opt/ml/input/config/inputdataconfig.json\u001b[0m\n",
      "\u001b[34mSM_CHECKPOINT_CONFIG_FILE: /opt/ml/input/config/checkpointconfig.json\u001b[0m\n",
      "\u001b[34mSM_MODEL_DIR: /opt/ml/model\u001b[0m\n",
      "\u001b[34mTEMP: /home/model-server/tmp\u001b[0m\n",
      "\u001b[34mHOME: /root\u001b[0m\n",
      "\n"
     ]
    }
   ],
   "source": [
    "# Run the Processing Job\n",
    "script_processor.run(\n",
    "    code='s3://sagemaker-bucket-ds/PROCESSING/02_CODE/process_data.py',\n",
    "    inputs=processing_inputs,\n",
    "    outputs=processing_outputs\n",
    ")"
   ]
  }
 ],
 "metadata": {
  "kernelspec": {
   "display_name": "Python 3 (ipykernel)",
   "language": "python",
   "name": "python3"
  },
  "language_info": {
   "codemirror_mode": {
    "name": "ipython",
    "version": 3
   },
   "file_extension": ".py",
   "mimetype": "text/x-python",
   "name": "python",
   "nbconvert_exporter": "python",
   "pygments_lexer": "ipython3",
   "version": "3.10.14"
  }
 },
 "nbformat": 4,
 "nbformat_minor": 5
}
