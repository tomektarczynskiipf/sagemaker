{
 "cells": [
  {
   "cell_type": "code",
   "execution_count": 11,
   "id": "8dad1d04-2128-4a13-affa-d652d6de88a9",
   "metadata": {},
   "outputs": [],
   "source": [
    "import sagemaker\n",
    "import os\n",
    "from sagemaker.processing import ScriptProcessor, ProcessingInput, ProcessingOutput\n",
    "from sagemaker import get_execution_role"
   ]
  },
  {
   "cell_type": "code",
   "execution_count": 8,
   "id": "96275145-9a32-4fc3-aca3-4488d8b740f3",
   "metadata": {},
   "outputs": [],
   "source": [
    "role = get_execution_role()\n",
    "sagemaker_session = sagemaker.Session()\n",
    "region = sagemaker_session.boto_region_name"
   ]
  },
  {
   "cell_type": "code",
   "execution_count": 9,
   "id": "e24d687c-35a4-4c87-8dc5-9d89b997b17a",
   "metadata": {},
   "outputs": [
    {
     "name": "stderr",
     "output_type": "stream",
     "text": [
      "INFO:sagemaker.image_uris:Defaulting to only available Python version: py3\n",
      "INFO:sagemaker.image_uris:Defaulting to only supported image scope: cpu.\n"
     ]
    },
    {
     "name": "stdout",
     "output_type": "stream",
     "text": [
      "141502667606.dkr.ecr.eu-west-1.amazonaws.com/sagemaker-scikit-learn:1.2-1-cpu-py3\n"
     ]
    }
   ],
   "source": [
    "model_img = sagemaker.image_uris.retrieve(\"sklearn\", region, \"1.2-1\") # This function returns path to latest docker image\n",
    "print(model_img)"
   ]
  },
  {
   "cell_type": "code",
   "execution_count": 12,
   "id": "167a4bff-c010-4de8-a6c4-0ece1268e779",
   "metadata": {},
   "outputs": [],
   "source": [
    "os.makedirs(\"01_simple_processing\", exist_ok=True) # Create folder for training code"
   ]
  },
  {
   "cell_type": "code",
   "execution_count": 13,
   "id": "e413512b-cea4-4ad0-9201-151dc7519696",
   "metadata": {},
   "outputs": [
    {
     "name": "stdout",
     "output_type": "stream",
     "text": [
      "Writing 01_simple_processing/create_text_file.py\n"
     ]
    }
   ],
   "source": [
    "%%writefile 01_simple_processing/create_text_file.py\n",
    "from __future__ import print_function\n",
    "import boto3\n",
    "from botocore.exceptions import NoCredentialsError\n",
    "\n",
    "if __name__ == '__main__':\n",
    "\n",
    "    def upload_to_s3(bucket_name, file_name, content):\n",
    "        # Create an S3 client\n",
    "        s3 = boto3.client('s3')\n",
    "    \n",
    "        try:\n",
    "            # Upload the file\n",
    "            s3.put_object(Bucket=bucket_name, Key=file_name, Body=content)\n",
    "            print(f\"File '{file_name}' uploaded to bucket '{bucket_name}'.\")\n",
    "        except NoCredentialsError:\n",
    "            print(\"Credentials not available.\")\n",
    "    \n",
    "    # Define your bucket name, file name, and content\n",
    "    bucket_name = 'sagemaker-bucket-ds'\n",
    "    file_name = '01_example.txt'\n",
    "    content = 'Hello, this is a test file.'\n",
    "    \n",
    "    # Upload the file\n",
    "    upload_to_s3(bucket_name, file_name, content)"
   ]
  },
  {
   "cell_type": "code",
   "execution_count": 14,
   "id": "c03ba58f-56f8-4236-841e-0d33e1c8c652",
   "metadata": {},
   "outputs": [
    {
     "name": "stdout",
     "output_type": "stream",
     "text": [
      "upload: 01_simple_processing/create_text_file.py to s3://sagemaker-bucket-ds/PROCESSING/01_CODE/create_text_file.py\n"
     ]
    }
   ],
   "source": [
    "!aws s3 cp 01_simple_processing/create_text_file.py s3://sagemaker-bucket-ds/PROCESSING/01_CODE/"
   ]
  },
  {
   "cell_type": "code",
   "execution_count": 15,
   "id": "14d9aed7-4393-46a6-b0ca-11902e636366",
   "metadata": {},
   "outputs": [],
   "source": [
    "# Define the ScriptProcessor\n",
    "script_processor = ScriptProcessor(\n",
    "    role=role,\n",
    "    image_uri=model_img,\n",
    "    command=['python3'],\n",
    "    instance_count=1,\n",
    "    instance_type='ml.t3.medium',\n",
    "    volume_size_in_gb=5,\n",
    "    max_runtime_in_seconds=3600,\n",
    "    base_job_name='01-processing-job',\n",
    "    sagemaker_session=sagemaker_session\n",
    ")"
   ]
  },
  {
   "cell_type": "code",
   "execution_count": 16,
   "id": "1caaa053-b2f5-4685-8db2-6ae60008fa37",
   "metadata": {},
   "outputs": [],
   "source": [
    "# Define the Processing Inputs and Outputs\n",
    "processing_inputs = []\n",
    "\n",
    "processing_outputs = []\n",
    "\n"
   ]
  },
  {
   "cell_type": "code",
   "execution_count": null,
   "id": "3e8716fb-47a9-4627-ba0f-27ab9146592d",
   "metadata": {},
   "outputs": [
    {
     "name": "stderr",
     "output_type": "stream",
     "text": [
      "INFO:sagemaker:Creating processing-job with name 01-processing-job-2024-07-10-14-06-54-739\n"
     ]
    },
    {
     "name": "stdout",
     "output_type": "stream",
     "text": [
      "...."
     ]
    }
   ],
   "source": [
    "# Run the Processing Job\n",
    "script_processor.run(\n",
    "    code='s3://sagemaker-bucket-ds/PROCESSING/01_CODE/create_text_file.py',\n",
    "    inputs=processing_inputs,\n",
    "    outputs=processing_outputs\n",
    ")"
   ]
  }
 ],
 "metadata": {
  "kernelspec": {
   "display_name": "Python 3 (ipykernel)",
   "language": "python",
   "name": "python3"
  },
  "language_info": {
   "codemirror_mode": {
    "name": "ipython",
    "version": 3
   },
   "file_extension": ".py",
   "mimetype": "text/x-python",
   "name": "python",
   "nbconvert_exporter": "python",
   "pygments_lexer": "ipython3",
   "version": "3.10.14"
  }
 },
 "nbformat": 4,
 "nbformat_minor": 5
}
