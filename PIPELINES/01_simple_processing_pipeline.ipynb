{
 "cells": [
  {
   "cell_type": "code",
   "execution_count": 6,
   "id": "1798024c-9406-41e0-a73e-ba1d0bcbe55a",
   "metadata": {},
   "outputs": [],
   "source": [
    "import boto3\n",
    "import sagemaker\n",
    "import sagemaker.session\n",
    "import os\n",
    "from sagemaker.workflow.pipeline_context import PipelineSession"
   ]
  },
  {
   "cell_type": "code",
   "execution_count": 7,
   "id": "dab1dba8-20ce-4be2-931d-d0a640712d05",
   "metadata": {},
   "outputs": [],
   "source": [
    "region = boto3.Session().region_name\n",
    "sagemaker_session = sagemaker.session.Session()\n",
    "role = sagemaker.get_execution_role()\n",
    "default_bucket = sagemaker_session.default_bucket()\n",
    "\n",
    "pipeline_session = PipelineSession()"
   ]
  },
  {
   "cell_type": "code",
   "execution_count": 8,
   "id": "0ebc6769-7969-48a3-b84c-f3b6e53ffc22",
   "metadata": {},
   "outputs": [],
   "source": [
    "os.makedirs(\"01_simple_processing_pipeline\", exist_ok=True) # Create folder for training code"
   ]
  },
  {
   "cell_type": "code",
   "execution_count": 11,
   "id": "dd063024-0daa-4879-9daf-b0698bfe1d13",
   "metadata": {},
   "outputs": [
    {
     "name": "stdout",
     "output_type": "stream",
     "text": [
      "Writing 01_simple_processing_pipeline/processing.py\n"
     ]
    }
   ],
   "source": [
    "%%writefile 01_simple_processing_pipeline/processing.py\n",
    "\n",
    "import os\n",
    "import pandas as pd\n",
    "import numpy as np\n",
    "\n",
    "from sklearn import datasets\n",
    "from sklearn.model_selection import train_test_split\n",
    "\n",
    "\n",
    "if __name__ == '__main__':\n",
    "    \n",
    "    iris = datasets.load_iris()\n",
    "    df = pd.DataFrame(data=iris.data, columns=iris.feature_names)\n",
    "    df[\"class\"] = pd.Series(iris.target)\n",
    "    df = df[df['class'].isin([0, 1])] # Lets keep only class 0 and 1 to have binary classification\n",
    "    df = df[[list(df.columns)[-1]] + list(df.columns)[:-1]] # Reorder target as the first column\n",
    "    df.columns = df.columns.str.replace(' ', '_').str.replace('(', '').str.replace(')', '')\n",
    "    \n",
    "    train_df, test_df = train_test_split(df, test_size=0.33, random_state=42, stratify=df[\"class\"])\n",
    "    \n",
    "    iris_train = train_df.to_numpy()\n",
    "    np.savetxt('/opt/ml/processing/output/iris_train.csv', iris_train, delimiter=',', fmt='%1.1f, %1.3f, %1.3f, %1.3f, %1.3f')\n",
    "    \n",
    "    iris_test = test_df.to_numpy()\n",
    "    np.savetxt('/opt/ml/processing/output/iris_test.csv', iris_test, delimiter=',', fmt='%1.1f, %1.3f, %1.3f, %1.3f, %1.3f')\n",
    "    \n",
    "    iris_inference = test_df.iloc[:, 1:].to_numpy()\n",
    "    np.savetxt('/opt/ml/processing/output/iris_inference.csv', iris_inference, delimiter=',', fmt='%1.3f, %1.3f, %1.3f, %1.3f')\n",
    "    \n",
    "    column_names_list = ','.join(df.columns)\n",
    "    with open('/opt/ml/processing/output//column_names.csv', 'w') as file:\n",
    "        file.write(column_names_list)"
   ]
  },
  {
   "cell_type": "code",
   "execution_count": 24,
   "id": "d6d96094-8071-4717-9568-969658b86908",
   "metadata": {},
   "outputs": [
    {
     "name": "stderr",
     "output_type": "stream",
     "text": [
      "INFO:sagemaker.image_uris:Defaulting to only available Python version: py3\n"
     ]
    }
   ],
   "source": [
    "from sagemaker.sklearn.processing import SKLearnProcessor\n",
    "\n",
    "framework_version = \"0.23-1\"\n",
    "\n",
    "sklearn_processor = SKLearnProcessor(\n",
    "    framework_version=framework_version,\n",
    "    instance_type='ml.t3.medium',\n",
    "    instance_count=1,\n",
    "    base_job_name=\"01-simple-processing-pipeline\",\n",
    "    sagemaker_session=pipeline_session,\n",
    "    role=role,\n",
    ")"
   ]
  },
  {
   "cell_type": "code",
   "execution_count": 25,
   "id": "60d67991-5f27-482d-bcb5-f5c4ba64f726",
   "metadata": {},
   "outputs": [],
   "source": [
    "from sagemaker.processing import ProcessingInput, ProcessingOutput\n",
    "from sagemaker.workflow.steps import ProcessingStep\n",
    "   \n",
    "processor_args = sklearn_processor.run(\n",
    "    inputs=[],\n",
    "    outputs=[\n",
    "        ProcessingOutput(\n",
    "            output_name=\"default\",\n",
    "            source=\"/opt/ml/processing/output\",\n",
    "            destination='s3://sagemaker-bucket-ds/PIPELINE/01_simple_processing_pipeline/',),\n",
    "\n",
    "    ],\n",
    "    code=\"01_simple_processing_pipeline/processing.py\",\n",
    ") \n",
    "\n",
    "step_process = ProcessingStep(\n",
    "    name=\"Preprocessing\",\n",
    "    step_args=processor_args\n",
    ")"
   ]
  },
  {
   "cell_type": "code",
   "execution_count": 26,
   "id": "536ddba7-58da-4e5c-a850-8ccff425112b",
   "metadata": {},
   "outputs": [],
   "source": [
    "from sagemaker.workflow.pipeline import Pipeline\n",
    "\n",
    "pipeline_name = f\"01-simple-processing-pipeline\"\n",
    "pipeline = Pipeline(\n",
    "    name=pipeline_name,\n",
    "    steps=[step_process],\n",
    ")"
   ]
  },
  {
   "cell_type": "code",
   "execution_count": 27,
   "id": "b8fa79f3-543a-4566-9b4c-71835b14d6b1",
   "metadata": {},
   "outputs": [
    {
     "name": "stderr",
     "output_type": "stream",
     "text": [
      "WARNING:sagemaker.workflow.utilities:Popping out 'ProcessingJobName' from the pipeline definition by default since it will be overridden at pipeline execution time. Please utilize the PipelineDefinitionConfig to persist this field in the pipeline definition if desired.\n",
      "WARNING:sagemaker.workflow.utilities:Popping out 'ProcessingJobName' from the pipeline definition by default since it will be overridden at pipeline execution time. Please utilize the PipelineDefinitionConfig to persist this field in the pipeline definition if desired.\n"
     ]
    },
    {
     "data": {
      "text/plain": [
       "{'PipelineArn': 'arn:aws:sagemaker:eu-west-1:211125740051:pipeline/01-simple-processing-pipeline',\n",
       " 'ResponseMetadata': {'RequestId': '74b95fae-6392-4c44-ae8d-f8f7662e8008',\n",
       "  'HTTPStatusCode': 200,\n",
       "  'HTTPHeaders': {'x-amzn-requestid': '74b95fae-6392-4c44-ae8d-f8f7662e8008',\n",
       "   'content-type': 'application/x-amz-json-1.1',\n",
       "   'content-length': '97',\n",
       "   'date': 'Thu, 11 Jul 2024 10:02:23 GMT'},\n",
       "  'RetryAttempts': 0}}"
      ]
     },
     "execution_count": 27,
     "metadata": {},
     "output_type": "execute_result"
    }
   ],
   "source": [
    "pipeline.upsert(role_arn=role)"
   ]
  },
  {
   "cell_type": "code",
   "execution_count": 28,
   "id": "6c5454ed-ae66-4c0e-b552-3fd0152f1466",
   "metadata": {},
   "outputs": [],
   "source": [
    "execution = pipeline.start()"
   ]
  }
 ],
 "metadata": {
  "kernelspec": {
   "display_name": "Python 3 (ipykernel)",
   "language": "python",
   "name": "python3"
  },
  "language_info": {
   "codemirror_mode": {
    "name": "ipython",
    "version": 3
   },
   "file_extension": ".py",
   "mimetype": "text/x-python",
   "name": "python",
   "nbconvert_exporter": "python",
   "pygments_lexer": "ipython3",
   "version": "3.10.14"
  }
 },
 "nbformat": 4,
 "nbformat_minor": 5
}
